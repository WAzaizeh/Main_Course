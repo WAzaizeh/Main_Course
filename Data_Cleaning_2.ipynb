{
 "cells": [
  {
   "cell_type": "code",
   "execution_count": 48,
   "metadata": {},
   "outputs": [],
   "source": [
    "import pandas as pd\n",
    "import numpy as np\n",
    "from sqlalchemy import create_engine\n",
    "import warnings\n",
    "import seaborn as sns\n",
    "import matplotlib.pyplot as plt\n",
    "from scipy.stats import zscore\n",
    "from scipy.stats.mstats import winsorize\n",
    "import scipy.stats\n",
    "import statistics\n",
    "import scipy.stats as stats\n",
    "\n",
    "warnings.filterwarnings('ignore')"
   ]
  },
  {
   "cell_type": "code",
   "execution_count": 3,
   "metadata": {},
   "outputs": [],
   "source": [
    "postgres_user = 'dsbc_student'\n",
    "postgres_pw = '7*.8G9QH21'\n",
    "postgres_host = '142.93.121.174'\n",
    "postgres_port = '5432'\n",
    "postgres_db = 'studentsperformance'\n",
    "\n",
    "engine = create_engine('postgresql://{}:{}@{}:{}/{}'.format(\n",
    "    postgres_user, postgres_pw, postgres_host, postgres_port, postgres_db))\n",
    "\n",
    "exam_df = pd.read_sql_query('select * from studentsperformance',con=engine)\n",
    "\n",
    "# no need for an open connection, \n",
    "# as we're only doing a single query\n",
    "engine.dispose()"
   ]
  },
  {
   "cell_type": "code",
   "execution_count": 5,
   "metadata": {},
   "outputs": [
    {
     "name": "stdout",
     "output_type": "stream",
     "text": [
      "<class 'pandas.core.frame.DataFrame'>\n",
      "RangeIndex: 1000 entries, 0 to 999\n",
      "Data columns (total 8 columns):\n",
      "gender                         1000 non-null object\n",
      "race/ethnicity                 1000 non-null object\n",
      "parental level of education    1000 non-null object\n",
      "lunch                          1000 non-null object\n",
      "test preparation course        1000 non-null object\n",
      "math score                     1000 non-null int64\n",
      "reading score                  1000 non-null int64\n",
      "writing score                  1000 non-null int64\n",
      "dtypes: int64(3), object(5)\n",
      "memory usage: 62.6+ KB\n"
     ]
    }
   ],
   "source": [
    "exam_df.info()"
   ]
  },
  {
   "cell_type": "code",
   "execution_count": 30,
   "metadata": {
    "scrolled": true
   },
   "outputs": [
    {
     "data": {
      "text/plain": [
       "gender                         0\n",
       "race/ethnicity                 0\n",
       "parental level of education    0\n",
       "lunch                          0\n",
       "test preparation course        0\n",
       "math score                     0\n",
       "reading score                  0\n",
       "writing score                  0\n",
       "dtype: int64"
      ]
     },
     "execution_count": 30,
     "metadata": {},
     "output_type": "execute_result"
    }
   ],
   "source": [
    "# Percent of null enteries in each column\n",
    "len(exam_df) - exam_df.count()"
   ]
  },
  {
   "cell_type": "code",
   "execution_count": 7,
   "metadata": {
    "scrolled": true
   },
   "outputs": [
    {
     "data": {
      "text/html": [
       "<div>\n",
       "<style scoped>\n",
       "    .dataframe tbody tr th:only-of-type {\n",
       "        vertical-align: middle;\n",
       "    }\n",
       "\n",
       "    .dataframe tbody tr th {\n",
       "        vertical-align: top;\n",
       "    }\n",
       "\n",
       "    .dataframe thead th {\n",
       "        text-align: right;\n",
       "    }\n",
       "</style>\n",
       "<table border=\"1\" class=\"dataframe\">\n",
       "  <thead>\n",
       "    <tr style=\"text-align: right;\">\n",
       "      <th></th>\n",
       "      <th>gender</th>\n",
       "      <th>race/ethnicity</th>\n",
       "      <th>parental level of education</th>\n",
       "      <th>lunch</th>\n",
       "      <th>test preparation course</th>\n",
       "      <th>math score</th>\n",
       "      <th>reading score</th>\n",
       "      <th>writing score</th>\n",
       "    </tr>\n",
       "  </thead>\n",
       "  <tbody>\n",
       "    <tr>\n",
       "      <th>count</th>\n",
       "      <td>1000</td>\n",
       "      <td>1000</td>\n",
       "      <td>1000</td>\n",
       "      <td>1000</td>\n",
       "      <td>1000</td>\n",
       "      <td>1000.00000</td>\n",
       "      <td>1000.000000</td>\n",
       "      <td>1000.000000</td>\n",
       "    </tr>\n",
       "    <tr>\n",
       "      <th>unique</th>\n",
       "      <td>2</td>\n",
       "      <td>5</td>\n",
       "      <td>6</td>\n",
       "      <td>2</td>\n",
       "      <td>2</td>\n",
       "      <td>NaN</td>\n",
       "      <td>NaN</td>\n",
       "      <td>NaN</td>\n",
       "    </tr>\n",
       "    <tr>\n",
       "      <th>top</th>\n",
       "      <td>female</td>\n",
       "      <td>group C</td>\n",
       "      <td>some college</td>\n",
       "      <td>standard</td>\n",
       "      <td>none</td>\n",
       "      <td>NaN</td>\n",
       "      <td>NaN</td>\n",
       "      <td>NaN</td>\n",
       "    </tr>\n",
       "    <tr>\n",
       "      <th>freq</th>\n",
       "      <td>518</td>\n",
       "      <td>319</td>\n",
       "      <td>226</td>\n",
       "      <td>645</td>\n",
       "      <td>642</td>\n",
       "      <td>NaN</td>\n",
       "      <td>NaN</td>\n",
       "      <td>NaN</td>\n",
       "    </tr>\n",
       "    <tr>\n",
       "      <th>mean</th>\n",
       "      <td>NaN</td>\n",
       "      <td>NaN</td>\n",
       "      <td>NaN</td>\n",
       "      <td>NaN</td>\n",
       "      <td>NaN</td>\n",
       "      <td>66.08900</td>\n",
       "      <td>69.169000</td>\n",
       "      <td>68.054000</td>\n",
       "    </tr>\n",
       "    <tr>\n",
       "      <th>std</th>\n",
       "      <td>NaN</td>\n",
       "      <td>NaN</td>\n",
       "      <td>NaN</td>\n",
       "      <td>NaN</td>\n",
       "      <td>NaN</td>\n",
       "      <td>15.16308</td>\n",
       "      <td>14.600192</td>\n",
       "      <td>15.195657</td>\n",
       "    </tr>\n",
       "    <tr>\n",
       "      <th>min</th>\n",
       "      <td>NaN</td>\n",
       "      <td>NaN</td>\n",
       "      <td>NaN</td>\n",
       "      <td>NaN</td>\n",
       "      <td>NaN</td>\n",
       "      <td>0.00000</td>\n",
       "      <td>17.000000</td>\n",
       "      <td>10.000000</td>\n",
       "    </tr>\n",
       "    <tr>\n",
       "      <th>25%</th>\n",
       "      <td>NaN</td>\n",
       "      <td>NaN</td>\n",
       "      <td>NaN</td>\n",
       "      <td>NaN</td>\n",
       "      <td>NaN</td>\n",
       "      <td>57.00000</td>\n",
       "      <td>59.000000</td>\n",
       "      <td>57.750000</td>\n",
       "    </tr>\n",
       "    <tr>\n",
       "      <th>50%</th>\n",
       "      <td>NaN</td>\n",
       "      <td>NaN</td>\n",
       "      <td>NaN</td>\n",
       "      <td>NaN</td>\n",
       "      <td>NaN</td>\n",
       "      <td>66.00000</td>\n",
       "      <td>70.000000</td>\n",
       "      <td>69.000000</td>\n",
       "    </tr>\n",
       "    <tr>\n",
       "      <th>75%</th>\n",
       "      <td>NaN</td>\n",
       "      <td>NaN</td>\n",
       "      <td>NaN</td>\n",
       "      <td>NaN</td>\n",
       "      <td>NaN</td>\n",
       "      <td>77.00000</td>\n",
       "      <td>79.000000</td>\n",
       "      <td>79.000000</td>\n",
       "    </tr>\n",
       "    <tr>\n",
       "      <th>max</th>\n",
       "      <td>NaN</td>\n",
       "      <td>NaN</td>\n",
       "      <td>NaN</td>\n",
       "      <td>NaN</td>\n",
       "      <td>NaN</td>\n",
       "      <td>100.00000</td>\n",
       "      <td>100.000000</td>\n",
       "      <td>100.000000</td>\n",
       "    </tr>\n",
       "  </tbody>\n",
       "</table>\n",
       "</div>"
      ],
      "text/plain": [
       "        gender race/ethnicity parental level of education     lunch  \\\n",
       "count     1000           1000                        1000      1000   \n",
       "unique       2              5                           6         2   \n",
       "top     female        group C                some college  standard   \n",
       "freq       518            319                         226       645   \n",
       "mean       NaN            NaN                         NaN       NaN   \n",
       "std        NaN            NaN                         NaN       NaN   \n",
       "min        NaN            NaN                         NaN       NaN   \n",
       "25%        NaN            NaN                         NaN       NaN   \n",
       "50%        NaN            NaN                         NaN       NaN   \n",
       "75%        NaN            NaN                         NaN       NaN   \n",
       "max        NaN            NaN                         NaN       NaN   \n",
       "\n",
       "       test preparation course  math score  reading score  writing score  \n",
       "count                     1000  1000.00000    1000.000000    1000.000000  \n",
       "unique                       2         NaN            NaN            NaN  \n",
       "top                       none         NaN            NaN            NaN  \n",
       "freq                       642         NaN            NaN            NaN  \n",
       "mean                       NaN    66.08900      69.169000      68.054000  \n",
       "std                        NaN    15.16308      14.600192      15.195657  \n",
       "min                        NaN     0.00000      17.000000      10.000000  \n",
       "25%                        NaN    57.00000      59.000000      57.750000  \n",
       "50%                        NaN    66.00000      70.000000      69.000000  \n",
       "75%                        NaN    77.00000      79.000000      79.000000  \n",
       "max                        NaN   100.00000     100.000000     100.000000  "
      ]
     },
     "execution_count": 7,
     "metadata": {},
     "output_type": "execute_result"
    }
   ],
   "source": [
    "exam_df.describe(include='all')"
   ]
  },
  {
   "cell_type": "markdown",
   "metadata": {},
   "source": [
    "# 1. Are there any differences between the genders, ethnicities, and parental level of education with respect to their performances in exams?"
   ]
  },
  {
   "cell_type": "code",
   "execution_count": 75,
   "metadata": {},
   "outputs": [
    {
     "data": {
      "image/png": "[encoded data removed]",
      "text/plain": [
       "<Figure size 720x360 with 3 Axes>"
      ]
     },
     "metadata": {
      "needs_background": "light"
     },
     "output_type": "display_data"
    },
    {
     "name": "stdout",
     "output_type": "stream",
     "text": [
      "------------------------------------------------\n",
      "Comparisons for variable: math score\n",
      "------------------------------------------------\n",
      "t-test between groups female and male:\n",
      "t = -5.383245869828983, p = 9.120185549328822e-08\n",
      "------------------------------------------------\n",
      "Comparisons for variable: reading score\n",
      "------------------------------------------------\n",
      "t-test between groups female and male:\n",
      "t = 7.959308005187657, p = 4.680538743933289e-15\n",
      "------------------------------------------------\n",
      "Comparisons for variable: writing score\n",
      "------------------------------------------------\n",
      "t-test between groups female and male:\n",
      "t = 9.979557910004507, p = 2.019877706867934e-22\n"
     ]
    }
   ],
   "source": [
    "# Gender vs. exam performance\n",
    "plt.figure(figsize = (10,5))\n",
    "\n",
    "plt.subplot(1,3,1)\n",
    "sns.barplot( exam_df['gender'], exam_df['math score'])\n",
    "plt.title('Gender vs. math grades')\n",
    "\n",
    "plt.subplot(1,3,2)\n",
    "sns.barplot( exam_df['gender'], exam_df['reading score'])\n",
    "plt.title('Gender vs. reading grades')\n",
    "\n",
    "plt.subplot(1,3,3)\n",
    "sns.barplot( exam_df['gender'], exam_df['writing score'])\n",
    "plt.title('Gender vs. writing grades')\n",
    "\n",
    "plt.tight_layout()\n",
    "plt.show()\n",
    "\n",
    "# t-test gender's effect on exam performance\n",
    "genders = exam_df['gender'].unique()\n",
    "for var in ['math score', 'reading score', 'writing score']:\n",
    "    print(\"------------------------------------------------\")\n",
    "    print(\"Comparisons for variable: {}\".format(var))\n",
    "    print(\"------------------------------------------------\")\n",
    "    for i in range(0, len(genders)):\n",
    "        for j in range(i+1, len(genders)):\n",
    "            print(\"t-test between groups {0} and {1}:\".format(genders[i], genders[j]))\n",
    "            print('t = {0}, p = {1}'.format(*stats.ttest_ind(\n",
    "                exam_df[exam_df['gender']==genders[i]][var], \n",
    "                exam_df[exam_df['gender']==genders[j]][var]\n",
    "            )))"
   ]
  },
  {
   "cell_type": "markdown",
   "metadata": {},
   "source": [
    "females are significantly better in reading and writing while males seem to be better at math"
   ]
  },
  {
   "cell_type": "code",
   "execution_count": 76,
   "metadata": {
    "scrolled": false
   },
   "outputs": [
    {
     "data": {
      "image/png": "[encoded data removed]",
      "text/plain": [
       "<Figure size 720x360 with 3 Axes>"
      ]
     },
     "metadata": {
      "needs_background": "light"
     },
     "output_type": "display_data"
    },
    {
     "name": "stdout",
     "output_type": "stream",
     "text": [
      "------------------------------------------------\n",
      "Comparisons for variable: math score\n",
      "------------------------------------------------\n",
      "t-test between groups group B and group C:\n",
      "t = -0.7315669893534263, p = 0.4647708939167453\n",
      "t-test between groups group B and group A:\n",
      "t = 0.9355076279747488, p = 0.3503415961659957\n",
      "t-test between groups group B and group D:\n",
      "t = -2.82845539712675, p = 0.004886197137104194\n",
      "t-test between groups group B and group E:\n",
      "t = -6.007397050552227, p = 5.007946047497971e-09\n",
      "t-test between groups group C and group A:\n",
      "t = 1.5997220303217299, p = 0.11043810745588042\n",
      "t-test between groups group C and group D:\n",
      "t = -2.41858624746011, p = 0.015888349556016285\n",
      "t-test between groups group C and group E:\n",
      "t = -6.127642520822135, p = 1.927238849552764e-09\n",
      "t-test between groups group A and group D:\n",
      "t = -3.3466982429712298, p = 0.0009068636053543751\n",
      "t-test between groups group A and group E:\n",
      "t = -5.936141025544798, p = 1.083559122656415e-08\n",
      "t-test between groups group D and group E:\n",
      "t = -4.282287214674715, p = 2.3187640326715042e-05\n",
      "------------------------------------------------\n",
      "Comparisons for variable: reading score\n",
      "------------------------------------------------\n",
      "t-test between groups group B and group C:\n",
      "t = -1.3223156212901772, p = 0.1866592809035069\n",
      "t-test between groups group B and group A:\n",
      "t = 1.3633682262027682, p = 0.1738735513443721\n",
      "t-test between groups group B and group D:\n",
      "t = -1.9451563636864795, p = 0.0523786206559701\n",
      "t-test between groups group B and group E:\n",
      "t = -3.386066945409153, p = 0.0007951618495240944\n",
      "t-test between groups group C and group A:\n",
      "t = 2.575432218066352, p = 0.010364398025471079\n",
      "t-test between groups group C and group D:\n",
      "t = -0.7970109316408917, p = 0.425771382113019\n",
      "t-test between groups group C and group E:\n",
      "t = -2.7133018645371685, p = 0.0069132842804986595\n",
      "t-test between groups group A and group D:\n",
      "t = -3.0468548573461187, p = 0.002488654464332207\n",
      "t-test between groups group A and group E:\n",
      "t = -4.071106227981414, p = 6.463395931833847e-05\n",
      "t-test between groups group D and group E:\n",
      "t = -2.0106479406031794, p = 0.045033306431345586\n",
      "------------------------------------------------\n",
      "Comparisons for variable: writing score\n",
      "------------------------------------------------\n",
      "t-test between groups group B and group C:\n",
      "t = -1.5964963433740407, p = 0.1110010959814519\n",
      "t-test between groups group B and group A:\n",
      "t = 1.4624420577998105, p = 0.14475374198993884\n",
      "t-test between groups group B and group D:\n",
      "t = -3.19929333232526, p = 0.0014749978881319053\n",
      "t-test between groups group B and group E:\n",
      "t = -3.3831978345244518, p = 0.0008032300486353951\n",
      "t-test between groups group C and group A:\n",
      "t = 2.848872404992454, p = 0.004610690740740428\n",
      "t-test between groups group C and group D:\n",
      "t = -1.8896631516726248, p = 0.05930232918708209\n",
      "t-test between groups group C and group E:\n",
      "t = -2.3502811868359177, p = 0.019183539018898285\n",
      "t-test between groups group A and group D:\n",
      "t = -4.1556316361449195, p = 4.084805733969806e-05\n",
      "t-test between groups group A and group E:\n",
      "t = -4.2234736631970105, p = 3.483278064499439e-05\n",
      "t-test between groups group D and group E:\n",
      "t = -0.8239736571520918, p = 0.4104455517392258\n"
     ]
    }
   ],
   "source": [
    "# Ethnicity vs. exam performance\n",
    "plt.figure(figsize = (10,5))\n",
    "\n",
    "plt.subplot(1,3,1)\n",
    "g = sns.barplot( exam_df['race/ethnicity'], exam_df['math score'])\n",
    "g.set_xticklabels(g.get_xticklabels(), rotation=30)\n",
    "plt.title('Ethnicity vs. math grades')\n",
    "\n",
    "plt.subplot(1,3,2)\n",
    "g = sns.barplot( exam_df['race/ethnicity'], exam_df['reading score'])\n",
    "g.set_xticklabels(g.get_xticklabels(), rotation=30)\n",
    "plt.title('Ethnicity vs. reading grades')\n",
    "\n",
    "plt.subplot(1,3,3)\n",
    "g = sns.barplot( exam_df['race/ethnicity'], exam_df['writing score'])\n",
    "g.set_xticklabels(g.get_xticklabels(), rotation=30)\n",
    "plt.title('Ethnicity vs. writing grades')\n",
    "\n",
    "plt.tight_layout()\n",
    "plt.show()\n",
    "\n",
    "# t-test ethnicity/race influence on exam performance\n",
    "ethnicities = exam_df['race/ethnicity'].unique()\n",
    "for var in ['math score', 'reading score', 'writing score']:\n",
    "    print(\"------------------------------------------------\")\n",
    "    print(\"Comparisons for variable: {}\".format(var))\n",
    "    print(\"------------------------------------------------\")\n",
    "    for i in range(0, len(ethnicities)):\n",
    "        for j in range(i+1, len(ethnicities)):\n",
    "            print(\"t-test between groups {0} and {1}:\".format(ethnicities[i], ethnicities[j]))\n",
    "            print('t = {0}, p = {1}'.format(*stats.ttest_ind(\n",
    "                exam_df[exam_df['race/ethnicity']==ethnicities[i]][var], \n",
    "                exam_df[exam_df['race/ethnicity']==ethnicities[j]][var]\n",
    "            )))"
   ]
  },
  {
   "cell_type": "markdown",
   "metadata": {},
   "source": [
    "Ethnic groups D and E seem to be significantly different from groups A,B and C in all subjects."
   ]
  },
  {
   "cell_type": "code",
   "execution_count": 80,
   "metadata": {
    "scrolled": false
   },
   "outputs": [
    {
     "data": {
      "image/png": "[encoded data removed]",
      "text/plain": [
       "<Figure size 720x360 with 3 Axes>"
      ]
     },
     "metadata": {
      "needs_background": "light"
     },
     "output_type": "display_data"
    },
    {
     "name": "stdout",
     "output_type": "stream",
     "text": [
      "------------------------------------------------\n",
      "Comparisons for variable: math score\n",
      "------------------------------------------------\n",
      "t-test between groups bachelor's degree and some college:\n",
      "t = 1.3702352829617477, p = 0.17151224218471559\n",
      "t-test between groups bachelor's degree and master's degree:\n",
      "t = -0.14868196568849312, p = 0.8819757824867702\n",
      "t-test between groups bachelor's degree and associate's degree:\n",
      "t = 0.8786641889793243, p = 0.38020757818036177\n",
      "t-test between groups bachelor's degree and high school:\n",
      "t = 4.236143622484822, p = 2.9965345853843376e-05\n",
      "t-test between groups bachelor's degree and some high school:\n",
      "t = 3.196718602676573, p = 0.0015409192922812146\n",
      "t-test between groups some college and master's degree:\n",
      "t = -1.2356334215824571, p = 0.21761956810347416\n",
      "t-test between groups some college and associate's degree:\n",
      "t = -0.5426842696247527, p = 0.5876182809234072\n",
      "t-test between groups some college and high school:\n",
      "t = 3.5461079495681163, p = 0.00043498004192453146\n",
      "t-test between groups some college and some high school:\n",
      "t = 2.4117046231407633, p = 0.016324361572645503\n",
      "t-test between groups master's degree and associate's degree:\n",
      "t = 0.8411229688563471, p = 0.4009993636124658\n",
      "t-test between groups master's degree and high school:\n",
      "t = 3.4893759321890823, p = 0.000570929230228812\n",
      "t-test between groups master's degree and some high school:\n",
      "t = 2.6442572081925526, p = 0.008736228790471057\n",
      "t-test between groups associate's degree and high school:\n",
      "t = 3.9481325318265013, p = 9.247314274963044e-05\n",
      "t-test between groups associate's degree and some high school:\n",
      "t = 2.820053979930256, p = 0.005041081492906143\n",
      "t-test between groups high school and some high school:\n",
      "t = -0.8640629490772553, p = 0.388108610360687\n",
      "------------------------------------------------\n",
      "Comparisons for variable: reading score\n",
      "------------------------------------------------\n",
      "t-test between groups bachelor's degree and some college:\n",
      "t = 2.2048821209085077, p = 0.028127555314401052\n",
      "t-test between groups bachelor's degree and master's degree:\n",
      "t = -1.0540858949475984, p = 0.29329675131787897\n",
      "t-test between groups bachelor's degree and associate's degree:\n",
      "t = 1.2977969850452833, p = 0.19524206483091092\n",
      "t-test between groups bachelor's degree and high school:\n",
      "t = 5.017577900835298, p = 8.804250310784477e-07\n",
      "t-test between groups bachelor's degree and some high school:\n",
      "t = 3.4039270673798745, p = 0.0007561971719730451\n",
      "t-test between groups some college and master's degree:\n",
      "t = -2.888843374950649, p = 0.004165440800640354\n",
      "t-test between groups some college and associate's degree:\n",
      "t = -1.11231882169149, p = 0.26660028539980146\n",
      "t-test between groups some college and high school:\n",
      "t = 3.4578427683620334, p = 0.0006001048481252139\n",
      "t-test between groups some college and some high school:\n",
      "t = 1.714161972758909, p = 0.08726786856243877\n",
      "t-test between groups master's degree and associate's degree:\n",
      "t = 2.1912015759838686, p = 0.02926414570972208\n",
      "t-test between groups master's degree and high school:\n",
      "t = 5.113158728723477, p = 6.257558119816884e-07\n",
      "t-test between groups master's degree and some high school:\n",
      "t = 3.7261574122231513, p = 0.00024334552617191513\n",
      "t-test between groups associate's degree and high school:\n",
      "t = 4.538021419898997, p = 7.442167797135797e-06\n",
      "t-test between groups associate's degree and some high school:\n",
      "t = 2.7183602204037927, p = 0.006846770119677965\n",
      "t-test between groups high school and some high school:\n",
      "t = -1.461284757591555, p = 0.1447791955248275\n",
      "------------------------------------------------\n",
      "Comparisons for variable: writing score\n",
      "------------------------------------------------\n",
      "t-test between groups bachelor's degree and some college:\n",
      "t = 2.6803314684632196, p = 0.00771101202367254\n",
      "t-test between groups bachelor's degree and master's degree:\n",
      "t = -0.9998741306804844, p = 0.3187519641464658\n",
      "t-test between groups bachelor's degree and associate's degree:\n",
      "t = 2.1159296639133762, p = 0.03508162451719667\n",
      "t-test between groups bachelor's degree and high school:\n",
      "t = 6.547380937127048, p = 2.4076253789515874e-10\n",
      "t-test between groups bachelor's degree and some high school:\n",
      "t = 4.667733097498242, p = 4.628198526834338e-06\n",
      "t-test between groups some college and master's degree:\n",
      "t = -3.1687690632394907, p = 0.0016985933135959495\n",
      "t-test between groups some college and associate's degree:\n",
      "t = -0.7615968643953912, p = 0.44670316603036575\n",
      "t-test between groups some college and high school:\n",
      "t = 4.488520877492127, p = 9.275017802620877e-06\n",
      "t-test between groups some college and some high school:\n",
      "t = 2.5757211403792417, p = 0.010358529086081357\n",
      "t-test between groups master's degree and associate's degree:\n",
      "t = 2.78124154906855, p = 0.00578403270525775\n",
      "t-test between groups master's degree and high school:\n",
      "t = 6.360904883721531, p = 9.326930296880332e-10\n",
      "t-test between groups master's degree and some high school:\n",
      "t = 4.707583817143559, p = 4.275465153074631e-06\n",
      "t-test between groups associate's degree and high school:\n",
      "t = 5.348725635626432, p = 1.4650545536741998e-07\n",
      "t-test between groups associate's degree and some high school:\n",
      "t = 3.3317223453475715, p = 0.0009435990258795855\n",
      "t-test between groups high school and some high school:\n",
      "t = -1.5838885273076473, p = 0.11406653932963291\n"
     ]
    }
   ],
   "source": [
    "# Parent education vs. exam performance\n",
    "plt.figure(figsize = (10,5))\n",
    "\n",
    "plt.subplot(1,3,1)\n",
    "g = sns.barplot( exam_df['parental level of education'], exam_df['math score'])\n",
    "g.set_xticklabels(g.get_xticklabels(), rotation=60, ha='right')\n",
    "plt.title('Parental education vs. math grades')\n",
    "\n",
    "plt.subplot(1,3,2)\n",
    "g = sns.barplot( exam_df['parental level of education'], exam_df['reading score'])\n",
    "g.set_xticklabels(g.get_xticklabels(), rotation=60, ha='right')\n",
    "plt.title('Parental education vs. reading grades')\n",
    "\n",
    "plt.subplot(1,3,3)\n",
    "g = sns.barplot( exam_df['parental level of education'], exam_df['writing score'])\n",
    "g.set_xticklabels(g.get_xticklabels(), rotation=60, ha='right')\n",
    "plt.title('Parental education vs. writing grades')\n",
    "\n",
    "plt.tight_layout()\n",
    "plt.show()\n",
    "\n",
    "# t-test parental education level influence on exam performance\n",
    "parent = exam_df['parental level of education'].unique()\n",
    "for var in ['math score', 'reading score', 'writing score']:\n",
    "    print(\"------------------------------------------------\")\n",
    "    print(\"Comparisons for variable: {}\".format(var))\n",
    "    print(\"------------------------------------------------\")\n",
    "    for i in range(0, len(parent)):\n",
    "        for j in range(i+1, len(parent)):\n",
    "            print(\"t-test between groups {0} and {1}:\".format(parent[i], parent[j]))\n",
    "            print('t = {0}, p = {1}'.format(*stats.ttest_ind(\n",
    "                exam_df[exam_df['parental level of education']==parent[i]][var], \n",
    "                exam_df[exam_df['parental level of education']==parent[j]][var]\n",
    "            )))"
   ]
  },
  {
   "cell_type": "markdown",
   "metadata": {},
   "source": [
    "There is significant differences in all subjects amongst student, whom parents' level of education g"
   ]
  },
  {
   "cell_type": "markdown",
   "metadata": {},
   "source": [
    "# 2. Are there any differences between the lunch types with respect to their performances in exams? If there are, how do you explain this?"
   ]
  },
  {
   "cell_type": "code",
   "execution_count": 78,
   "metadata": {
    "scrolled": false
   },
   "outputs": [
    {
     "data": {
      "image/png": "[encoded data removed]",
      "text/plain": [
       "<Figure size 720x360 with 3 Axes>"
      ]
     },
     "metadata": {
      "needs_background": "light"
     },
     "output_type": "display_data"
    },
    {
     "name": "stdout",
     "output_type": "stream",
     "text": [
      "------------------------------------------------\n",
      "Comparisons for variable: math score\n",
      "------------------------------------------------\n",
      "t-test between groups standard and free/reduced:\n",
      "t = 11.837180472914612, p = 2.4131955993137074e-30\n",
      "------------------------------------------------\n",
      "Comparisons for variable: reading score\n",
      "------------------------------------------------\n",
      "t-test between groups standard and free/reduced:\n",
      "t = 7.451056467473455, p = 2.0027966545279011e-13\n",
      "------------------------------------------------\n",
      "Comparisons for variable: writing score\n",
      "------------------------------------------------\n",
      "t-test between groups standard and free/reduced:\n",
      "t = 8.009784197834758, p = 3.186189583166477e-15\n"
     ]
    }
   ],
   "source": [
    "# Barplot lunch type vs. exam performance\n",
    "plt.figure(figsize = (10,5))\n",
    "\n",
    "plt.subplot(1,3,1)\n",
    "g = sns.barplot( exam_df['lunch'], exam_df['math score'])\n",
    "g.set_xticklabels(g.get_xticklabels(), rotation=30)\n",
    "plt.title('Lunch type vs. math grades')\n",
    "\n",
    "plt.subplot(1,3,2)\n",
    "g = sns.barplot( exam_df['lunch'], exam_df['reading score'])\n",
    "g.set_xticklabels(g.get_xticklabels(), rotation=30)\n",
    "plt.title('Lunch type vs. reading grades')\n",
    "\n",
    "plt.subplot(1,3,3)\n",
    "g = sns.barplot( exam_df['lunch'], exam_df['writing score'])\n",
    "g.set_xticklabels(g.get_xticklabels(), rotation=30)\n",
    "plt.title('Lunch type vs. writing grades')\n",
    "\n",
    "plt.tight_layout()\n",
    "plt.show()\n",
    "\n",
    "# t-test lunch exam performance differences\n",
    "lunches = exam_df['lunch'].unique()\n",
    "for var in ['math score', 'reading score', 'writing score']:\n",
    "    print(\"------------------------------------------------\")\n",
    "    print(\"Comparisons for variable: {}\".format(var))\n",
    "    print(\"------------------------------------------------\")\n",
    "    for i in range(0, len(lunches)):\n",
    "        for j in range(i+1, len(lunches)):\n",
    "            print(\"t-test between groups {0} and {1}:\".format(lunches[i], lunches[j]))\n",
    "            print('t = {0}, p = {1}'.format(*stats.ttest_ind(\n",
    "                exam_df[exam_df['lunch']==lunches[i]][var], \n",
    "                exam_df[exam_df['lunch']==lunches[j]][var]\n",
    "            )))"
   ]
  },
  {
   "cell_type": "markdown",
   "metadata": {},
   "source": [
    "Children of families that are eligible for free/reduced lunch seem to be at a disadvantage in all subjects."
   ]
  },
  {
   "cell_type": "markdown",
   "metadata": {},
   "source": [
    "# 3. Does the test preparation course seem to have an effect on the exam performances?"
   ]
  },
  {
   "cell_type": "code",
   "execution_count": 83,
   "metadata": {},
   "outputs": [
    {
     "data": {
      "image/png": "[encoded data removed]",
      "text/plain": [
       "<Figure size 864x360 with 3 Axes>"
      ]
     },
     "metadata": {
      "needs_background": "light"
     },
     "output_type": "display_data"
    },
    {
     "name": "stdout",
     "output_type": "stream",
     "text": [
      "------------------------------------------------\n",
      "Comparisons for variable: math score\n",
      "------------------------------------------------\n",
      "t-test between groups none and completed:\n",
      "t = -5.704616417349102, p = 1.5359134607147415e-08\n",
      "------------------------------------------------\n",
      "Comparisons for variable: reading score\n",
      "------------------------------------------------\n",
      "t-test between groups none and completed:\n",
      "t = -7.871663538941468, p = 9.081783336892205e-15\n",
      "------------------------------------------------\n",
      "Comparisons for variable: writing score\n",
      "------------------------------------------------\n",
      "t-test between groups none and completed:\n",
      "t = -10.409173436808748, p = 3.68529173524572e-24\n"
     ]
    }
   ],
   "source": [
    "# Barplot test preperation type vs. exam performance\n",
    "plt.figure(figsize = (12,5))\n",
    "\n",
    "plt.subplot(1,3,1)\n",
    "g = sns.barplot( exam_df['test preparation course'], exam_df['math score'])\n",
    "g.set_xticklabels(g.get_xticklabels(), rotation=30)\n",
    "plt.title('Test preperation course type vs. math grades')\n",
    "\n",
    "plt.subplot(1,3,2)\n",
    "g = sns.barplot( exam_df['test preparation course'], exam_df['reading score'])\n",
    "g.set_xticklabels(g.get_xticklabels(), rotation=30)\n",
    "plt.title('Test preperation course vs. reading grades')\n",
    "\n",
    "plt.subplot(1,3,3)\n",
    "g = sns.barplot( exam_df['test preparation course'], exam_df['writing score'])\n",
    "g.set_xticklabels(g.get_xticklabels(), rotation=30)\n",
    "plt.title('Test preperation course vs. writing grades')\n",
    "\n",
    "plt.tight_layout()\n",
    "plt.show()\n",
    "\n",
    "# t-test test preperation course effect on exam performance\n",
    "prep_course = exam_df['test preparation course'].unique()\n",
    "for var in ['math score', 'reading score', 'writing score']:\n",
    "    print(\"------------------------------------------------\")\n",
    "    print(\"Comparisons for variable: {}\".format(var))\n",
    "    print(\"------------------------------------------------\")\n",
    "    for i in range(0, len(prep_course)):\n",
    "        for j in range(i+1, len(prep_course)):\n",
    "            print(\"t-test between groups {0} and {1}:\".format(prep_course[i], prep_course[j]))\n",
    "            print('t = {0}, p = {1}'.format(*stats.ttest_ind(\n",
    "                exam_df[exam_df['test preparation course']==prep_course[i]][var], \n",
    "                exam_df[exam_df['test preparation course']==prep_course[j]][var]\n",
    "            )))"
   ]
  },
  {
   "cell_type": "markdown",
   "metadata": {},
   "source": [
    "The preperation course seems to significantly increase exam performance"
   ]
  },
  {
   "cell_type": "markdown",
   "metadata": {},
   "source": [
    "# 4. Which 2 exam scores are most correlated with each other?"
   ]
  },
  {
   "cell_type": "code",
   "execution_count": 84,
   "metadata": {},
   "outputs": [
    {
     "data": {
      "text/html": [
       "<div>\n",
       "<style scoped>\n",
       "    .dataframe tbody tr th:only-of-type {\n",
       "        vertical-align: middle;\n",
       "    }\n",
       "\n",
       "    .dataframe tbody tr th {\n",
       "        vertical-align: top;\n",
       "    }\n",
       "\n",
       "    .dataframe thead th {\n",
       "        text-align: right;\n",
       "    }\n",
       "</style>\n",
       "<table border=\"1\" class=\"dataframe\">\n",
       "  <thead>\n",
       "    <tr style=\"text-align: right;\">\n",
       "      <th></th>\n",
       "      <th>math score</th>\n",
       "      <th>reading score</th>\n",
       "      <th>writing score</th>\n",
       "    </tr>\n",
       "  </thead>\n",
       "  <tbody>\n",
       "    <tr>\n",
       "      <th>math score</th>\n",
       "      <td>1.000000</td>\n",
       "      <td>0.817580</td>\n",
       "      <td>0.802642</td>\n",
       "    </tr>\n",
       "    <tr>\n",
       "      <th>reading score</th>\n",
       "      <td>0.817580</td>\n",
       "      <td>1.000000</td>\n",
       "      <td>0.954598</td>\n",
       "    </tr>\n",
       "    <tr>\n",
       "      <th>writing score</th>\n",
       "      <td>0.802642</td>\n",
       "      <td>0.954598</td>\n",
       "      <td>1.000000</td>\n",
       "    </tr>\n",
       "  </tbody>\n",
       "</table>\n",
       "</div>"
      ],
      "text/plain": [
       "               math score  reading score  writing score\n",
       "math score       1.000000       0.817580       0.802642\n",
       "reading score    0.817580       1.000000       0.954598\n",
       "writing score    0.802642       0.954598       1.000000"
      ]
     },
     "execution_count": 84,
     "metadata": {},
     "output_type": "execute_result"
    }
   ],
   "source": [
    "exam_df[['math score', 'reading score', 'writing score']].corr()"
   ]
  },
  {
   "cell_type": "markdown",
   "metadata": {},
   "source": [
    "Reading and writing are most correlated exam scores"
   ]
  },
  {
   "cell_type": "code",
   "execution_count": null,
   "metadata": {},
   "outputs": [],
   "source": []
  }
 ],
 "metadata": {
  "kernelspec": {
   "display_name": "Python 3",
   "language": "python",
   "name": "python3"
  },
  "language_info": {
   "codemirror_mode": {
    "name": "ipython",
    "version": 3
   },
   "file_extension": ".py",
   "mimetype": "text/x-python",
   "name": "python",
   "nbconvert_exporter": "python",
   "pygments_lexer": "ipython3",
   "version": "3.6.7"
  }
 },
 "nbformat": 4,
 "nbformat_minor": 2
}
