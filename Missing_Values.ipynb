{
 "cells": [
  {
   "cell_type": "code",
   "execution_count": 107,
   "metadata": {},
   "outputs": [],
   "source": [
    "import pandas as pd\n",
    "import numpy as np\n",
    "from sqlalchemy import create_engine\n",
    "import warnings\n",
    "import seaborn as sns\n",
    "import matplotlib.pyplot as plt\n",
    "\n",
    "warnings.filterwarnings('ignore')"
   ]
  },
  {
   "cell_type": "code",
   "execution_count": 119,
   "metadata": {},
   "outputs": [],
   "source": [
    "postgres_user = 'dsbc_student'\n",
    "postgres_pw = '7*.8G9QH21'\n",
    "postgres_host = '142.93.121.174'\n",
    "postgres_port = '5432'\n",
    "postgres_db = 'useducation'\n",
    "\n",
    "engine = create_engine('postgresql://{}:{}@{}:{}/{}'.format(\n",
    "    postgres_user, postgres_pw, postgres_host, postgres_port, postgres_db))\n",
    "\n",
    "usedu_df = pd.read_sql_query('select * from useducation',con=engine)\n",
    "\n",
    "# no need for an open connection, \n",
    "# as we're only doing a single query\n",
    "engine.dispose()"
   ]
  },
  {
   "cell_type": "code",
   "execution_count": 120,
   "metadata": {
    "scrolled": false
   },
   "outputs": [
    {
     "name": "stdout",
     "output_type": "stream",
     "text": [
      "<class 'pandas.core.frame.DataFrame'>\n",
      "RangeIndex: 1492 entries, 0 to 1491\n",
      "Data columns (total 25 columns):\n",
      "PRIMARY_KEY                     1492 non-null object\n",
      "STATE                           1492 non-null object\n",
      "YEAR                            1492 non-null int64\n",
      "ENROLL                          1229 non-null float64\n",
      "TOTAL_REVENUE                   1280 non-null float64\n",
      "FEDERAL_REVENUE                 1280 non-null float64\n",
      "STATE_REVENUE                   1280 non-null float64\n",
      "LOCAL_REVENUE                   1280 non-null float64\n",
      "TOTAL_EXPENDITURE               1280 non-null float64\n",
      "INSTRUCTION_EXPENDITURE         1280 non-null float64\n",
      "SUPPORT_SERVICES_EXPENDITURE    1280 non-null float64\n",
      "OTHER_EXPENDITURE               1229 non-null float64\n",
      "CAPITAL_OUTLAY_EXPENDITURE      1280 non-null float64\n",
      "GRADES_PK_G                     1319 non-null float64\n",
      "GRADES_KG_G                     1360 non-null float64\n",
      "GRADES_4_G                      1361 non-null float64\n",
      "GRADES_8_G                      1361 non-null float64\n",
      "GRADES_12_G                     1361 non-null float64\n",
      "GRADES_1_8_G                    1361 non-null float64\n",
      "GRADES_9_12_G                   1361 non-null float64\n",
      "GRADES_ALL_G                    1319 non-null float64\n",
      "AVG_MATH_4_SCORE                536 non-null float64\n",
      "AVG_MATH_8_SCORE                532 non-null float64\n",
      "AVG_READING_4_SCORE             533 non-null float64\n",
      "AVG_READING_8_SCORE             498 non-null float64\n",
      "dtypes: float64(22), int64(1), object(2)\n",
      "memory usage: 291.5+ KB\n"
     ]
    }
   ],
   "source": [
    "usedu_df.info()"
   ]
  },
  {
   "cell_type": "code",
   "execution_count": 121,
   "metadata": {
    "scrolled": false
   },
   "outputs": [
    {
     "data": {
      "text/plain": [
       "PRIMARY_KEY                      0.000000\n",
       "STATE                            0.000000\n",
       "YEAR                             0.000000\n",
       "ENROLL                          17.627346\n",
       "TOTAL_REVENUE                   14.209115\n",
       "FEDERAL_REVENUE                 14.209115\n",
       "STATE_REVENUE                   14.209115\n",
       "LOCAL_REVENUE                   14.209115\n",
       "TOTAL_EXPENDITURE               14.209115\n",
       "INSTRUCTION_EXPENDITURE         14.209115\n",
       "SUPPORT_SERVICES_EXPENDITURE    14.209115\n",
       "OTHER_EXPENDITURE               17.627346\n",
       "CAPITAL_OUTLAY_EXPENDITURE      14.209115\n",
       "GRADES_PK_G                     11.595174\n",
       "GRADES_KG_G                      8.847185\n",
       "GRADES_4_G                       8.780161\n",
       "GRADES_8_G                       8.780161\n",
       "GRADES_12_G                      8.780161\n",
       "GRADES_1_8_G                     8.780161\n",
       "GRADES_9_12_G                    8.780161\n",
       "GRADES_ALL_G                    11.595174\n",
       "AVG_MATH_4_SCORE                64.075067\n",
       "AVG_MATH_8_SCORE                64.343164\n",
       "AVG_READING_4_SCORE             64.276139\n",
       "AVG_READING_8_SCORE             66.621984\n",
       "dtype: float64"
      ]
     },
     "execution_count": 121,
     "metadata": {},
     "output_type": "execute_result"
    }
   ],
   "source": [
    "usedu_df.isnull().sum()/usedu_df.shape[0]*100"
   ]
  },
  {
   "cell_type": "markdown",
   "metadata": {},
   "source": [
    "### Dealing with missing values strategy:\n",
    "- AVG_MATH & AVG_ READING columns are missing the majority of the data (65%). The data from these columns can be used to answer specific question about certain states where this proportion of data could be satisfactory to represent of the population. Otherwise, these columns can be eliminated from consideration."
   ]
  },
  {
   "cell_type": "code",
   "execution_count": 122,
   "metadata": {
    "scrolled": true
   },
   "outputs": [
    {
     "data": {
      "text/html": [
       "<div>\n",
       "<style scoped>\n",
       "    .dataframe tbody tr th:only-of-type {\n",
       "        vertical-align: middle;\n",
       "    }\n",
       "\n",
       "    .dataframe tbody tr th {\n",
       "        vertical-align: top;\n",
       "    }\n",
       "\n",
       "    .dataframe thead th {\n",
       "        text-align: right;\n",
       "    }\n",
       "</style>\n",
       "<table border=\"1\" class=\"dataframe\">\n",
       "  <thead>\n",
       "    <tr style=\"text-align: right;\">\n",
       "      <th></th>\n",
       "      <th>PRIMARY_KEY</th>\n",
       "      <th>STATE</th>\n",
       "      <th>YEAR</th>\n",
       "      <th>ENROLL</th>\n",
       "      <th>TOTAL_REVENUE</th>\n",
       "      <th>FEDERAL_REVENUE</th>\n",
       "      <th>STATE_REVENUE</th>\n",
       "      <th>LOCAL_REVENUE</th>\n",
       "      <th>TOTAL_EXPENDITURE</th>\n",
       "      <th>INSTRUCTION_EXPENDITURE</th>\n",
       "      <th>...</th>\n",
       "      <th>OTHER_EXPENDITURE</th>\n",
       "      <th>CAPITAL_OUTLAY_EXPENDITURE</th>\n",
       "      <th>GRADES_PK_G</th>\n",
       "      <th>GRADES_KG_G</th>\n",
       "      <th>GRADES_4_G</th>\n",
       "      <th>GRADES_8_G</th>\n",
       "      <th>GRADES_12_G</th>\n",
       "      <th>GRADES_1_8_G</th>\n",
       "      <th>GRADES_9_12_G</th>\n",
       "      <th>GRADES_ALL_G</th>\n",
       "    </tr>\n",
       "  </thead>\n",
       "  <tbody>\n",
       "    <tr>\n",
       "      <th>0</th>\n",
       "      <td>1992_ALABAMA</td>\n",
       "      <td>ALABAMA</td>\n",
       "      <td>1992</td>\n",
       "      <td>NaN</td>\n",
       "      <td>2678885.0</td>\n",
       "      <td>304177.0</td>\n",
       "      <td>1659028.0</td>\n",
       "      <td>715680.0</td>\n",
       "      <td>2653798.0</td>\n",
       "      <td>1481703.0</td>\n",
       "      <td>...</td>\n",
       "      <td>NaN</td>\n",
       "      <td>174053.0</td>\n",
       "      <td>8224.0</td>\n",
       "      <td>55460.0</td>\n",
       "      <td>57948.0</td>\n",
       "      <td>58025.0</td>\n",
       "      <td>41167.0</td>\n",
       "      <td>471564.0</td>\n",
       "      <td>196386.0</td>\n",
       "      <td>676174.0</td>\n",
       "    </tr>\n",
       "    <tr>\n",
       "      <th>1</th>\n",
       "      <td>1992_ALASKA</td>\n",
       "      <td>ALASKA</td>\n",
       "      <td>1992</td>\n",
       "      <td>NaN</td>\n",
       "      <td>1049591.0</td>\n",
       "      <td>106780.0</td>\n",
       "      <td>720711.0</td>\n",
       "      <td>222100.0</td>\n",
       "      <td>972488.0</td>\n",
       "      <td>498362.0</td>\n",
       "      <td>...</td>\n",
       "      <td>NaN</td>\n",
       "      <td>37451.0</td>\n",
       "      <td>2371.0</td>\n",
       "      <td>10152.0</td>\n",
       "      <td>9748.0</td>\n",
       "      <td>8789.0</td>\n",
       "      <td>6714.0</td>\n",
       "      <td>79117.0</td>\n",
       "      <td>30847.0</td>\n",
       "      <td>112335.0</td>\n",
       "    </tr>\n",
       "    <tr>\n",
       "      <th>2</th>\n",
       "      <td>1992_ARIZONA</td>\n",
       "      <td>ARIZONA</td>\n",
       "      <td>1992</td>\n",
       "      <td>NaN</td>\n",
       "      <td>3258079.0</td>\n",
       "      <td>297888.0</td>\n",
       "      <td>1369815.0</td>\n",
       "      <td>1590376.0</td>\n",
       "      <td>3401580.0</td>\n",
       "      <td>1435908.0</td>\n",
       "      <td>...</td>\n",
       "      <td>NaN</td>\n",
       "      <td>609114.0</td>\n",
       "      <td>2544.0</td>\n",
       "      <td>53497.0</td>\n",
       "      <td>55433.0</td>\n",
       "      <td>49081.0</td>\n",
       "      <td>37410.0</td>\n",
       "      <td>437127.0</td>\n",
       "      <td>175210.0</td>\n",
       "      <td>614881.0</td>\n",
       "    </tr>\n",
       "    <tr>\n",
       "      <th>3</th>\n",
       "      <td>1992_ARKANSAS</td>\n",
       "      <td>ARKANSAS</td>\n",
       "      <td>1992</td>\n",
       "      <td>NaN</td>\n",
       "      <td>1711959.0</td>\n",
       "      <td>178571.0</td>\n",
       "      <td>958785.0</td>\n",
       "      <td>574603.0</td>\n",
       "      <td>1743022.0</td>\n",
       "      <td>964323.0</td>\n",
       "      <td>...</td>\n",
       "      <td>NaN</td>\n",
       "      <td>145212.0</td>\n",
       "      <td>808.0</td>\n",
       "      <td>33511.0</td>\n",
       "      <td>34632.0</td>\n",
       "      <td>36011.0</td>\n",
       "      <td>27651.0</td>\n",
       "      <td>281338.0</td>\n",
       "      <td>123113.0</td>\n",
       "      <td>405259.0</td>\n",
       "    </tr>\n",
       "    <tr>\n",
       "      <th>4</th>\n",
       "      <td>1992_CALIFORNIA</td>\n",
       "      <td>CALIFORNIA</td>\n",
       "      <td>1992</td>\n",
       "      <td>NaN</td>\n",
       "      <td>26260025.0</td>\n",
       "      <td>2072470.0</td>\n",
       "      <td>16546514.0</td>\n",
       "      <td>7641041.0</td>\n",
       "      <td>27138832.0</td>\n",
       "      <td>14358922.0</td>\n",
       "      <td>...</td>\n",
       "      <td>NaN</td>\n",
       "      <td>2044688.0</td>\n",
       "      <td>59067.0</td>\n",
       "      <td>431763.0</td>\n",
       "      <td>418418.0</td>\n",
       "      <td>363296.0</td>\n",
       "      <td>270675.0</td>\n",
       "      <td>3286034.0</td>\n",
       "      <td>1372011.0</td>\n",
       "      <td>4717112.0</td>\n",
       "    </tr>\n",
       "  </tbody>\n",
       "</table>\n",
       "<p>5 rows × 21 columns</p>\n",
       "</div>"
      ],
      "text/plain": [
       "       PRIMARY_KEY       STATE  YEAR  ENROLL  TOTAL_REVENUE  FEDERAL_REVENUE  \\\n",
       "0     1992_ALABAMA     ALABAMA  1992     NaN      2678885.0         304177.0   \n",
       "1      1992_ALASKA      ALASKA  1992     NaN      1049591.0         106780.0   \n",
       "2     1992_ARIZONA     ARIZONA  1992     NaN      3258079.0         297888.0   \n",
       "3    1992_ARKANSAS    ARKANSAS  1992     NaN      1711959.0         178571.0   \n",
       "4  1992_CALIFORNIA  CALIFORNIA  1992     NaN     26260025.0        2072470.0   \n",
       "\n",
       "   STATE_REVENUE  LOCAL_REVENUE  TOTAL_EXPENDITURE  INSTRUCTION_EXPENDITURE  \\\n",
       "0      1659028.0       715680.0          2653798.0                1481703.0   \n",
       "1       720711.0       222100.0           972488.0                 498362.0   \n",
       "2      1369815.0      1590376.0          3401580.0                1435908.0   \n",
       "3       958785.0       574603.0          1743022.0                 964323.0   \n",
       "4     16546514.0      7641041.0         27138832.0               14358922.0   \n",
       "\n",
       "   ...  OTHER_EXPENDITURE  CAPITAL_OUTLAY_EXPENDITURE  GRADES_PK_G  \\\n",
       "0  ...                NaN                    174053.0       8224.0   \n",
       "1  ...                NaN                     37451.0       2371.0   \n",
       "2  ...                NaN                    609114.0       2544.0   \n",
       "3  ...                NaN                    145212.0        808.0   \n",
       "4  ...                NaN                   2044688.0      59067.0   \n",
       "\n",
       "   GRADES_KG_G  GRADES_4_G  GRADES_8_G  GRADES_12_G  GRADES_1_8_G  \\\n",
       "0      55460.0     57948.0     58025.0      41167.0      471564.0   \n",
       "1      10152.0      9748.0      8789.0       6714.0       79117.0   \n",
       "2      53497.0     55433.0     49081.0      37410.0      437127.0   \n",
       "3      33511.0     34632.0     36011.0      27651.0      281338.0   \n",
       "4     431763.0    418418.0    363296.0     270675.0     3286034.0   \n",
       "\n",
       "   GRADES_9_12_G  GRADES_ALL_G  \n",
       "0       196386.0      676174.0  \n",
       "1        30847.0      112335.0  \n",
       "2       175210.0      614881.0  \n",
       "3       123113.0      405259.0  \n",
       "4      1372011.0     4717112.0  \n",
       "\n",
       "[5 rows x 21 columns]"
      ]
     },
     "execution_count": 122,
     "metadata": {},
     "output_type": "execute_result"
    }
   ],
   "source": [
    "ncol = usedu_df.shape[1]\n",
    "cols = list(range(ncol-4, ncol))\n",
    "usedu_df.drop( usedu_df.columns[cols], axis=1, inplace=True)\n",
    "usedu_df.head()"
   ]
  },
  {
   "cell_type": "markdown",
   "metadata": {},
   "source": [
    "- Enrollment data is missing for 2012. Let's look at the distribution of number of enrolled students for a particular state and see how much variability there is accross the years"
   ]
  },
  {
   "cell_type": "code",
   "execution_count": 112,
   "metadata": {},
   "outputs": [
    {
     "data": {
      "image/png": "[encoded data removed]",
      "text/plain": [
       "<Figure size 432x288 with 1 Axes>"
      ]
     },
     "metadata": {
      "needs_background": "light"
     },
     "output_type": "display_data"
    }
   ],
   "source": [
    "example_state = 'CALIFORNIA'\n",
    "ax = sns.lineplot(x='YEAR', y='ENROLL', hue='STATE', data=usedu_df[(usedu_df['ENROLL'].notnull())], legend=False)\n"
   ]
  },
  {
   "cell_type": "markdown",
   "metadata": {},
   "source": [
    "- Almost all states have a steady enrollment. Therefore, using mean to replace missing values would be a safe choice."
   ]
  },
  {
   "cell_type": "code",
   "execution_count": 123,
   "metadata": {
    "scrolled": true
   },
   "outputs": [
    {
     "data": {
      "text/plain": [
       "10.79088471849866"
      ]
     },
     "execution_count": 123,
     "metadata": {},
     "output_type": "execute_result"
    }
   ],
   "source": [
    "usedu_df['ENROLL'] = usedu_df.groupby('STATE')['ENROLL'].transform(lambda x: x.fillna(x.mean()))\n",
    "pd.isnull(usedu_df.ENROLL).sum()/usedu_df.shape[0]*100"
   ]
  },
  {
   "cell_type": "markdown",
   "metadata": {},
   "source": [
    "- The remaining 10% could be small districts/ 'states' that don't have a mean. How many other values are missing for these districts?"
   ]
  },
  {
   "cell_type": "code",
   "execution_count": 124,
   "metadata": {
    "scrolled": false
   },
   "outputs": [
    {
     "name": "stdout",
     "output_type": "stream",
     "text": [
      "161 row in this DataFrame subset\n"
     ]
    },
    {
     "data": {
      "text/plain": [
       "PRIMARY_KEY                       0.000000\n",
       "STATE                             0.000000\n",
       "YEAR                              0.000000\n",
       "ENROLL                          100.000000\n",
       "TOTAL_REVENUE                   100.000000\n",
       "FEDERAL_REVENUE                 100.000000\n",
       "STATE_REVENUE                   100.000000\n",
       "LOCAL_REVENUE                   100.000000\n",
       "TOTAL_EXPENDITURE               100.000000\n",
       "INSTRUCTION_EXPENDITURE         100.000000\n",
       "SUPPORT_SERVICES_EXPENDITURE    100.000000\n",
       "OTHER_EXPENDITURE               100.000000\n",
       "CAPITAL_OUTLAY_EXPENDITURE      100.000000\n",
       "GRADES_PK_G                      37.267081\n",
       "GRADES_KG_G                      18.633540\n",
       "GRADES_4_G                       18.012422\n",
       "GRADES_8_G                       18.012422\n",
       "GRADES_12_G                      18.012422\n",
       "GRADES_1_8_G                     18.012422\n",
       "GRADES_9_12_G                    18.012422\n",
       "GRADES_ALL_G                     37.267081\n",
       "dtype: float64"
      ]
     },
     "execution_count": 124,
     "metadata": {},
     "output_type": "execute_result"
    }
   ],
   "source": [
    "# subset of rows with ENROLL still Null\n",
    "usedu_null_df = usedu_df[usedu_df['ENROLL'].isnull()]\n",
    "print('{} row in this DataFrame subset'.format(usedu_null_df.shape[0]))\n",
    "# percent of null per column for this subset\n",
    "usedu_null_df.isnull().sum()/usedu_null_df.shape[0]*100"
   ]
  },
  {
   "cell_type": "markdown",
   "metadata": {},
   "source": [
    "- These rows are missing all financial data and any analysis that concerns financial concepts should disregard these enteries."
   ]
  },
  {
   "cell_type": "code",
   "execution_count": 125,
   "metadata": {
    "scrolled": false
   },
   "outputs": [
    {
     "name": "stdout",
     "output_type": "stream",
     "text": [
      "nrow before= 1492\n",
      "nrow after= 1331\n"
     ]
    }
   ],
   "source": [
    "print('nrow before= {}'.format(usedu_df.shape[0]))\n",
    "usedu_df = usedu_df.drop( usedu_null_df.index.tolist() )\n",
    "print('nrow after= {}'.format(usedu_df.shape[0]))"
   ]
  },
  {
   "cell_type": "markdown",
   "metadata": {},
   "source": [
    "***\n",
    "- Check how many values are still missing"
   ]
  },
  {
   "cell_type": "code",
   "execution_count": 129,
   "metadata": {},
   "outputs": [
    {
     "data": {
      "text/plain": [
       "PRIMARY_KEY                     0.000000\n",
       "STATE                           0.000000\n",
       "YEAR                            0.000000\n",
       "ENROLL                          0.000000\n",
       "TOTAL_REVENUE                   3.831705\n",
       "FEDERAL_REVENUE                 3.831705\n",
       "STATE_REVENUE                   3.831705\n",
       "LOCAL_REVENUE                   3.831705\n",
       "TOTAL_EXPENDITURE               3.831705\n",
       "INSTRUCTION_EXPENDITURE         3.831705\n",
       "SUPPORT_SERVICES_EXPENDITURE    3.831705\n",
       "OTHER_EXPENDITURE               7.663411\n",
       "CAPITAL_OUTLAY_EXPENDITURE      3.831705\n",
       "GRADES_PK_G                     8.489857\n",
       "GRADES_KG_G                     7.663411\n",
       "GRADES_4_G                      7.663411\n",
       "GRADES_8_G                      7.663411\n",
       "GRADES_12_G                     7.663411\n",
       "GRADES_1_8_G                    7.663411\n",
       "GRADES_9_12_G                   7.663411\n",
       "GRADES_ALL_G                    8.489857\n",
       "dtype: float64"
      ]
     },
     "execution_count": 129,
     "metadata": {},
     "output_type": "execute_result"
    }
   ],
   "source": [
    "usedu_df.isnull().sum()/usedu_df.shape[0]*100"
   ]
  },
  {
   "cell_type": "code",
   "execution_count": 153,
   "metadata": {
    "scrolled": false
   },
   "outputs": [
    {
     "name": "stdout",
     "output_type": "stream",
     "text": [
      "PRIMARY_KEY                         0.0               0.0         \n",
      "STATE                               0.0               0.0         \n",
      "YEAR                                0.0               0.0         \n",
      "ENROLL                              0.0               0.0         \n",
      "TOTAL_REVENUE                       0.0               0.0         \n",
      "FEDERAL_REVENUE                     0.0               0.0         \n",
      "STATE_REVENUE                       0.0               0.0         \n",
      "LOCAL_REVENUE                       0.0               0.0         \n",
      "TOTAL_EXPENDITURE                   0.0               0.0         \n",
      "INSTRUCTION_EXPENDITURE             0.0               0.0         \n",
      "SUPPORT_SERVICES_EXPENDITURE        0.0               0.0         \n",
      "OTHER_EXPENDITURE                   0.0               0.0         \n",
      "CAPITAL_OUTLAY_EXPENDITURE          0.0               0.0         \n",
      "GRADES_PK_G                         8.489857250187828      8.489857250187828\n",
      "GRADES_KG_G                         7.663410969196092      7.663410969196092\n",
      "GRADES_4_G                          7.663410969196092      7.663410969196092\n",
      "GRADES_8_G                          7.663410969196092      7.663410969196092\n",
      "GRADES_12_G                         7.663410969196092      7.663410969196092\n",
      "GRADES_1_8_G                        7.663410969196092      7.663410969196092\n",
      "GRADES_9_12_G                       7.663410969196092      7.663410969196092\n",
      "GRADES_ALL_G                        8.489857250187828      8.489857250187828\n"
     ]
    }
   ],
   "source": [
    "# Missing financial values can be filled with corresponding mean of the state\n",
    "\n",
    "revenue_cols = [col for col in usedu_df.columns if 'REVENUE' in col]\n",
    "expenditure_cols = [col for col in usedu_df.columns if 'EXPENDITURE' in col]\n",
    "before_impute = (usedu_df.isnull().sum()/usedu_df.shape[0]*100).values\n",
    "usedu_df[revenue_cols] = usedu_df.groupby(['STATE'])[revenue_cols].transform(lambda x: x.fillna(x.mean()))\n",
    "usedu_df[expenditure_cols] = usedu_df.groupby(['STATE'])[expenditure_cols].transform(lambda x: x.fillna(x.mean()))\n",
    "after_impute = (usedu_df.isnull().sum()/usedu_df.shape[0]*100).values\n",
    "impute_ind = (usedu_df.isnull().sum()/usedu_df.shape[0]*100).index\n",
    "for row in zip(impute_ind, before_impute, after_impute):\n",
    "    print('{0:<30}      {1:<12}      {2:<12}'.format(*row))\n"
   ]
  }
 ],
 "metadata": {
  "kernelspec": {
   "display_name": "Python 3",
   "language": "python",
   "name": "python3"
  },
  "language_info": {
   "codemirror_mode": {
    "name": "ipython",
    "version": 3
   },
   "file_extension": ".py",
   "mimetype": "text/x-python",
   "name": "python",
   "nbconvert_exporter": "python",
   "pygments_lexer": "ipython3",
   "version": "3.6.7"
  }
 },
 "nbformat": 4,
 "nbformat_minor": 2
}
