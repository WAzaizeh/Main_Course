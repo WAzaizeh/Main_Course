{
 "cells": [
  {
   "cell_type": "code",
   "execution_count": 1,
   "metadata": {},
   "outputs": [],
   "source": [
    "import pandas as pd\n",
    "import numpy as np\n",
    "from sqlalchemy import create_engine\n",
    "import warnings\n",
    "import seaborn as sns\n",
    "import matplotlib.pyplot as plt\n",
    "from scipy.stats import zscore\n",
    "from scipy.stats.mstats import winsorize\n",
    "import scipy.stats\n",
    "import statistics\n",
    "\n",
    "warnings.filterwarnings('ignore')"
   ]
  },
  {
   "cell_type": "code",
   "execution_count": 2,
   "metadata": {},
   "outputs": [],
   "source": [
    "postgres_user = 'dsbc_student'\n",
    "postgres_pw = '7*.8G9QH21'\n",
    "postgres_host = '142.93.121.174'\n",
    "postgres_port = '5432'\n",
    "postgres_db = 'useducation'\n",
    "\n",
    "engine = create_engine('postgresql://{}:{}@{}:{}/{}'.format(\n",
    "    postgres_user, postgres_pw, postgres_host, postgres_port, postgres_db))\n",
    "\n",
    "usedu_df = pd.read_sql_query('select * from useducation',con=engine)\n",
    "\n",
    "# no need for an open connection, \n",
    "# as we're only doing a single query\n",
    "engine.dispose()"
   ]
  },
  {
   "cell_type": "markdown",
   "metadata": {},
   "source": [
    "*** \n",
    "# Handling missing data"
   ]
  },
  {
   "cell_type": "code",
   "execution_count": 3,
   "metadata": {
    "scrolled": false
   },
   "outputs": [
    {
     "name": "stdout",
     "output_type": "stream",
     "text": [
      "<class 'pandas.core.frame.DataFrame'>\n",
      "RangeIndex: 1492 entries, 0 to 1491\n",
      "Data columns (total 25 columns):\n",
      "PRIMARY_KEY                     1492 non-null object\n",
      "STATE                           1492 non-null object\n",
      "YEAR                            1492 non-null int64\n",
      "ENROLL                          1229 non-null float64\n",
      "TOTAL_REVENUE                   1280 non-null float64\n",
      "FEDERAL_REVENUE                 1280 non-null float64\n",
      "STATE_REVENUE                   1280 non-null float64\n",
      "LOCAL_REVENUE                   1280 non-null float64\n",
      "TOTAL_EXPENDITURE               1280 non-null float64\n",
      "INSTRUCTION_EXPENDITURE         1280 non-null float64\n",
      "SUPPORT_SERVICES_EXPENDITURE    1280 non-null float64\n",
      "OTHER_EXPENDITURE               1229 non-null float64\n",
      "CAPITAL_OUTLAY_EXPENDITURE      1280 non-null float64\n",
      "GRADES_PK_G                     1319 non-null float64\n",
      "GRADES_KG_G                     1360 non-null float64\n",
      "GRADES_4_G                      1361 non-null float64\n",
      "GRADES_8_G                      1361 non-null float64\n",
      "GRADES_12_G                     1361 non-null float64\n",
      "GRADES_1_8_G                    1361 non-null float64\n",
      "GRADES_9_12_G                   1361 non-null float64\n",
      "GRADES_ALL_G                    1319 non-null float64\n",
      "AVG_MATH_4_SCORE                536 non-null float64\n",
      "AVG_MATH_8_SCORE                532 non-null float64\n",
      "AVG_READING_4_SCORE             533 non-null float64\n",
      "AVG_READING_8_SCORE             498 non-null float64\n",
      "dtypes: float64(22), int64(1), object(2)\n",
      "memory usage: 291.5+ KB\n"
     ]
    }
   ],
   "source": [
    "usedu_df.info()"
   ]
  },
  {
   "cell_type": "code",
   "execution_count": 4,
   "metadata": {
    "scrolled": false
   },
   "outputs": [
    {
     "data": {
      "text/plain": [
       "PRIMARY_KEY                      0.000000\n",
       "STATE                            0.000000\n",
       "YEAR                             0.000000\n",
       "ENROLL                          17.627346\n",
       "TOTAL_REVENUE                   14.209115\n",
       "FEDERAL_REVENUE                 14.209115\n",
       "STATE_REVENUE                   14.209115\n",
       "LOCAL_REVENUE                   14.209115\n",
       "TOTAL_EXPENDITURE               14.209115\n",
       "INSTRUCTION_EXPENDITURE         14.209115\n",
       "SUPPORT_SERVICES_EXPENDITURE    14.209115\n",
       "OTHER_EXPENDITURE               17.627346\n",
       "CAPITAL_OUTLAY_EXPENDITURE      14.209115\n",
       "GRADES_PK_G                     11.595174\n",
       "GRADES_KG_G                      8.847185\n",
       "GRADES_4_G                       8.780161\n",
       "GRADES_8_G                       8.780161\n",
       "GRADES_12_G                      8.780161\n",
       "GRADES_1_8_G                     8.780161\n",
       "GRADES_9_12_G                    8.780161\n",
       "GRADES_ALL_G                    11.595174\n",
       "AVG_MATH_4_SCORE                64.075067\n",
       "AVG_MATH_8_SCORE                64.343164\n",
       "AVG_READING_4_SCORE             64.276139\n",
       "AVG_READING_8_SCORE             66.621984\n",
       "dtype: float64"
      ]
     },
     "execution_count": 4,
     "metadata": {},
     "output_type": "execute_result"
    }
   ],
   "source": [
    "usedu_df.isnull().sum()/usedu_df.shape[0]*100"
   ]
  },
  {
   "cell_type": "code",
   "execution_count": 5,
   "metadata": {
    "scrolled": false
   },
   "outputs": [
    {
     "data": {
      "text/html": [
       "<div>\n",
       "<style scoped>\n",
       "    .dataframe tbody tr th:only-of-type {\n",
       "        vertical-align: middle;\n",
       "    }\n",
       "\n",
       "    .dataframe tbody tr th {\n",
       "        vertical-align: top;\n",
       "    }\n",
       "\n",
       "    .dataframe thead th {\n",
       "        text-align: right;\n",
       "    }\n",
       "</style>\n",
       "<table border=\"1\" class=\"dataframe\">\n",
       "  <thead>\n",
       "    <tr style=\"text-align: right;\">\n",
       "      <th></th>\n",
       "      <th>PRIMARY_KEY</th>\n",
       "      <th>STATE</th>\n",
       "      <th>YEAR</th>\n",
       "      <th>ENROLL</th>\n",
       "      <th>TOTAL_REVENUE</th>\n",
       "      <th>FEDERAL_REVENUE</th>\n",
       "      <th>STATE_REVENUE</th>\n",
       "      <th>LOCAL_REVENUE</th>\n",
       "      <th>TOTAL_EXPENDITURE</th>\n",
       "      <th>INSTRUCTION_EXPENDITURE</th>\n",
       "      <th>...</th>\n",
       "      <th>GRADES_4_G</th>\n",
       "      <th>GRADES_8_G</th>\n",
       "      <th>GRADES_12_G</th>\n",
       "      <th>GRADES_1_8_G</th>\n",
       "      <th>GRADES_9_12_G</th>\n",
       "      <th>GRADES_ALL_G</th>\n",
       "      <th>AVG_MATH_4_SCORE</th>\n",
       "      <th>AVG_MATH_8_SCORE</th>\n",
       "      <th>AVG_READING_4_SCORE</th>\n",
       "      <th>AVG_READING_8_SCORE</th>\n",
       "    </tr>\n",
       "  </thead>\n",
       "  <tbody>\n",
       "    <tr>\n",
       "      <th>0</th>\n",
       "      <td>1992_ALABAMA</td>\n",
       "      <td>ALABAMA</td>\n",
       "      <td>1992</td>\n",
       "      <td>NaN</td>\n",
       "      <td>2678885.0</td>\n",
       "      <td>304177.0</td>\n",
       "      <td>1659028.0</td>\n",
       "      <td>715680.0</td>\n",
       "      <td>2653798.0</td>\n",
       "      <td>1481703.0</td>\n",
       "      <td>...</td>\n",
       "      <td>57948.0</td>\n",
       "      <td>58025.0</td>\n",
       "      <td>41167.0</td>\n",
       "      <td>471564.0</td>\n",
       "      <td>196386.0</td>\n",
       "      <td>676174.0</td>\n",
       "      <td>208.327876</td>\n",
       "      <td>252.187522</td>\n",
       "      <td>207.963517</td>\n",
       "      <td>NaN</td>\n",
       "    </tr>\n",
       "    <tr>\n",
       "      <th>1</th>\n",
       "      <td>1992_ALASKA</td>\n",
       "      <td>ALASKA</td>\n",
       "      <td>1992</td>\n",
       "      <td>NaN</td>\n",
       "      <td>1049591.0</td>\n",
       "      <td>106780.0</td>\n",
       "      <td>720711.0</td>\n",
       "      <td>222100.0</td>\n",
       "      <td>972488.0</td>\n",
       "      <td>498362.0</td>\n",
       "      <td>...</td>\n",
       "      <td>9748.0</td>\n",
       "      <td>8789.0</td>\n",
       "      <td>6714.0</td>\n",
       "      <td>79117.0</td>\n",
       "      <td>30847.0</td>\n",
       "      <td>112335.0</td>\n",
       "      <td>NaN</td>\n",
       "      <td>NaN</td>\n",
       "      <td>NaN</td>\n",
       "      <td>258.859712</td>\n",
       "    </tr>\n",
       "    <tr>\n",
       "      <th>2</th>\n",
       "      <td>1992_ARIZONA</td>\n",
       "      <td>ARIZONA</td>\n",
       "      <td>1992</td>\n",
       "      <td>NaN</td>\n",
       "      <td>3258079.0</td>\n",
       "      <td>297888.0</td>\n",
       "      <td>1369815.0</td>\n",
       "      <td>1590376.0</td>\n",
       "      <td>3401580.0</td>\n",
       "      <td>1435908.0</td>\n",
       "      <td>...</td>\n",
       "      <td>55433.0</td>\n",
       "      <td>49081.0</td>\n",
       "      <td>37410.0</td>\n",
       "      <td>437127.0</td>\n",
       "      <td>175210.0</td>\n",
       "      <td>614881.0</td>\n",
       "      <td>215.253932</td>\n",
       "      <td>265.366278</td>\n",
       "      <td>206.212716</td>\n",
       "      <td>262.169895</td>\n",
       "    </tr>\n",
       "    <tr>\n",
       "      <th>3</th>\n",
       "      <td>1992_ARKANSAS</td>\n",
       "      <td>ARKANSAS</td>\n",
       "      <td>1992</td>\n",
       "      <td>NaN</td>\n",
       "      <td>1711959.0</td>\n",
       "      <td>178571.0</td>\n",
       "      <td>958785.0</td>\n",
       "      <td>574603.0</td>\n",
       "      <td>1743022.0</td>\n",
       "      <td>964323.0</td>\n",
       "      <td>...</td>\n",
       "      <td>34632.0</td>\n",
       "      <td>36011.0</td>\n",
       "      <td>27651.0</td>\n",
       "      <td>281338.0</td>\n",
       "      <td>123113.0</td>\n",
       "      <td>405259.0</td>\n",
       "      <td>210.206028</td>\n",
       "      <td>256.312090</td>\n",
       "      <td>208.634458</td>\n",
       "      <td>264.619665</td>\n",
       "    </tr>\n",
       "    <tr>\n",
       "      <th>4</th>\n",
       "      <td>1992_CALIFORNIA</td>\n",
       "      <td>CALIFORNIA</td>\n",
       "      <td>1992</td>\n",
       "      <td>NaN</td>\n",
       "      <td>26260025.0</td>\n",
       "      <td>2072470.0</td>\n",
       "      <td>16546514.0</td>\n",
       "      <td>7641041.0</td>\n",
       "      <td>27138832.0</td>\n",
       "      <td>14358922.0</td>\n",
       "      <td>...</td>\n",
       "      <td>418418.0</td>\n",
       "      <td>363296.0</td>\n",
       "      <td>270675.0</td>\n",
       "      <td>3286034.0</td>\n",
       "      <td>1372011.0</td>\n",
       "      <td>4717112.0</td>\n",
       "      <td>208.398961</td>\n",
       "      <td>260.892247</td>\n",
       "      <td>196.764414</td>\n",
       "      <td>NaN</td>\n",
       "    </tr>\n",
       "  </tbody>\n",
       "</table>\n",
       "<p>5 rows × 25 columns</p>\n",
       "</div>"
      ],
      "text/plain": [
       "       PRIMARY_KEY       STATE  YEAR  ENROLL  TOTAL_REVENUE  FEDERAL_REVENUE  \\\n",
       "0     1992_ALABAMA     ALABAMA  1992     NaN      2678885.0         304177.0   \n",
       "1      1992_ALASKA      ALASKA  1992     NaN      1049591.0         106780.0   \n",
       "2     1992_ARIZONA     ARIZONA  1992     NaN      3258079.0         297888.0   \n",
       "3    1992_ARKANSAS    ARKANSAS  1992     NaN      1711959.0         178571.0   \n",
       "4  1992_CALIFORNIA  CALIFORNIA  1992     NaN     26260025.0        2072470.0   \n",
       "\n",
       "   STATE_REVENUE  LOCAL_REVENUE  TOTAL_EXPENDITURE  INSTRUCTION_EXPENDITURE  \\\n",
       "0      1659028.0       715680.0          2653798.0                1481703.0   \n",
       "1       720711.0       222100.0           972488.0                 498362.0   \n",
       "2      1369815.0      1590376.0          3401580.0                1435908.0   \n",
       "3       958785.0       574603.0          1743022.0                 964323.0   \n",
       "4     16546514.0      7641041.0         27138832.0               14358922.0   \n",
       "\n",
       "   ...  GRADES_4_G  GRADES_8_G  GRADES_12_G  GRADES_1_8_G  GRADES_9_12_G  \\\n",
       "0  ...     57948.0     58025.0      41167.0      471564.0       196386.0   \n",
       "1  ...      9748.0      8789.0       6714.0       79117.0        30847.0   \n",
       "2  ...     55433.0     49081.0      37410.0      437127.0       175210.0   \n",
       "3  ...     34632.0     36011.0      27651.0      281338.0       123113.0   \n",
       "4  ...    418418.0    363296.0     270675.0     3286034.0      1372011.0   \n",
       "\n",
       "   GRADES_ALL_G  AVG_MATH_4_SCORE  AVG_MATH_8_SCORE  AVG_READING_4_SCORE  \\\n",
       "0      676174.0        208.327876        252.187522           207.963517   \n",
       "1      112335.0               NaN               NaN                  NaN   \n",
       "2      614881.0        215.253932        265.366278           206.212716   \n",
       "3      405259.0        210.206028        256.312090           208.634458   \n",
       "4     4717112.0        208.398961        260.892247           196.764414   \n",
       "\n",
       "   AVG_READING_8_SCORE  \n",
       "0                  NaN  \n",
       "1           258.859712  \n",
       "2           262.169895  \n",
       "3           264.619665  \n",
       "4                  NaN  \n",
       "\n",
       "[5 rows x 25 columns]"
      ]
     },
     "execution_count": 5,
     "metadata": {},
     "output_type": "execute_result"
    }
   ],
   "source": [
    "usedu_df.head()"
   ]
  },
  {
   "cell_type": "code",
   "execution_count": 6,
   "metadata": {
    "scrolled": false
   },
   "outputs": [
    {
     "name": "stdout",
     "output_type": "stream",
     "text": [
      "                                    before            after       \n",
      "PRIMARY_KEY                         0.0                  0.0            \n",
      "STATE                               0.0                  0.0            \n",
      "YEAR                                0.0                  0.0            \n",
      "ENROLL                              17.6                 14.1           \n",
      "TOTAL_REVENUE                       14.2                 10.8           \n",
      "FEDERAL_REVENUE                     14.2                 10.8           \n",
      "STATE_REVENUE                       14.2                 10.8           \n",
      "LOCAL_REVENUE                       14.2                 10.8           \n",
      "TOTAL_EXPENDITURE                   14.2                 10.8           \n",
      "INSTRUCTION_EXPENDITURE             14.2                 10.8           \n",
      "SUPPORT_SERVICES_EXPENDITURE        14.2                 10.8           \n",
      "OTHER_EXPENDITURE                   17.6                 14.1           \n",
      "CAPITAL_OUTLAY_EXPENDITURE          14.2                 10.8           \n",
      "GRADES_PK_G                         11.6                 3.28           \n",
      "GRADES_KG_G                         8.85                 0.469          \n",
      "GRADES_4_G                          8.78                 0.469          \n",
      "GRADES_8_G                          8.78                 0.469          \n",
      "GRADES_12_G                         8.78                 0.469          \n",
      "GRADES_1_8_G                        8.78                 0.469          \n",
      "GRADES_9_12_G                       8.78                 0.469          \n",
      "GRADES_ALL_G                        11.6                 3.28           \n",
      "AVG_MATH_4_SCORE                    64.1                 14.4           \n",
      "AVG_MATH_8_SCORE                    64.3                 14.7           \n",
      "AVG_READING_4_SCORE                 64.3                 16.2           \n",
      "AVG_READING_8_SCORE                 66.6                 26.5           \n"
     ]
    }
   ],
   "source": [
    "# using pandas interpolation function to fill missing values\n",
    "fill_cols = usedu_df.columns[3:]\n",
    "states = usedu_df['STATE'].unique()\n",
    "\n",
    "# save empty enteries stats\n",
    "before_impute = (usedu_df.isnull().sum()/usedu_df.shape[0]*100).values\n",
    "\n",
    "for state in states:\n",
    "    usedu_df.loc[usedu_df['STATE'] == state, fill_cols] = usedu_df.loc[usedu_df['STATE'] == state, fill_cols].interpolate()\n",
    "\n",
    "# print percent of empty cells before and after imputation\n",
    "after_impute = (usedu_df.isnull().sum()/usedu_df.shape[0]*100).values\n",
    "impute_ind = (usedu_df.isnull().sum()/usedu_df.shape[0]*100).index\n",
    "print('{0:<30}      {1:<12}      {2:<12}'.format('', 'before', 'after')) \n",
    "for row in zip(impute_ind, before_impute, after_impute):\n",
    "    print('{0:<30}      {1:<15.3}      {2:<15.3}'.format(*row))   "
   ]
  },
  {
   "cell_type": "code",
   "execution_count": 7,
   "metadata": {
    "scrolled": false
   },
   "outputs": [
    {
     "name": "stdout",
     "output_type": "stream",
     "text": [
      "                                    before            after       \n",
      "PRIMARY_KEY                         0.0               0.0         \n",
      "STATE                               0.0               0.0         \n",
      "YEAR                                0.0               0.0         \n",
      "ENROLL                              14.1              0.0         \n",
      "TOTAL_REVENUE                       10.8              0.0         \n",
      "FEDERAL_REVENUE                     10.8              0.0         \n",
      "STATE_REVENUE                       10.8              0.0         \n",
      "LOCAL_REVENUE                       10.8              0.0         \n",
      "TOTAL_EXPENDITURE                   10.8              0.0         \n",
      "INSTRUCTION_EXPENDITURE             10.8              0.0         \n",
      "SUPPORT_SERVICES_EXPENDITURE        10.8              0.0         \n",
      "OTHER_EXPENDITURE                   14.1              0.0         \n",
      "CAPITAL_OUTLAY_EXPENDITURE          10.8              0.0         \n",
      "GRADES_PK_G                         3.28              0.0         \n",
      "GRADES_KG_G                         0.469             0.0         \n",
      "GRADES_4_G                          0.469             0.0         \n",
      "GRADES_8_G                          0.469             0.0         \n",
      "GRADES_12_G                         0.469             0.0         \n",
      "GRADES_1_8_G                        0.469             0.0         \n",
      "GRADES_9_12_G                       0.469             0.0         \n",
      "GRADES_ALL_G                        3.28              0.0         \n",
      "AVG_MATH_4_SCORE                    14.4              0.0         \n",
      "AVG_MATH_8_SCORE                    14.7              0.0         \n",
      "AVG_READING_4_SCORE                 16.2              0.0         \n",
      "AVG_READING_8_SCORE                 26.5              0.0         \n"
     ]
    }
   ],
   "source": [
    "# save empty enteries stats\n",
    "before_impute = (usedu_df.isnull().sum()/usedu_df.shape[0]*100).values\n",
    "\n",
    "# save a copy of the dataframe with missing values for 17.5.5\n",
    "usedu_copy = usedu_df.copy()\n",
    "\n",
    "# remaining missing values will be dropped\n",
    "usedu_df.dropna(inplace=True)\n",
    "\n",
    "# print percent of empty cells before and after imputation\n",
    "after_impute = (usedu_df.isnull().sum()/usedu_df.shape[0]*100).values\n",
    "impute_ind = (usedu_df.isnull().sum()/usedu_df.shape[0]*100).index\n",
    "print('{0:<30}      {1:<12}      {2:<12}'.format('', 'before', 'after')) \n",
    "for row in zip(impute_ind, before_impute, after_impute):\n",
    "    print('{0:<30}      {1:<12.3}      {2:<12.3}'.format(*row))"
   ]
  },
  {
   "cell_type": "markdown",
   "metadata": {},
   "source": [
    "*** \n",
    "# Handling outliers"
   ]
  },
  {
   "cell_type": "code",
   "execution_count": 8,
   "metadata": {},
   "outputs": [
    {
     "data": {
      "image/png": "[encoded data removed]",
      "text/plain": [
       "<Figure size 432x288 with 1 Axes>"
      ]
     },
     "metadata": {
      "needs_background": "light"
     },
     "output_type": "display_data"
    }
   ],
   "source": [
    "# visualizing outliers of TOTAL REVENUE/ EXPENDITURE\n",
    "\n",
    "sns.boxplot(data= usedu_df[['TOTAL_REVENUE','TOTAL_EXPENDITURE']])\n",
    "plt.title('Boxplot of total revenue and total expenditure')\n",
    "plt.show()"
   ]
  },
  {
   "cell_type": "code",
   "execution_count": 9,
   "metadata": {},
   "outputs": [
    {
     "data": {
      "image/png": "[encoded data removed]",
      "text/plain": [
       "<Figure size 720x360 with 2 Axes>"
      ]
     },
     "metadata": {
      "needs_background": "light"
     },
     "output_type": "display_data"
    }
   ],
   "source": [
    "# histograms of TOTAL REVENUE/ EXPENDITURE\n",
    "plt.figure(figsize=(10,5))\n",
    "\n",
    "plt.subplot(1, 2, 1)\n",
    "plt.hist(usedu_df['TOTAL_REVENUE'])\n",
    "plt.title(\"histogram of revenue\")\n",
    "\n",
    "plt.subplot(1, 2, 2)\n",
    "plt.hist(usedu_df['TOTAL_EXPENDITURE'])\n",
    "plt.title(\"histogram of expenditure\")\n",
    "\n",
    "plt.show()\n"
   ]
  },
  {
   "cell_type": "code",
   "execution_count": 10,
   "metadata": {},
   "outputs": [
    {
     "name": "stdout",
     "output_type": "stream",
     "text": [
      "Total revenue outliers:\n",
      "The score threshold is: 1\n",
      "Number of outliers is: 111\n",
      "The score threshold is: 2\n",
      "Number of outliers is: 49\n",
      "The score threshold is: 3\n",
      "Number of outliers is: 36\n",
      "The score threshold is: 4\n",
      "Number of outliers is: 16\n",
      "_____________________________________________\n",
      "Total expenditure outliers:\n",
      "The score threshold is: 1\n",
      "Number of outliers is: 107\n",
      "The score threshold is: 2\n",
      "Number of outliers is: 50\n",
      "The score threshold is: 3\n",
      "Number of outliers is: 38\n",
      "The score threshold is: 4\n",
      "Number of outliers is: 17\n"
     ]
    }
   ],
   "source": [
    "# z-score test\n",
    "\n",
    "rev_z_scores = zscore(usedu_df['TOTAL_REVENUE'])\n",
    "print('Total revenue outliers:')\n",
    "for threshold in range(1,5):\n",
    "    print(\"The score threshold is: {}\".format(threshold))\n",
    "    print(\"Number of outliers is: {}\".format(len((np.where(rev_z_scores > threshold)[0]))))\n",
    "\n",
    "print('_____________________________________________')\n",
    "exp_z_scores = zscore(usedu_df['TOTAL_EXPENDITURE'])\n",
    "print('Total expenditure outliers:')\n",
    "for threshold in range(1,5):\n",
    "    print(\"The score threshold is: {}\".format(threshold))\n",
    "    print(\"Number of outliers is: {}\".format(len((np.where(exp_z_scores > threshold)[0]))))"
   ]
  },
  {
   "cell_type": "code",
   "execution_count": 11,
   "metadata": {},
   "outputs": [
    {
     "name": "stdout",
     "output_type": "stream",
     "text": [
      "Total revenue outliers:\n",
      "The score threshold is: 1.0\n",
      "Number of outliers is: 126\n",
      "The score threshold is: 1.5\n",
      "Number of outliers is: 95\n",
      "The score threshold is: 2.0\n",
      "Number of outliers is: 62\n",
      "The score threshold is: 2.5\n",
      "Number of outliers is: 51\n",
      "The score threshold is: 3.0\n",
      "Number of outliers is: 46\n",
      "The score threshold is: 3.5\n",
      "Number of outliers is: 42\n",
      "The score threshold is: 4.0\n",
      "Number of outliers is: 36\n",
      "The score threshold is: 4.5\n",
      "Number of outliers is: 30\n",
      "_____________________________________________\n",
      "Total expenditure outliers:\n",
      "The score threshold is: 1.0\n",
      "Number of outliers is: 131\n",
      "The score threshold is: 1.5\n",
      "Number of outliers is: 100\n",
      "The score threshold is: 2.0\n",
      "Number of outliers is: 66\n",
      "The score threshold is: 2.5\n",
      "Number of outliers is: 51\n",
      "The score threshold is: 3.0\n",
      "Number of outliers is: 47\n",
      "The score threshold is: 3.5\n",
      "Number of outliers is: 44\n",
      "The score threshold is: 4.0\n",
      "Number of outliers is: 39\n",
      "The score threshold is: 4.5\n",
      "Number of outliers is: 34\n"
     ]
    }
   ],
   "source": [
    "# Tukey's method for outliers\n",
    "\n",
    "q75, q25 = np.percentile(usedu_df['TOTAL_REVENUE'] , [75 ,25])\n",
    "iqr = q75 - q25\n",
    "\n",
    "print('Total revenue outliers:')\n",
    "for threshold in np.arange(1,5,0.5):\n",
    "    min_val = q25 - (iqr*threshold)\n",
    "    max_val = q75 + (iqr*threshold)\n",
    "    print(\"The score threshold is: {}\".format(threshold))\n",
    "    print(\"Number of outliers is: {}\".format(\n",
    "        len((np.where((usedu_df['TOTAL_REVENUE'] > max_val) | (usedu_df['TOTAL_REVENUE'] < min_val))[0])) ))\n",
    "\n",
    "print('_____________________________________________')\n",
    "q75, q25 = np.percentile(usedu_df['TOTAL_EXPENDITURE'], [75 ,25])\n",
    "iqr = q75 - q25\n",
    "\n",
    "print('Total expenditure outliers:')\n",
    "for threshold in np.arange(1,5,0.5):\n",
    "    min_val = q25 - (iqr*threshold)\n",
    "    max_val = q75 + (iqr*threshold)\n",
    "    print(\"The score threshold is: {}\".format(threshold))\n",
    "    print(\"Number of outliers is: {}\".format(\n",
    "        len((np.where((usedu_df['TOTAL_EXPENDITURE'] > max_val) | (usedu_df['TOTAL_EXPENDITURE'] < min_val))[0])) ))"
   ]
  },
  {
   "cell_type": "code",
   "execution_count": 12,
   "metadata": {},
   "outputs": [
    {
     "data": {
      "image/png": "[encoded data removed]",
      "text/plain": [
       "<Figure size 720x720 with 2 Axes>"
      ]
     },
     "metadata": {
      "needs_background": "light"
     },
     "output_type": "display_data"
    }
   ],
   "source": [
    "# Winsorization\n",
    "plt.figure(figsize = (10,10))\n",
    "winsorized_rev = winsorize(usedu_df['TOTAL_REVENUE'], (0.10, 0.10))\n",
    "winsorized_exp = winsorize(usedu_df['TOTAL_EXPENDITURE'], (0.10, 0.10))\n",
    "\n",
    "plt.subplot(2,1,1)\n",
    "df = pd.DataFrame(list(zip(usedu_df['TOTAL_REVENUE'], winsorized_rev)), columns =['TOTAL_REVENUE', 'WIN_TOTAL_REV']) \n",
    "sns.boxplot(data=df)\n",
    "plt.title(\"Box plot of windsorized total revenue\")\n",
    "\n",
    "plt.subplot(2,1,2)\n",
    "df = pd.DataFrame(list(zip(usedu_df['TOTAL_EXPENDITURE'], winsorized_exp)), columns =['TOTAL_EXPENDITURE', 'WIN_TOTAL_EXP']) \n",
    "sns.boxplot(data=df)\n",
    "plt.title(\"Box plot of windsorized total expenditure\")\n",
    "plt.show()"
   ]
  },
  {
   "cell_type": "code",
   "execution_count": 13,
   "metadata": {},
   "outputs": [
    {
     "data": {
      "image/png": "[encoded data removed]",
      "text/plain": [
       "<Figure size 1080x720 with 4 Axes>"
      ]
     },
     "metadata": {
      "needs_background": "light"
     },
     "output_type": "display_data"
    }
   ],
   "source": [
    "# Log transofrmation\n",
    "plt.figure(figsize = (15,10))\n",
    "\n",
    "plt.subplot(2,2,1)\n",
    "plt.hist(usedu_df['TOTAL_REVENUE'])\n",
    "plt.title(\"Histogram of total revenue\")\n",
    "\n",
    "plt.subplot(2,2,2)\n",
    "plt.hist(np.log(usedu_df['TOTAL_REVENUE']))\n",
    "plt.title(\"Histogram of log transformed total revenue\")\n",
    "\n",
    "plt.subplot(2,2,3)\n",
    "plt.hist(usedu_df['TOTAL_EXPENDITURE'])\n",
    "plt.title(\"Histogram of total expenditure\")\n",
    "\n",
    "plt.subplot(2,2,4)\n",
    "plt.hist(np.log(usedu_df['TOTAL_EXPENDITURE']))\n",
    "plt.title(\"Histogram of log transformed total expenditure\")\n",
    "\n",
    "\n",
    "plt.show()"
   ]
  },
  {
   "cell_type": "code",
   "execution_count": 14,
   "metadata": {},
   "outputs": [
    {
     "name": "stdout",
     "output_type": "stream",
     "text": [
      "Total revenue outliers:\n",
      "The score threshold is: 1.0\n",
      "Number of outliers is: 28\n",
      "The score threshold is: 1.5\n",
      "Number of outliers is: 0\n",
      "The score threshold is: 2.0\n",
      "Number of outliers is: 0\n",
      "The score threshold is: 2.5\n",
      "Number of outliers is: 0\n",
      "The score threshold is: 3.0\n",
      "Number of outliers is: 0\n",
      "The score threshold is: 3.5\n",
      "Number of outliers is: 0\n",
      "The score threshold is: 4.0\n",
      "Number of outliers is: 0\n",
      "The score threshold is: 4.5\n",
      "Number of outliers is: 0\n",
      "_____________________________________________\n",
      "Total expenditure outliers:\n",
      "The score threshold is: 1.0\n",
      "Number of outliers is: 33\n",
      "The score threshold is: 1.5\n",
      "Number of outliers is: 0\n",
      "The score threshold is: 2.0\n",
      "Number of outliers is: 0\n",
      "The score threshold is: 2.5\n",
      "Number of outliers is: 0\n",
      "The score threshold is: 3.0\n",
      "Number of outliers is: 0\n",
      "The score threshold is: 3.5\n",
      "Number of outliers is: 0\n",
      "The score threshold is: 4.0\n",
      "Number of outliers is: 0\n",
      "The score threshold is: 4.5\n",
      "Number of outliers is: 0\n"
     ]
    }
   ],
   "source": [
    "# Effect of log trnasformation on outliers\n",
    "\n",
    "q75, q25 = np.percentile(np.log(usedu_df['TOTAL_REVENUE']), [75 ,25])\n",
    "iqr = q75 - q25\n",
    "\n",
    "print('Total revenue outliers:')\n",
    "for threshold in np.arange(1,5,0.5):\n",
    "    min_val = q25 - (iqr*threshold)\n",
    "    max_val = q75 + (iqr*threshold)\n",
    "    print(\"The score threshold is: {}\".format(threshold))\n",
    "    print(\"Number of outliers is: {}\".format(\n",
    "        len((np.where((np.log(usedu_df['TOTAL_REVENUE']) > max_val) | (np.log(usedu_df['TOTAL_REVENUE']) < min_val))[0])) ))\n",
    "\n",
    "print('_____________________________________________')\n",
    "q75, q25 = np.percentile(np.log(usedu_df['TOTAL_EXPENDITURE']), [75 ,25])\n",
    "iqr = q75 - q25\n",
    "\n",
    "print('Total expenditure outliers:')\n",
    "for threshold in np.arange(1,5,0.5):\n",
    "    min_val = q25 - (iqr*threshold)\n",
    "    max_val = q75 + (iqr*threshold)\n",
    "    print(\"The score threshold is: {}\".format(threshold))\n",
    "    print(\"Number of outliers is: {}\".format(\n",
    "        len((np.where((np.log(usedu_df['TOTAL_EXPENDITURE']) > max_val) | (np.log(usedu_df['TOTAL_EXPENDITURE']) < min_val))[0])) ))\n",
    "\n"
   ]
  },
  {
   "cell_type": "markdown",
   "metadata": {},
   "source": [
    "The number of outliers decreased dramatically after log transformation"
   ]
  },
  {
   "cell_type": "code",
   "execution_count": 15,
   "metadata": {},
   "outputs": [],
   "source": [
    "# Saving the log trnasformed data into the dataframe\n",
    "\n",
    "usedu_df['LOG_TOTAL_REVENUE'] = np.log( usedu_df['TOTAL_REVENUE'])\n",
    "usedu_df['LOG_TOTAL_EXPENDITURE'] = np.log( usedu_df['TOTAL_EXPENDITURE'])"
   ]
  },
  {
   "cell_type": "code",
   "execution_count": 16,
   "metadata": {},
   "outputs": [
    {
     "data": {
      "image/png": "[encoded data removed]",
      "text/plain": [
       "<Figure size 360x720 with 2 Axes>"
      ]
     },
     "metadata": {
      "needs_background": "light"
     },
     "output_type": "display_data"
    }
   ],
   "source": [
    "# Creating budget deficit column\n",
    "plt.figure( figsize = (5,10))\n",
    "\n",
    "usedu_df['BUDGET_DEFICIT'] = usedu_df['TOTAL_REVENUE'] - usedu_df['TOTAL_EXPENDITURE']\n",
    "plt.subplot(2,1,1)\n",
    "sns.boxplot( usedu_df['BUDGET_DEFICIT'], orient='v')\n",
    "plt.title('Boxplot of budget deficit')\n",
    "\n",
    "plt.subplot(2,1,2)\n",
    "plt.hist(usedu_df['BUDGET_DEFICIT'])\n",
    "plt.title('Histogram of budget deficit')\n",
    "plt.show()"
   ]
  },
  {
   "cell_type": "code",
   "execution_count": 17,
   "metadata": {
    "scrolled": true
   },
   "outputs": [
    {
     "name": "stdout",
     "output_type": "stream",
     "text": [
      "Budget deficit outliers:\n",
      "The score threshold is: 1.0\n",
      "Number of outliers is: 209\n",
      "The score threshold is: 1.5\n",
      "Number of outliers is: 144\n",
      "The score threshold is: 2.0\n",
      "Number of outliers is: 109\n",
      "The score threshold is: 2.5\n",
      "Number of outliers is: 89\n",
      "The score threshold is: 3.0\n",
      "Number of outliers is: 73\n",
      "The score threshold is: 3.5\n",
      "Number of outliers is: 65\n",
      "The score threshold is: 4.0\n",
      "Number of outliers is: 50\n",
      "The score threshold is: 4.5\n",
      "Number of outliers is: 39\n"
     ]
    }
   ],
   "source": [
    "# Checking outliers in budget deficit using Tukey's method\n",
    "\n",
    "q75, q25 = np.percentile(usedu_df['BUDGET_DEFICIT'] , [75 ,25])\n",
    "iqr = q75 - q25\n",
    "\n",
    "print('Budget deficit outliers:')\n",
    "for threshold in np.arange(1,5,0.5):\n",
    "    min_val = q25 - (iqr*threshold)\n",
    "    max_val = q75 + (iqr*threshold)\n",
    "    print(\"The score threshold is: {}\".format(threshold))\n",
    "    print(\"Number of outliers is: {}\".format(\n",
    "        len((np.where((usedu_df['BUDGET_DEFICIT'] > max_val) | (usedu_df['BUDGET_DEFICIT'] < min_val))[0])) ))"
   ]
  },
  {
   "cell_type": "code",
   "execution_count": 18,
   "metadata": {},
   "outputs": [
    {
     "name": "stdout",
     "output_type": "stream",
     "text": [
      "Budget deficit outliers:\n",
      "The score threshold is: 1\n",
      "Number of outliers is: 58\n",
      "The score threshold is: 2\n",
      "Number of outliers is: 16\n",
      "The score threshold is: 3\n",
      "Number of outliers is: 7\n",
      "The score threshold is: 4\n",
      "Number of outliers is: 4\n"
     ]
    }
   ],
   "source": [
    "# Checking outliers in budget deficit using z-score\n",
    "\n",
    "budget_z_scores = zscore(usedu_df['BUDGET_DEFICIT'])\n",
    "print('Budget deficit outliers:')\n",
    "for threshold in range(1,5):\n",
    "    print(\"The score threshold is: {}\".format(threshold))\n",
    "    print(\"Number of outliers is: {}\".format(len((np.where(budget_z_scores > threshold)[0]))))"
   ]
  },
  {
   "cell_type": "code",
   "execution_count": 19,
   "metadata": {},
   "outputs": [
    {
     "data": {
      "image/png": "[encoded data removed]",
      "text/plain": [
       "<Figure size 432x288 with 1 Axes>"
      ]
     },
     "metadata": {
      "needs_background": "light"
     },
     "output_type": "display_data"
    }
   ],
   "source": [
    "# Cannot log transform because of negative values\n",
    "# Use winsorization\n",
    "winsorized_budget = winsorize(usedu_df['BUDGET_DEFICIT'], (0.10, 0.10))\n",
    "\n",
    "df = pd.DataFrame(list(zip(usedu_df['BUDGET_DEFICIT'], winsorized_budget)), columns =['BUDGET_DEFICIT', 'WIN_BUDGET_DEFICIT']) \n",
    "sns.boxplot(data=df)\n",
    "plt.title(\"Box plot of winsorized budget deficit\")\n",
    "plt.show()"
   ]
  },
  {
   "cell_type": "code",
   "execution_count": 20,
   "metadata": {},
   "outputs": [
    {
     "data": {
      "image/png": "[encoded data removed]",
      "text/plain": [
       "<Figure size 720x360 with 2 Axes>"
      ]
     },
     "metadata": {
      "needs_background": "light"
     },
     "output_type": "display_data"
    }
   ],
   "source": [
    "plt.figure( figsize = (10,5))\n",
    "\n",
    "plt.subplot(1,2,1)\n",
    "plt.hist(usedu_df['BUDGET_DEFICIT'])\n",
    "plt.title('histogram of budget deficit')\n",
    "\n",
    "plt.subplot(1,2,2)\n",
    "plt.hist(winsorized_budget)\n",
    "plt.title('histogram of winsorized budget deficit')\n",
    "\n",
    "plt.show()"
   ]
  },
  {
   "cell_type": "code",
   "execution_count": 21,
   "metadata": {},
   "outputs": [
    {
     "data": {
      "image/png": "[encoded data removed]",
      "text/plain": [
       "<Figure size 360x720 with 2 Axes>"
      ]
     },
     "metadata": {
      "needs_background": "light"
     },
     "output_type": "display_data"
    }
   ],
   "source": [
    "# Creating budget deficit column from modified revenue and expenditure values\n",
    "\n",
    "plt.figure( figsize = (5,10))\n",
    "\n",
    "usedu_df['LOG_BUDGET_DEFICIT'] = usedu_df['LOG_TOTAL_REVENUE'] - usedu_df['LOG_TOTAL_EXPENDITURE']\n",
    "plt.subplot(2,1,1)\n",
    "sns.boxplot( usedu_df['LOG_BUDGET_DEFICIT'], orient='v')\n",
    "plt.title('Boxplot of modified budget deficit')\n",
    "\n",
    "plt.subplot(2,1,2)\n",
    "plt.hist(usedu_df['LOG_BUDGET_DEFICIT'])\n",
    "plt.title('Histogram of modified budget deficit')\n",
    "plt.show()"
   ]
  },
  {
   "cell_type": "code",
   "execution_count": 22,
   "metadata": {},
   "outputs": [
    {
     "name": "stdout",
     "output_type": "stream",
     "text": [
      "Budget deficit outliers:\n",
      "The score threshold is: 1\n",
      "Number of outliers is: 111\n",
      "The score threshold is: 2\n",
      "Number of outliers is: 28\n",
      "The score threshold is: 3\n",
      "Number of outliers is: 12\n",
      "The score threshold is: 4\n",
      "Number of outliers is: 8\n"
     ]
    }
   ],
   "source": [
    "# Checking outliers in modified budget deficit using z-score\n",
    "\n",
    "log_budget_z_scores = zscore(usedu_df['LOG_BUDGET_DEFICIT'])\n",
    "print('Budget deficit outliers:')\n",
    "for threshold in range(1,5):\n",
    "    print(\"The score threshold is: {}\".format(threshold))\n",
    "    print(\"Number of outliers is: {}\".format(len((np.where(log_budget_z_scores > threshold)[0]))))"
   ]
  },
  {
   "cell_type": "markdown",
   "metadata": {},
   "source": [
    "There seems to be more outliers when using modified revenue and expenditure"
   ]
  },
  {
   "cell_type": "code",
   "execution_count": 23,
   "metadata": {},
   "outputs": [
    {
     "data": {
      "image/png": "[encoded data removed]",
      "text/plain": [
       "<Figure size 432x288 with 1 Axes>"
      ]
     },
     "metadata": {
      "needs_background": "light"
     },
     "output_type": "display_data"
    }
   ],
   "source": [
    "# Winsorize modified budget deficit\n",
    "winsorized_log_budget = winsorize(usedu_df['LOG_BUDGET_DEFICIT'], (0.10, 0.10))\n",
    "\n",
    "df = pd.DataFrame(list(zip(usedu_df['LOG_BUDGET_DEFICIT'], winsorized_log_budget)), columns =['LOG_BUDGET_DEFICIT', 'WIN_LOG_BUDGET_DEFICIT']) \n",
    "sns.boxplot(data=df)\n",
    "plt.title(\"Box plot of windsorized modified budget deficit\")\n",
    "plt.show()"
   ]
  },
  {
   "cell_type": "code",
   "execution_count": 24,
   "metadata": {
    "scrolled": true
   },
   "outputs": [
    {
     "data": {
      "text/html": [
       "<div>\n",
       "<style scoped>\n",
       "    .dataframe tbody tr th:only-of-type {\n",
       "        vertical-align: middle;\n",
       "    }\n",
       "\n",
       "    .dataframe tbody tr th {\n",
       "        vertical-align: top;\n",
       "    }\n",
       "\n",
       "    .dataframe thead th {\n",
       "        text-align: right;\n",
       "    }\n",
       "</style>\n",
       "<table border=\"1\" class=\"dataframe\">\n",
       "  <thead>\n",
       "    <tr style=\"text-align: right;\">\n",
       "      <th></th>\n",
       "      <th>BUDGET_DEFICIT</th>\n",
       "      <th>LOG_BUDGET_DEFICIT</th>\n",
       "    </tr>\n",
       "  </thead>\n",
       "  <tbody>\n",
       "    <tr>\n",
       "      <th>count</th>\n",
       "      <td>1.046000e+03</td>\n",
       "      <td>1046.000000</td>\n",
       "    </tr>\n",
       "    <tr>\n",
       "      <th>mean</th>\n",
       "      <td>-8.971628e+04</td>\n",
       "      <td>-0.003362</td>\n",
       "    </tr>\n",
       "    <tr>\n",
       "      <th>std</th>\n",
       "      <td>6.065230e+05</td>\n",
       "      <td>0.045115</td>\n",
       "    </tr>\n",
       "    <tr>\n",
       "      <th>min</th>\n",
       "      <td>-5.487742e+06</td>\n",
       "      <td>-0.170369</td>\n",
       "    </tr>\n",
       "    <tr>\n",
       "      <th>25%</th>\n",
       "      <td>-1.949450e+05</td>\n",
       "      <td>-0.027178</td>\n",
       "    </tr>\n",
       "    <tr>\n",
       "      <th>50%</th>\n",
       "      <td>-1.583400e+04</td>\n",
       "      <td>-0.004871</td>\n",
       "    </tr>\n",
       "    <tr>\n",
       "      <th>75%</th>\n",
       "      <td>7.736350e+04</td>\n",
       "      <td>0.017054</td>\n",
       "    </tr>\n",
       "    <tr>\n",
       "      <th>max</th>\n",
       "      <td>3.897129e+06</td>\n",
       "      <td>0.332627</td>\n",
       "    </tr>\n",
       "  </tbody>\n",
       "</table>\n",
       "</div>"
      ],
      "text/plain": [
       "       BUDGET_DEFICIT  LOG_BUDGET_DEFICIT\n",
       "count    1.046000e+03         1046.000000\n",
       "mean    -8.971628e+04           -0.003362\n",
       "std      6.065230e+05            0.045115\n",
       "min     -5.487742e+06           -0.170369\n",
       "25%     -1.949450e+05           -0.027178\n",
       "50%     -1.583400e+04           -0.004871\n",
       "75%      7.736350e+04            0.017054\n",
       "max      3.897129e+06            0.332627"
      ]
     },
     "execution_count": 24,
     "metadata": {},
     "output_type": "execute_result"
    }
   ],
   "source": [
    "usedu_df[['BUDGET_DEFICIT', 'LOG_BUDGET_DEFICIT']].describe()"
   ]
  },
  {
   "cell_type": "markdown",
   "metadata": {},
   "source": [
    "***\n",
    "# Data Exploration"
   ]
  },
  {
   "cell_type": "code",
   "execution_count": 25,
   "metadata": {
    "scrolled": false
   },
   "outputs": [
    {
     "data": {
      "text/html": [
       "<div>\n",
       "<style scoped>\n",
       "    .dataframe tbody tr th:only-of-type {\n",
       "        vertical-align: middle;\n",
       "    }\n",
       "\n",
       "    .dataframe tbody tr th {\n",
       "        vertical-align: top;\n",
       "    }\n",
       "\n",
       "    .dataframe thead th {\n",
       "        text-align: right;\n",
       "    }\n",
       "</style>\n",
       "<table border=\"1\" class=\"dataframe\">\n",
       "  <thead>\n",
       "    <tr style=\"text-align: right;\">\n",
       "      <th></th>\n",
       "      <th>PRIMARY_KEY</th>\n",
       "      <th>STATE</th>\n",
       "      <th>YEAR</th>\n",
       "      <th>ENROLL</th>\n",
       "      <th>TOTAL_REVENUE</th>\n",
       "      <th>FEDERAL_REVENUE</th>\n",
       "      <th>STATE_REVENUE</th>\n",
       "      <th>LOCAL_REVENUE</th>\n",
       "      <th>TOTAL_EXPENDITURE</th>\n",
       "      <th>INSTRUCTION_EXPENDITURE</th>\n",
       "      <th>...</th>\n",
       "      <th>GRADES_9_12_G</th>\n",
       "      <th>GRADES_ALL_G</th>\n",
       "      <th>AVG_MATH_4_SCORE</th>\n",
       "      <th>AVG_MATH_8_SCORE</th>\n",
       "      <th>AVG_READING_4_SCORE</th>\n",
       "      <th>AVG_READING_8_SCORE</th>\n",
       "      <th>LOG_TOTAL_REVENUE</th>\n",
       "      <th>LOG_TOTAL_EXPENDITURE</th>\n",
       "      <th>BUDGET_DEFICIT</th>\n",
       "      <th>LOG_BUDGET_DEFICIT</th>\n",
       "    </tr>\n",
       "  </thead>\n",
       "  <tbody>\n",
       "    <tr>\n",
       "      <th>count</th>\n",
       "      <td>1046</td>\n",
       "      <td>1046</td>\n",
       "      <td>1046.000000</td>\n",
       "      <td>1.046000e+03</td>\n",
       "      <td>1.046000e+03</td>\n",
       "      <td>1.046000e+03</td>\n",
       "      <td>1.046000e+03</td>\n",
       "      <td>1.046000e+03</td>\n",
       "      <td>1.046000e+03</td>\n",
       "      <td>1.046000e+03</td>\n",
       "      <td>...</td>\n",
       "      <td>1.046000e+03</td>\n",
       "      <td>1.046000e+03</td>\n",
       "      <td>1046.000000</td>\n",
       "      <td>1046.000000</td>\n",
       "      <td>1046.000000</td>\n",
       "      <td>1046.000000</td>\n",
       "      <td>1046.000000</td>\n",
       "      <td>1046.000000</td>\n",
       "      <td>1.046000e+03</td>\n",
       "      <td>1046.000000</td>\n",
       "    </tr>\n",
       "    <tr>\n",
       "      <th>unique</th>\n",
       "      <td>1041</td>\n",
       "      <td>51</td>\n",
       "      <td>NaN</td>\n",
       "      <td>NaN</td>\n",
       "      <td>NaN</td>\n",
       "      <td>NaN</td>\n",
       "      <td>NaN</td>\n",
       "      <td>NaN</td>\n",
       "      <td>NaN</td>\n",
       "      <td>NaN</td>\n",
       "      <td>...</td>\n",
       "      <td>NaN</td>\n",
       "      <td>NaN</td>\n",
       "      <td>NaN</td>\n",
       "      <td>NaN</td>\n",
       "      <td>NaN</td>\n",
       "      <td>NaN</td>\n",
       "      <td>NaN</td>\n",
       "      <td>NaN</td>\n",
       "      <td>NaN</td>\n",
       "      <td>NaN</td>\n",
       "    </tr>\n",
       "    <tr>\n",
       "      <th>top</th>\n",
       "      <td>2008_VIRGINIA</td>\n",
       "      <td>DISTRICT_OF_COLUMBIA</td>\n",
       "      <td>NaN</td>\n",
       "      <td>NaN</td>\n",
       "      <td>NaN</td>\n",
       "      <td>NaN</td>\n",
       "      <td>NaN</td>\n",
       "      <td>NaN</td>\n",
       "      <td>NaN</td>\n",
       "      <td>NaN</td>\n",
       "      <td>...</td>\n",
       "      <td>NaN</td>\n",
       "      <td>NaN</td>\n",
       "      <td>NaN</td>\n",
       "      <td>NaN</td>\n",
       "      <td>NaN</td>\n",
       "      <td>NaN</td>\n",
       "      <td>NaN</td>\n",
       "      <td>NaN</td>\n",
       "      <td>NaN</td>\n",
       "      <td>NaN</td>\n",
       "    </tr>\n",
       "    <tr>\n",
       "      <th>freq</th>\n",
       "      <td>3</td>\n",
       "      <td>28</td>\n",
       "      <td>NaN</td>\n",
       "      <td>NaN</td>\n",
       "      <td>NaN</td>\n",
       "      <td>NaN</td>\n",
       "      <td>NaN</td>\n",
       "      <td>NaN</td>\n",
       "      <td>NaN</td>\n",
       "      <td>NaN</td>\n",
       "      <td>...</td>\n",
       "      <td>NaN</td>\n",
       "      <td>NaN</td>\n",
       "      <td>NaN</td>\n",
       "      <td>NaN</td>\n",
       "      <td>NaN</td>\n",
       "      <td>NaN</td>\n",
       "      <td>NaN</td>\n",
       "      <td>NaN</td>\n",
       "      <td>NaN</td>\n",
       "      <td>NaN</td>\n",
       "    </tr>\n",
       "    <tr>\n",
       "      <th>mean</th>\n",
       "      <td>NaN</td>\n",
       "      <td>NaN</td>\n",
       "      <td>2006.970363</td>\n",
       "      <td>9.312498e+05</td>\n",
       "      <td>1.016897e+07</td>\n",
       "      <td>8.849582e+05</td>\n",
       "      <td>4.715139e+06</td>\n",
       "      <td>4.568873e+06</td>\n",
       "      <td>1.025869e+07</td>\n",
       "      <td>5.302625e+06</td>\n",
       "      <td>...</td>\n",
       "      <td>2.797579e+05</td>\n",
       "      <td>8.764167e+05</td>\n",
       "      <td>235.269162</td>\n",
       "      <td>278.747113</td>\n",
       "      <td>219.099817</td>\n",
       "      <td>263.615681</td>\n",
       "      <td>15.575633</td>\n",
       "      <td>15.578995</td>\n",
       "      <td>-8.971628e+04</td>\n",
       "      <td>-0.003362</td>\n",
       "    </tr>\n",
       "    <tr>\n",
       "      <th>std</th>\n",
       "      <td>NaN</td>\n",
       "      <td>NaN</td>\n",
       "      <td>6.242782</td>\n",
       "      <td>1.104296e+06</td>\n",
       "      <td>1.288751e+07</td>\n",
       "      <td>1.261405e+06</td>\n",
       "      <td>6.105385e+06</td>\n",
       "      <td>5.989616e+06</td>\n",
       "      <td>1.308992e+07</td>\n",
       "      <td>6.879720e+06</td>\n",
       "      <td>...</td>\n",
       "      <td>3.325605e+05</td>\n",
       "      <td>1.040403e+06</td>\n",
       "      <td>9.632646</td>\n",
       "      <td>9.912572</td>\n",
       "      <td>7.804302</td>\n",
       "      <td>5.768169</td>\n",
       "      <td>1.051681</td>\n",
       "      <td>1.056940</td>\n",
       "      <td>6.065230e+05</td>\n",
       "      <td>0.045115</td>\n",
       "    </tr>\n",
       "    <tr>\n",
       "      <th>min</th>\n",
       "      <td>NaN</td>\n",
       "      <td>NaN</td>\n",
       "      <td>1993.000000</td>\n",
       "      <td>4.386600e+04</td>\n",
       "      <td>6.559710e+05</td>\n",
       "      <td>4.062200e+04</td>\n",
       "      <td>0.000000e+00</td>\n",
       "      <td>2.853100e+04</td>\n",
       "      <td>6.578090e+05</td>\n",
       "      <td>2.834840e+05</td>\n",
       "      <td>...</td>\n",
       "      <td>2.758000e+03</td>\n",
       "      <td>2.455400e+04</td>\n",
       "      <td>187.134670</td>\n",
       "      <td>232.831510</td>\n",
       "      <td>179.324956</td>\n",
       "      <td>236.379102</td>\n",
       "      <td>13.393872</td>\n",
       "      <td>13.396670</td>\n",
       "      <td>-5.487742e+06</td>\n",
       "      <td>-0.170369</td>\n",
       "    </tr>\n",
       "    <tr>\n",
       "      <th>25%</th>\n",
       "      <td>NaN</td>\n",
       "      <td>NaN</td>\n",
       "      <td>2002.000000</td>\n",
       "      <td>2.743105e+05</td>\n",
       "      <td>2.571806e+06</td>\n",
       "      <td>2.323988e+05</td>\n",
       "      <td>1.384262e+06</td>\n",
       "      <td>9.253550e+05</td>\n",
       "      <td>2.537691e+06</td>\n",
       "      <td>1.347766e+06</td>\n",
       "      <td>...</td>\n",
       "      <td>8.084075e+04</td>\n",
       "      <td>2.573745e+05</td>\n",
       "      <td>230.660761</td>\n",
       "      <td>273.383577</td>\n",
       "      <td>214.943439</td>\n",
       "      <td>259.956991</td>\n",
       "      <td>14.760115</td>\n",
       "      <td>14.746764</td>\n",
       "      <td>-1.949450e+05</td>\n",
       "      <td>-0.027178</td>\n",
       "    </tr>\n",
       "    <tr>\n",
       "      <th>50%</th>\n",
       "      <td>NaN</td>\n",
       "      <td>NaN</td>\n",
       "      <td>2007.000000</td>\n",
       "      <td>6.638440e+05</td>\n",
       "      <td>5.842360e+06</td>\n",
       "      <td>4.945290e+05</td>\n",
       "      <td>2.906463e+06</td>\n",
       "      <td>2.335014e+06</td>\n",
       "      <td>5.959529e+06</td>\n",
       "      <td>2.999999e+06</td>\n",
       "      <td>...</td>\n",
       "      <td>1.859055e+05</td>\n",
       "      <td>6.232765e+05</td>\n",
       "      <td>237.041971</td>\n",
       "      <td>280.862695</td>\n",
       "      <td>220.962973</td>\n",
       "      <td>264.517851</td>\n",
       "      <td>15.580645</td>\n",
       "      <td>15.600502</td>\n",
       "      <td>-1.583400e+04</td>\n",
       "      <td>-0.004871</td>\n",
       "    </tr>\n",
       "    <tr>\n",
       "      <th>75%</th>\n",
       "      <td>NaN</td>\n",
       "      <td>NaN</td>\n",
       "      <td>2012.000000</td>\n",
       "      <td>1.008680e+06</td>\n",
       "      <td>1.170678e+07</td>\n",
       "      <td>9.548370e+05</td>\n",
       "      <td>5.892033e+06</td>\n",
       "      <td>5.193129e+06</td>\n",
       "      <td>1.150621e+07</td>\n",
       "      <td>5.971732e+06</td>\n",
       "      <td>...</td>\n",
       "      <td>3.166840e+05</td>\n",
       "      <td>9.682915e+05</td>\n",
       "      <td>241.940254</td>\n",
       "      <td>285.257700</td>\n",
       "      <td>224.164324</td>\n",
       "      <td>267.663197</td>\n",
       "      <td>16.275679</td>\n",
       "      <td>16.258398</td>\n",
       "      <td>7.736350e+04</td>\n",
       "      <td>0.017054</td>\n",
       "    </tr>\n",
       "    <tr>\n",
       "      <th>max</th>\n",
       "      <td>NaN</td>\n",
       "      <td>NaN</td>\n",
       "      <td>2017.000000</td>\n",
       "      <td>6.307022e+06</td>\n",
       "      <td>8.921726e+07</td>\n",
       "      <td>9.990221e+06</td>\n",
       "      <td>5.090457e+07</td>\n",
       "      <td>3.610526e+07</td>\n",
       "      <td>8.532013e+07</td>\n",
       "      <td>4.396452e+07</td>\n",
       "      <td>...</td>\n",
       "      <td>2.013687e+06</td>\n",
       "      <td>5.944746e+06</td>\n",
       "      <td>253.420961</td>\n",
       "      <td>300.568235</td>\n",
       "      <td>236.773867</td>\n",
       "      <td>280.499130</td>\n",
       "      <td>18.306585</td>\n",
       "      <td>18.261921</td>\n",
       "      <td>3.897129e+06</td>\n",
       "      <td>0.332627</td>\n",
       "    </tr>\n",
       "  </tbody>\n",
       "</table>\n",
       "<p>11 rows × 29 columns</p>\n",
       "</div>"
      ],
      "text/plain": [
       "          PRIMARY_KEY                 STATE         YEAR        ENROLL  \\\n",
       "count            1046                  1046  1046.000000  1.046000e+03   \n",
       "unique           1041                    51          NaN           NaN   \n",
       "top     2008_VIRGINIA  DISTRICT_OF_COLUMBIA          NaN           NaN   \n",
       "freq                3                    28          NaN           NaN   \n",
       "mean              NaN                   NaN  2006.970363  9.312498e+05   \n",
       "std               NaN                   NaN     6.242782  1.104296e+06   \n",
       "min               NaN                   NaN  1993.000000  4.386600e+04   \n",
       "25%               NaN                   NaN  2002.000000  2.743105e+05   \n",
       "50%               NaN                   NaN  2007.000000  6.638440e+05   \n",
       "75%               NaN                   NaN  2012.000000  1.008680e+06   \n",
       "max               NaN                   NaN  2017.000000  6.307022e+06   \n",
       "\n",
       "        TOTAL_REVENUE  FEDERAL_REVENUE  STATE_REVENUE  LOCAL_REVENUE  \\\n",
       "count    1.046000e+03     1.046000e+03   1.046000e+03   1.046000e+03   \n",
       "unique            NaN              NaN            NaN            NaN   \n",
       "top               NaN              NaN            NaN            NaN   \n",
       "freq              NaN              NaN            NaN            NaN   \n",
       "mean     1.016897e+07     8.849582e+05   4.715139e+06   4.568873e+06   \n",
       "std      1.288751e+07     1.261405e+06   6.105385e+06   5.989616e+06   \n",
       "min      6.559710e+05     4.062200e+04   0.000000e+00   2.853100e+04   \n",
       "25%      2.571806e+06     2.323988e+05   1.384262e+06   9.253550e+05   \n",
       "50%      5.842360e+06     4.945290e+05   2.906463e+06   2.335014e+06   \n",
       "75%      1.170678e+07     9.548370e+05   5.892033e+06   5.193129e+06   \n",
       "max      8.921726e+07     9.990221e+06   5.090457e+07   3.610526e+07   \n",
       "\n",
       "        TOTAL_EXPENDITURE  INSTRUCTION_EXPENDITURE  ...  GRADES_9_12_G  \\\n",
       "count        1.046000e+03             1.046000e+03  ...   1.046000e+03   \n",
       "unique                NaN                      NaN  ...            NaN   \n",
       "top                   NaN                      NaN  ...            NaN   \n",
       "freq                  NaN                      NaN  ...            NaN   \n",
       "mean         1.025869e+07             5.302625e+06  ...   2.797579e+05   \n",
       "std          1.308992e+07             6.879720e+06  ...   3.325605e+05   \n",
       "min          6.578090e+05             2.834840e+05  ...   2.758000e+03   \n",
       "25%          2.537691e+06             1.347766e+06  ...   8.084075e+04   \n",
       "50%          5.959529e+06             2.999999e+06  ...   1.859055e+05   \n",
       "75%          1.150621e+07             5.971732e+06  ...   3.166840e+05   \n",
       "max          8.532013e+07             4.396452e+07  ...   2.013687e+06   \n",
       "\n",
       "        GRADES_ALL_G  AVG_MATH_4_SCORE  AVG_MATH_8_SCORE  AVG_READING_4_SCORE  \\\n",
       "count   1.046000e+03       1046.000000       1046.000000          1046.000000   \n",
       "unique           NaN               NaN               NaN                  NaN   \n",
       "top              NaN               NaN               NaN                  NaN   \n",
       "freq             NaN               NaN               NaN                  NaN   \n",
       "mean    8.764167e+05        235.269162        278.747113           219.099817   \n",
       "std     1.040403e+06          9.632646          9.912572             7.804302   \n",
       "min     2.455400e+04        187.134670        232.831510           179.324956   \n",
       "25%     2.573745e+05        230.660761        273.383577           214.943439   \n",
       "50%     6.232765e+05        237.041971        280.862695           220.962973   \n",
       "75%     9.682915e+05        241.940254        285.257700           224.164324   \n",
       "max     5.944746e+06        253.420961        300.568235           236.773867   \n",
       "\n",
       "        AVG_READING_8_SCORE  LOG_TOTAL_REVENUE  LOG_TOTAL_EXPENDITURE  \\\n",
       "count           1046.000000        1046.000000            1046.000000   \n",
       "unique                  NaN                NaN                    NaN   \n",
       "top                     NaN                NaN                    NaN   \n",
       "freq                    NaN                NaN                    NaN   \n",
       "mean             263.615681          15.575633              15.578995   \n",
       "std                5.768169           1.051681               1.056940   \n",
       "min              236.379102          13.393872              13.396670   \n",
       "25%              259.956991          14.760115              14.746764   \n",
       "50%              264.517851          15.580645              15.600502   \n",
       "75%              267.663197          16.275679              16.258398   \n",
       "max              280.499130          18.306585              18.261921   \n",
       "\n",
       "        BUDGET_DEFICIT  LOG_BUDGET_DEFICIT  \n",
       "count     1.046000e+03         1046.000000  \n",
       "unique             NaN                 NaN  \n",
       "top                NaN                 NaN  \n",
       "freq               NaN                 NaN  \n",
       "mean     -8.971628e+04           -0.003362  \n",
       "std       6.065230e+05            0.045115  \n",
       "min      -5.487742e+06           -0.170369  \n",
       "25%      -1.949450e+05           -0.027178  \n",
       "50%      -1.583400e+04           -0.004871  \n",
       "75%       7.736350e+04            0.017054  \n",
       "max       3.897129e+06            0.332627  \n",
       "\n",
       "[11 rows x 29 columns]"
      ]
     },
     "execution_count": 25,
     "metadata": {},
     "output_type": "execute_result"
    }
   ],
   "source": [
    "usedu_df.describe(include='all')"
   ]
  },
  {
   "cell_type": "code",
   "execution_count": 26,
   "metadata": {},
   "outputs": [
    {
     "data": {
      "image/png": "[encoded data removed]",
      "text/plain": [
       "<Figure size 432x288 with 2 Axes>"
      ]
     },
     "metadata": {
      "needs_background": "light"
     },
     "output_type": "display_data"
    }
   ],
   "source": [
    "example_state = 'TEXAS'\n",
    "\n",
    "sns.lineplot(x='YEAR', y='TOTAL_REVENUE', data=usedu_df[usedu_df['STATE'] == example_state], label='TOTAL_REVENUE')\n",
    "ax2 = plt.twinx()\n",
    "sns.lineplot(x='YEAR', y='TOTAL_EXPENDITURE', data=usedu_df[usedu_df['STATE'] == example_state], color=\"b\", ax=ax2, label='TOTAL_EXPENDITURE')\n",
    "plt.legend(bbox_to_anchor=(0.455,0.9))\n",
    "plt.show()"
   ]
  },
  {
   "cell_type": "code",
   "execution_count": 27,
   "metadata": {
    "scrolled": false
   },
   "outputs": [
    {
     "data": {
      "image/png": "[encoded data removed]",
      "text/plain": [
       "<Figure size 360x720 with 2 Axes>"
      ]
     },
     "metadata": {
      "needs_background": "light"
     },
     "output_type": "display_data"
    }
   ],
   "source": [
    "# compare reading vs. math\n",
    "plt.figure( figsize = (5,10))\n",
    "usedu_TX = usedu_df[ usedu_df.STATE == 'TEXAS']\n",
    "\n",
    "plt.subplot(2,1,1)\n",
    "df = pd.DataFrame(list(zip(usedu_TX['AVG_MATH_4_SCORE'], usedu_TX['AVG_MATH_8_SCORE'])), columns =['AVG_MATH_4TH', 'AVG_MATH_8TH']) \n",
    "sns.boxplot(data=df)\n",
    "plt.title(\"Box plot of average math scores for 4th and 8th grades\")\n",
    "\n",
    "plt.subplot(2,1,2)\n",
    "df = pd.DataFrame(list(zip(usedu_TX['AVG_READING_4_SCORE'], usedu_TX['AVG_READING_8_SCORE'])), columns =['AVG_READ_4TH', 'AVG_READ_8TH']) \n",
    "sns.boxplot(data=df)\n",
    "plt.title(\"Box plot of average reading scores for 4th and 8th grades\")\n",
    "plt.show()\n"
   ]
  },
  {
   "cell_type": "markdown",
   "metadata": {},
   "source": [
    "8th graders perform significantly better in math and reading than 4th graders."
   ]
  },
  {
   "cell_type": "code",
   "execution_count": 28,
   "metadata": {
    "scrolled": true
   },
   "outputs": [
    {
     "data": {
      "text/html": [
       "<div>\n",
       "<style scoped>\n",
       "    .dataframe tbody tr th:only-of-type {\n",
       "        vertical-align: middle;\n",
       "    }\n",
       "\n",
       "    .dataframe tbody tr th {\n",
       "        vertical-align: top;\n",
       "    }\n",
       "\n",
       "    .dataframe thead th {\n",
       "        text-align: right;\n",
       "    }\n",
       "</style>\n",
       "<table border=\"1\" class=\"dataframe\">\n",
       "  <thead>\n",
       "    <tr style=\"text-align: right;\">\n",
       "      <th></th>\n",
       "      <th>PRIMARY_KEY</th>\n",
       "      <th>STATE</th>\n",
       "      <th>YEAR</th>\n",
       "      <th>ENROLL</th>\n",
       "      <th>TOTAL_REVENUE</th>\n",
       "      <th>FEDERAL_REVENUE</th>\n",
       "      <th>STATE_REVENUE</th>\n",
       "      <th>LOCAL_REVENUE</th>\n",
       "      <th>TOTAL_EXPENDITURE</th>\n",
       "      <th>INSTRUCTION_EXPENDITURE</th>\n",
       "      <th>...</th>\n",
       "      <th>GRADES_9_12_G</th>\n",
       "      <th>GRADES_ALL_G</th>\n",
       "      <th>AVG_MATH_4_SCORE</th>\n",
       "      <th>AVG_MATH_8_SCORE</th>\n",
       "      <th>AVG_READING_4_SCORE</th>\n",
       "      <th>AVG_READING_8_SCORE</th>\n",
       "      <th>LOG_TOTAL_REVENUE</th>\n",
       "      <th>LOG_TOTAL_EXPENDITURE</th>\n",
       "      <th>BUDGET_DEFICIT</th>\n",
       "      <th>LOG_BUDGET_DEFICIT</th>\n",
       "    </tr>\n",
       "  </thead>\n",
       "  <tbody>\n",
       "    <tr>\n",
       "      <th>252</th>\n",
       "      <td>1996_TEXAS</td>\n",
       "      <td>TEXAS</td>\n",
       "      <td>1996</td>\n",
       "      <td>3740260.0</td>\n",
       "      <td>22241369.0</td>\n",
       "      <td>1613462.0</td>\n",
       "      <td>9834742.0</td>\n",
       "      <td>10793165.0</td>\n",
       "      <td>22401797.0</td>\n",
       "      <td>11427564.0</td>\n",
       "      <td>...</td>\n",
       "      <td>1028958.0</td>\n",
       "      <td>3543973.0</td>\n",
       "      <td>228.712920</td>\n",
       "      <td>270.199578</td>\n",
       "      <td>216.862012</td>\n",
       "      <td>263.591742</td>\n",
       "      <td>16.917465</td>\n",
       "      <td>16.924652</td>\n",
       "      <td>-160428.0</td>\n",
       "      <td>-0.007187</td>\n",
       "    </tr>\n",
       "    <tr>\n",
       "      <th>304</th>\n",
       "      <td>1997_TEXAS</td>\n",
       "      <td>TEXAS</td>\n",
       "      <td>1997</td>\n",
       "      <td>3826366.0</td>\n",
       "      <td>23091567.0</td>\n",
       "      <td>1688975.0</td>\n",
       "      <td>9878849.0</td>\n",
       "      <td>11523743.0</td>\n",
       "      <td>23671010.0</td>\n",
       "      <td>12038459.0</td>\n",
       "      <td>...</td>\n",
       "      <td>1059416.0</td>\n",
       "      <td>3602194.0</td>\n",
       "      <td>229.701197</td>\n",
       "      <td>271.361187</td>\n",
       "      <td>216.879570</td>\n",
       "      <td>264.716313</td>\n",
       "      <td>16.954978</td>\n",
       "      <td>16.979762</td>\n",
       "      <td>-579443.0</td>\n",
       "      <td>-0.024784</td>\n",
       "    </tr>\n",
       "    <tr>\n",
       "      <th>355</th>\n",
       "      <td>1998_TEXAS</td>\n",
       "      <td>TEXAS</td>\n",
       "      <td>1998</td>\n",
       "      <td>3888061.0</td>\n",
       "      <td>24485263.0</td>\n",
       "      <td>1830474.0</td>\n",
       "      <td>10632566.0</td>\n",
       "      <td>12022223.0</td>\n",
       "      <td>25723965.0</td>\n",
       "      <td>12804069.0</td>\n",
       "      <td>...</td>\n",
       "      <td>1077158.0</td>\n",
       "      <td>3654935.0</td>\n",
       "      <td>230.689475</td>\n",
       "      <td>272.522797</td>\n",
       "      <td>216.897127</td>\n",
       "      <td>265.840884</td>\n",
       "      <td>17.013582</td>\n",
       "      <td>17.062934</td>\n",
       "      <td>-1238702.0</td>\n",
       "      <td>-0.049352</td>\n",
       "    </tr>\n",
       "    <tr>\n",
       "      <th>407</th>\n",
       "      <td>1999_TEXAS</td>\n",
       "      <td>TEXAS</td>\n",
       "      <td>1999</td>\n",
       "      <td>3933017.0</td>\n",
       "      <td>26096023.0</td>\n",
       "      <td>2161662.0</td>\n",
       "      <td>10802214.0</td>\n",
       "      <td>13132147.0</td>\n",
       "      <td>27883593.0</td>\n",
       "      <td>13486659.0</td>\n",
       "      <td>...</td>\n",
       "      <td>1095930.0</td>\n",
       "      <td>3700977.0</td>\n",
       "      <td>231.677752</td>\n",
       "      <td>273.684406</td>\n",
       "      <td>216.914684</td>\n",
       "      <td>266.965455</td>\n",
       "      <td>17.077293</td>\n",
       "      <td>17.143549</td>\n",
       "      <td>-1787570.0</td>\n",
       "      <td>-0.066256</td>\n",
       "    </tr>\n",
       "    <tr>\n",
       "      <th>460</th>\n",
       "      <td>2000_TEXAS</td>\n",
       "      <td>TEXAS</td>\n",
       "      <td>2000</td>\n",
       "      <td>3965971.0</td>\n",
       "      <td>28918934.0</td>\n",
       "      <td>2406972.0</td>\n",
       "      <td>12471856.0</td>\n",
       "      <td>14040106.0</td>\n",
       "      <td>31067935.0</td>\n",
       "      <td>15018072.0</td>\n",
       "      <td>...</td>\n",
       "      <td>1116572.0</td>\n",
       "      <td>3765402.0</td>\n",
       "      <td>232.666030</td>\n",
       "      <td>274.846016</td>\n",
       "      <td>216.932242</td>\n",
       "      <td>268.090027</td>\n",
       "      <td>17.180007</td>\n",
       "      <td>17.251687</td>\n",
       "      <td>-2149001.0</td>\n",
       "      <td>-0.071680</td>\n",
       "    </tr>\n",
       "  </tbody>\n",
       "</table>\n",
       "<p>5 rows × 29 columns</p>\n",
       "</div>"
      ],
      "text/plain": [
       "    PRIMARY_KEY  STATE  YEAR     ENROLL  TOTAL_REVENUE  FEDERAL_REVENUE  \\\n",
       "252  1996_TEXAS  TEXAS  1996  3740260.0     22241369.0        1613462.0   \n",
       "304  1997_TEXAS  TEXAS  1997  3826366.0     23091567.0        1688975.0   \n",
       "355  1998_TEXAS  TEXAS  1998  3888061.0     24485263.0        1830474.0   \n",
       "407  1999_TEXAS  TEXAS  1999  3933017.0     26096023.0        2161662.0   \n",
       "460  2000_TEXAS  TEXAS  2000  3965971.0     28918934.0        2406972.0   \n",
       "\n",
       "     STATE_REVENUE  LOCAL_REVENUE  TOTAL_EXPENDITURE  INSTRUCTION_EXPENDITURE  \\\n",
       "252      9834742.0     10793165.0         22401797.0               11427564.0   \n",
       "304      9878849.0     11523743.0         23671010.0               12038459.0   \n",
       "355     10632566.0     12022223.0         25723965.0               12804069.0   \n",
       "407     10802214.0     13132147.0         27883593.0               13486659.0   \n",
       "460     12471856.0     14040106.0         31067935.0               15018072.0   \n",
       "\n",
       "     ...  GRADES_9_12_G  GRADES_ALL_G  AVG_MATH_4_SCORE  AVG_MATH_8_SCORE  \\\n",
       "252  ...      1028958.0     3543973.0        228.712920        270.199578   \n",
       "304  ...      1059416.0     3602194.0        229.701197        271.361187   \n",
       "355  ...      1077158.0     3654935.0        230.689475        272.522797   \n",
       "407  ...      1095930.0     3700977.0        231.677752        273.684406   \n",
       "460  ...      1116572.0     3765402.0        232.666030        274.846016   \n",
       "\n",
       "     AVG_READING_4_SCORE  AVG_READING_8_SCORE  LOG_TOTAL_REVENUE  \\\n",
       "252           216.862012           263.591742          16.917465   \n",
       "304           216.879570           264.716313          16.954978   \n",
       "355           216.897127           265.840884          17.013582   \n",
       "407           216.914684           266.965455          17.077293   \n",
       "460           216.932242           268.090027          17.180007   \n",
       "\n",
       "     LOG_TOTAL_EXPENDITURE  BUDGET_DEFICIT  LOG_BUDGET_DEFICIT  \n",
       "252              16.924652       -160428.0           -0.007187  \n",
       "304              16.979762       -579443.0           -0.024784  \n",
       "355              17.062934      -1238702.0           -0.049352  \n",
       "407              17.143549      -1787570.0           -0.066256  \n",
       "460              17.251687      -2149001.0           -0.071680  \n",
       "\n",
       "[5 rows x 29 columns]"
      ]
     },
     "execution_count": 28,
     "metadata": {},
     "output_type": "execute_result"
    }
   ],
   "source": [
    "usedu_TX.head()"
   ]
  },
  {
   "cell_type": "code",
   "execution_count": 29,
   "metadata": {
    "scrolled": true
   },
   "outputs": [
    {
     "data": {
      "image/png": "[encoded data removed]",
      "text/plain": [
       "<Figure size 720x360 with 2 Axes>"
      ]
     },
     "metadata": {
      "needs_background": "light"
     },
     "output_type": "display_data"
    }
   ],
   "source": [
    "# Distribution of math and reading scores in Texas\n",
    "\n",
    "plt.figure( figsize = (10,5))\n",
    "\n",
    "math_scores = usedu_TX[['AVG_MATH_4_SCORE', 'AVG_MATH_8_SCORE']].values.flatten()\n",
    "reading_scores = usedu_TX[['AVG_READING_4_SCORE', 'AVG_READING_8_SCORE']].values.flatten()\n",
    "\n",
    "plt.subplot(1,2,1)\n",
    "sns.distplot(math_scores)\n",
    "plt.title('Math scores distribution')\n",
    "\n",
    "plt.subplot(1,2,2)\n",
    "sns.distplot(reading_scores)\n",
    "plt.title('Reading scores distribution')\n",
    "\n",
    "plt.show()"
   ]
  },
  {
   "cell_type": "markdown",
   "metadata": {},
   "source": [
    "## The dataset copy needs to proceed interpolation! Needs to be fixed"
   ]
  },
  {
   "cell_type": "code",
   "execution_count": 42,
   "metadata": {
    "scrolled": false
   },
   "outputs": [
    {
     "data": {
      "image/png": "[encoded data removed]",
      "text/plain": [
       "<Figure size 720x360 with 2 Axes>"
      ]
     },
     "metadata": {
      "needs_background": "light"
     },
     "output_type": "display_data"
    }
   ],
   "source": [
    "# Filling missing score values using MEAN and checking distribution\n",
    "\n",
    "# maintain copy of original dataframe before dropping na's\n",
    "usedu_copy2 = usedu_copy.copy()\n",
    "usedu_copy2['AVG_MATH_4_SCORE'] = usedu_copy2.groupby('STATE')['AVG_MATH_4_SCORE'].transform(lambda x: x.fillna(x.mean()))\n",
    "usedu_copy2['AVG_MATH_8_SCORE'] = usedu_copy2.groupby('STATE')['AVG_MATH_8_SCORE'].transform(lambda x: x.fillna(x.mean()))\n",
    "\n",
    "math_scores = usedu_copy[['AVG_MATH_4_SCORE', 'AVG_MATH_8_SCORE']].dropna().values.flatten()\n",
    "math_scores_mean_fill = usedu_copy2[['AVG_MATH_4_SCORE', 'AVG_MATH_8_SCORE']].dropna().values.flatten()\n",
    "\n",
    "plt.figure( figsize = (10,5))\n",
    "plt.subplot(1,2,1)\n",
    "sns.distplot(math_scores)\n",
    "plt.title('Old math scores distribution')\n",
    "\n",
    "plt.subplot(1,2,2)\n",
    "sns.distplot(math_scores_mean_fill)\n",
    "plt.title('Mean filled math scores distribution')\n",
    "\n",
    "plt.show()\n"
   ]
  },
  {
   "cell_type": "code",
   "execution_count": 38,
   "metadata": {
    "scrolled": false
   },
   "outputs": [
    {
     "ename": "ValueError",
     "evalue": "cannot convert float NaN to integer",
     "output_type": "error",
     "traceback": [
      "\u001b[0;31m---------------------------------------------------------------------------\u001b[0m",
      "\u001b[0;31mValueError\u001b[0m                                Traceback (most recent call last)",
      "\u001b[0;32m<ipython-input-38-9a5919799ad8>\u001b[0m in \u001b[0;36m<module>\u001b[0;34m\u001b[0m\n\u001b[1;32m     10\u001b[0m \u001b[0mplt\u001b[0m\u001b[0;34m.\u001b[0m\u001b[0mfigure\u001b[0m\u001b[0;34m(\u001b[0m \u001b[0mfigsize\u001b[0m \u001b[0;34m=\u001b[0m \u001b[0;34m(\u001b[0m\u001b[0;36m10\u001b[0m\u001b[0;34m,\u001b[0m\u001b[0;36m5\u001b[0m\u001b[0;34m)\u001b[0m\u001b[0;34m)\u001b[0m\u001b[0;34m\u001b[0m\u001b[0;34m\u001b[0m\u001b[0m\n\u001b[1;32m     11\u001b[0m \u001b[0mplt\u001b[0m\u001b[0;34m.\u001b[0m\u001b[0msubplot\u001b[0m\u001b[0;34m(\u001b[0m\u001b[0;36m1\u001b[0m\u001b[0;34m,\u001b[0m\u001b[0;36m2\u001b[0m\u001b[0;34m,\u001b[0m\u001b[0;36m1\u001b[0m\u001b[0;34m)\u001b[0m\u001b[0;34m\u001b[0m\u001b[0;34m\u001b[0m\u001b[0m\n\u001b[0;32m---> 12\u001b[0;31m \u001b[0msns\u001b[0m\u001b[0;34m.\u001b[0m\u001b[0mdistplot\u001b[0m\u001b[0;34m(\u001b[0m\u001b[0mmath_scores\u001b[0m\u001b[0;34m)\u001b[0m\u001b[0;34m\u001b[0m\u001b[0;34m\u001b[0m\u001b[0m\n\u001b[0m\u001b[1;32m     13\u001b[0m \u001b[0mplt\u001b[0m\u001b[0;34m.\u001b[0m\u001b[0mtitle\u001b[0m\u001b[0;34m(\u001b[0m\u001b[0;34m'Old math scores distribution'\u001b[0m\u001b[0;34m)\u001b[0m\u001b[0;34m\u001b[0m\u001b[0;34m\u001b[0m\u001b[0m\n\u001b[1;32m     14\u001b[0m \u001b[0;34m\u001b[0m\u001b[0m\n",
      "\u001b[0;32m~/miniconda3/lib/python3.6/site-packages/seaborn/distributions.py\u001b[0m in \u001b[0;36mdistplot\u001b[0;34m(a, bins, hist, kde, rug, fit, hist_kws, kde_kws, rug_kws, fit_kws, color, vertical, norm_hist, axlabel, label, ax)\u001b[0m\n\u001b[1;32m    213\u001b[0m     \u001b[0;32mif\u001b[0m \u001b[0mhist\u001b[0m\u001b[0;34m:\u001b[0m\u001b[0;34m\u001b[0m\u001b[0;34m\u001b[0m\u001b[0m\n\u001b[1;32m    214\u001b[0m         \u001b[0;32mif\u001b[0m \u001b[0mbins\u001b[0m \u001b[0;32mis\u001b[0m \u001b[0;32mNone\u001b[0m\u001b[0;34m:\u001b[0m\u001b[0;34m\u001b[0m\u001b[0;34m\u001b[0m\u001b[0m\n\u001b[0;32m--> 215\u001b[0;31m             \u001b[0mbins\u001b[0m \u001b[0;34m=\u001b[0m \u001b[0mmin\u001b[0m\u001b[0;34m(\u001b[0m\u001b[0m_freedman_diaconis_bins\u001b[0m\u001b[0;34m(\u001b[0m\u001b[0ma\u001b[0m\u001b[0;34m)\u001b[0m\u001b[0;34m,\u001b[0m \u001b[0;36m50\u001b[0m\u001b[0;34m)\u001b[0m\u001b[0;34m\u001b[0m\u001b[0;34m\u001b[0m\u001b[0m\n\u001b[0m\u001b[1;32m    216\u001b[0m         \u001b[0mhist_kws\u001b[0m\u001b[0;34m.\u001b[0m\u001b[0msetdefault\u001b[0m\u001b[0;34m(\u001b[0m\u001b[0;34m\"alpha\"\u001b[0m\u001b[0;34m,\u001b[0m \u001b[0;36m0.4\u001b[0m\u001b[0;34m)\u001b[0m\u001b[0;34m\u001b[0m\u001b[0;34m\u001b[0m\u001b[0m\n\u001b[1;32m    217\u001b[0m         \u001b[0;32mif\u001b[0m \u001b[0mLooseVersion\u001b[0m\u001b[0;34m(\u001b[0m\u001b[0mmpl\u001b[0m\u001b[0;34m.\u001b[0m\u001b[0m__version__\u001b[0m\u001b[0;34m)\u001b[0m \u001b[0;34m<\u001b[0m \u001b[0mLooseVersion\u001b[0m\u001b[0;34m(\u001b[0m\u001b[0;34m\"2.2\"\u001b[0m\u001b[0;34m)\u001b[0m\u001b[0;34m:\u001b[0m\u001b[0;34m\u001b[0m\u001b[0;34m\u001b[0m\u001b[0m\n",
      "\u001b[0;32m~/miniconda3/lib/python3.6/site-packages/seaborn/distributions.py\u001b[0m in \u001b[0;36m_freedman_diaconis_bins\u001b[0;34m(a)\u001b[0m\n\u001b[1;32m     37\u001b[0m         \u001b[0;32mreturn\u001b[0m \u001b[0mint\u001b[0m\u001b[0;34m(\u001b[0m\u001b[0mnp\u001b[0m\u001b[0;34m.\u001b[0m\u001b[0msqrt\u001b[0m\u001b[0;34m(\u001b[0m\u001b[0ma\u001b[0m\u001b[0;34m.\u001b[0m\u001b[0msize\u001b[0m\u001b[0;34m)\u001b[0m\u001b[0;34m)\u001b[0m\u001b[0;34m\u001b[0m\u001b[0;34m\u001b[0m\u001b[0m\n\u001b[1;32m     38\u001b[0m     \u001b[0;32melse\u001b[0m\u001b[0;34m:\u001b[0m\u001b[0;34m\u001b[0m\u001b[0;34m\u001b[0m\u001b[0m\n\u001b[0;32m---> 39\u001b[0;31m         \u001b[0;32mreturn\u001b[0m \u001b[0mint\u001b[0m\u001b[0;34m(\u001b[0m\u001b[0mnp\u001b[0m\u001b[0;34m.\u001b[0m\u001b[0mceil\u001b[0m\u001b[0;34m(\u001b[0m\u001b[0;34m(\u001b[0m\u001b[0ma\u001b[0m\u001b[0;34m.\u001b[0m\u001b[0mmax\u001b[0m\u001b[0;34m(\u001b[0m\u001b[0;34m)\u001b[0m \u001b[0;34m-\u001b[0m \u001b[0ma\u001b[0m\u001b[0;34m.\u001b[0m\u001b[0mmin\u001b[0m\u001b[0;34m(\u001b[0m\u001b[0;34m)\u001b[0m\u001b[0;34m)\u001b[0m \u001b[0;34m/\u001b[0m \u001b[0mh\u001b[0m\u001b[0;34m)\u001b[0m\u001b[0;34m)\u001b[0m\u001b[0;34m\u001b[0m\u001b[0;34m\u001b[0m\u001b[0m\n\u001b[0m\u001b[1;32m     40\u001b[0m \u001b[0;34m\u001b[0m\u001b[0m\n\u001b[1;32m     41\u001b[0m \u001b[0;34m\u001b[0m\u001b[0m\n",
      "\u001b[0;31mValueError\u001b[0m: cannot convert float NaN to integer"
     ]
    },
    {
     "data": {
      "image/png": "[encoded data removed]",
      "text/plain": [
       "<Figure size 720x360 with 1 Axes>"
      ]
     },
     "metadata": {
      "needs_background": "light"
     },
     "output_type": "display_data"
    }
   ],
   "source": [
    "# Filling missing score values using MEDIAN and checking distribution\n",
    "\n",
    "usedu_copy2 = usedu_copy.copy()\n",
    "usedu_copy2['AVG_MATH_4_SCORE'] = usedu_copy2.groupby('STATE')['AVG_MATH_4_SCORE'].transform(lambda x: x.fillna(statistics.median(x)))\n",
    "usedu_copy2['AVG_MATH_8_SCORE'] = usedu_copy2.groupby('STATE')['AVG_MATH_8_SCORE'].transform(lambda x: x.fillna(statistics.median(x)))\n",
    "\n",
    "math_scores = usedu_copy[['AVG_MATH_4_SCORE', 'AVG_MATH_8_SCORE']].values.flatten()\n",
    "math_scores_mean_fill = usedu_copy2[['AVG_MATH_4_SCORE', 'AVG_MATH_8_SCORE']].values.flatten()\n",
    "\n",
    "plt.figure( figsize = (10,5))\n",
    "plt.subplot(1,2,1)\n",
    "sns.distplot(math_scores)\n",
    "plt.title('Old math scores distribution')\n",
    "\n",
    "plt.subplot(1,2,2)\n",
    "sns.distplot(math_scores_mean_fill)\n",
    "plt.title('Mean filled math scores distribution')\n",
    "\n",
    "plt.show()"
   ]
  },
  {
   "cell_type": "code",
   "execution_count": null,
   "metadata": {},
   "outputs": [],
   "source": [
    "# Filling missing score values using Linear Interpolation and checking distribution\n",
    "\n",
    "### TO BE COMPLETED ###"
   ]
  },
  {
   "cell_type": "code",
   "execution_count": null,
   "metadata": {
    "scrolled": false
   },
   "outputs": [],
   "source": [
    "usedu_df.head()"
   ]
  }
 ],
 "metadata": {
  "kernelspec": {
   "display_name": "Python 3",
   "language": "python",
   "name": "python3"
  },
  "language_info": {
   "codemirror_mode": {
    "name": "ipython",
    "version": 3
   },
   "file_extension": ".py",
   "mimetype": "text/x-python",
   "name": "python",
   "nbconvert_exporter": "python",
   "pygments_lexer": "ipython3",
   "version": "3.6.7"
  }
 },
 "nbformat": 4,
 "nbformat_minor": 2
}
