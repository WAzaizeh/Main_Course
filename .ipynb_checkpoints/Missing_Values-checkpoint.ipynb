{
 "cells": [
  {
   "cell_type": "code",
   "execution_count": 1,
   "metadata": {},
   "outputs": [],
   "source": [
    "import pandas as pd\n",
    "import numpy as np\n",
    "from sqlalchemy import create_engine\n",
    "import warnings\n",
    "import seaborn as sns\n",
    "\n",
    "warnings.filterwarnings('ignore')"
   ]
  },
  {
   "cell_type": "code",
   "execution_count": 2,
   "metadata": {},
   "outputs": [],
   "source": [
    "postgres_user = 'dsbc_student'\n",
    "postgres_pw = '7*.8G9QH21'\n",
    "postgres_host = '142.93.121.174'\n",
    "postgres_port = '5432'\n",
    "postgres_db = 'useducation'\n",
    "\n",
    "engine = create_engine('postgresql://{}:{}@{}:{}/{}'.format(\n",
    "    postgres_user, postgres_pw, postgres_host, postgres_port, postgres_db))\n",
    "\n",
    "usedu_df = pd.read_sql_query('select * from useducation',con=engine)\n",
    "\n",
    "# no need for an open connection, \n",
    "# as we're only doing a single query\n",
    "engine.dispose()"
   ]
  },
  {
   "cell_type": "code",
   "execution_count": 3,
   "metadata": {
    "scrolled": false
   },
   "outputs": [
    {
     "name": "stdout",
     "output_type": "stream",
     "text": [
      "<class 'pandas.core.frame.DataFrame'>\n",
      "RangeIndex: 1492 entries, 0 to 1491\n",
      "Data columns (total 25 columns):\n",
      "PRIMARY_KEY                     1492 non-null object\n",
      "STATE                           1492 non-null object\n",
      "YEAR                            1492 non-null int64\n",
      "ENROLL                          1229 non-null float64\n",
      "TOTAL_REVENUE                   1280 non-null float64\n",
      "FEDERAL_REVENUE                 1280 non-null float64\n",
      "STATE_REVENUE                   1280 non-null float64\n",
      "LOCAL_REVENUE                   1280 non-null float64\n",
      "TOTAL_EXPENDITURE               1280 non-null float64\n",
      "INSTRUCTION_EXPENDITURE         1280 non-null float64\n",
      "SUPPORT_SERVICES_EXPENDITURE    1280 non-null float64\n",
      "OTHER_EXPENDITURE               1229 non-null float64\n",
      "CAPITAL_OUTLAY_EXPENDITURE      1280 non-null float64\n",
      "GRADES_PK_G                     1319 non-null float64\n",
      "GRADES_KG_G                     1360 non-null float64\n",
      "GRADES_4_G                      1361 non-null float64\n",
      "GRADES_8_G                      1361 non-null float64\n",
      "GRADES_12_G                     1361 non-null float64\n",
      "GRADES_1_8_G                    1361 non-null float64\n",
      "GRADES_9_12_G                   1361 non-null float64\n",
      "GRADES_ALL_G                    1319 non-null float64\n",
      "AVG_MATH_4_SCORE                536 non-null float64\n",
      "AVG_MATH_8_SCORE                532 non-null float64\n",
      "AVG_READING_4_SCORE             533 non-null float64\n",
      "AVG_READING_8_SCORE             498 non-null float64\n",
      "dtypes: float64(22), int64(1), object(2)\n",
      "memory usage: 291.5+ KB\n"
     ]
    }
   ],
   "source": [
    "usedu_df.info()"
   ]
  },
  {
   "cell_type": "code",
   "execution_count": 4,
   "metadata": {
    "scrolled": false
   },
   "outputs": [
    {
     "data": {
      "text/plain": [
       "PRIMARY_KEY                      0.000000\n",
       "STATE                            0.000000\n",
       "YEAR                             0.000000\n",
       "ENROLL                          17.627346\n",
       "TOTAL_REVENUE                   14.209115\n",
       "FEDERAL_REVENUE                 14.209115\n",
       "STATE_REVENUE                   14.209115\n",
       "LOCAL_REVENUE                   14.209115\n",
       "TOTAL_EXPENDITURE               14.209115\n",
       "INSTRUCTION_EXPENDITURE         14.209115\n",
       "SUPPORT_SERVICES_EXPENDITURE    14.209115\n",
       "OTHER_EXPENDITURE               17.627346\n",
       "CAPITAL_OUTLAY_EXPENDITURE      14.209115\n",
       "GRADES_PK_G                     11.595174\n",
       "GRADES_KG_G                      8.847185\n",
       "GRADES_4_G                       8.780161\n",
       "GRADES_8_G                       8.780161\n",
       "GRADES_12_G                      8.780161\n",
       "GRADES_1_8_G                     8.780161\n",
       "GRADES_9_12_G                    8.780161\n",
       "GRADES_ALL_G                    11.595174\n",
       "AVG_MATH_4_SCORE                64.075067\n",
       "AVG_MATH_8_SCORE                64.343164\n",
       "AVG_READING_4_SCORE             64.276139\n",
       "AVG_READING_8_SCORE             66.621984\n",
       "dtype: float64"
      ]
     },
     "execution_count": 4,
     "metadata": {},
     "output_type": "execute_result"
    }
   ],
   "source": [
    "usedu_df.isnull().sum()/usedu_df.shape[0]*100"
   ]
  },
  {
   "cell_type": "markdown",
   "metadata": {},
   "source": [
    "### Dealing with missing values strategy:\n",
    "- AVG_MATH & AVG_ READING columns are missing the majority of the data (65%). The data from these columns can be used to answer specific question about certain states where this proportion of data could be satisfactory to represent of the population. Otherwise, these columns can be eliminated from consideration.\n",
    "- Revenue & expenditure values can be filled multiple ways (e.g. mean by state, mean of year before and after by state)"
   ]
  },
  {
   "cell_type": "code",
   "execution_count": 17,
   "metadata": {},
   "outputs": [
    {
     "data": {
      "text/plain": [
       "1.0"
      ]
     },
     "execution_count": 17,
     "metadata": {},
     "output_type": "execute_result"
    }
   ],
   "source": [
    "pd.isnull(usedu_df[usedu_df.YEAR == 1992]['ENROLL']).sum()/(usedu_df[usedu_df.YEAR == 1992]['ENROLL'].shape[0])"
   ]
  },
  {
   "cell_type": "code",
   "execution_count": 106,
   "metadata": {},
   "outputs": [
    {
     "name": "stdout",
     "output_type": "stream",
     "text": [
      "There are 51 states with varying revenue reports\n",
      "There are 51 states with varying ependiture reports\n"
     ]
    }
   ],
   "source": [
    "# fill missing revenue and expenditure by matching by state\n",
    "\n",
    "## 1. check if revenue and expenditure values are consistent accross all states\n",
    "states = usedu_df.STATE.unique()\n",
    "revenue_expnd_state = pd.DataFrame(columns=['STATE', 'REVENUE', 'EXPENDITURE'])\n",
    "c = 0\n",
    "d = 0 \n",
    "for state in states:\n",
    "    state_df = usedu_df[usedu_df['STATE'] == state]\n",
    "    revenue_expnd_state = revenue_expnd_state.append({'STATE' : state, 'REVENUE' : state_df.TOTAL_REVENUE.mean(), \n",
    "                                'EXPENDITURE' : state_df.TOTAL_EXPENDITURE.mean()}, ignore_index=True)\n",
    "    n = state_df.TOTAL_REVENUE.nunique()\n",
    "    m = state_df.TOTAL_EXPENDITURE.nunique()\n",
    "    if n > 1 : c += 1\n",
    "    if m > 1 : d += 1\n",
    "print('There are {} states with varying revenue reports'.format(c))\n",
    "print('There are {} states with varying ependiture reports'.format(d))"
   ]
  },
  {
   "cell_type": "code",
   "execution_count": 118,
   "metadata": {},
   "outputs": [
    {
     "name": "stdout",
     "output_type": "stream",
     "text": [
      "212\n",
      "161\n"
     ]
    }
   ],
   "source": [
    "# Revenue and expenditure vary with year \n",
    "## 2. Fill revenue and expenditure values into missing rows with mean for the particular state\n",
    "print(usedu_df.TOTAL_REVENUE.isnull().sum())\n",
    "for i in range(0, len(usedu_df.TOTAL_REVENUE)):\n",
    "    if pd.isnull(usedu_df.TOTAL_REVENUE[i]):\n",
    "        usedu_df.TOTAL_REVENUE[i] = revenue_expnd_state[revenue_expnd_state['STATE'] == usedu_df.STATE[i]]['REVENUE']\n",
    "    if pd.isnull(usedu_df.TOTAL_EXPENDITURE[i]):\n",
    "        usedu_df.TOTAL_EXPENDITURE[i] = revenue_expnd_state[revenue_expnd_state['STATE'] == usedu_df.STATE[i]]['EXPENDITURE']\n",
    "print(usedu_df.TOTAL_REVENUE.isnull().sum())\n",
    "       \n",
    "    "
   ]
  },
  {
   "cell_type": "code",
   "execution_count": 127,
   "metadata": {},
   "outputs": [
    {
     "data": {
      "text/plain": [
       "<matplotlib.axes._subplots.AxesSubplot at 0x113be5080>"
      ]
     },
     "execution_count": 127,
     "metadata": {},
     "output_type": "execute_result"
    },
    {
     "data": {
      "image/png": "[encoded data removed]",
      "text/plain": [
       "<Figure size 432x288 with 1 Axes>"
      ]
     },
     "metadata": {
      "needs_background": "light"
     },
     "output_type": "display_data"
    }
   ],
   "source": [
    "small_state = revenue_expnd_state[revenue_expnd_state.REVENUE.isnull()]['STATE']\n",
    "sns.distplot(usedu_df[usedu_df.STATE.isin(small_state)]['empty_count'])"
   ]
  },
  {
   "cell_type": "code",
   "execution_count": null,
   "metadata": {},
   "outputs": [],
   "source": [
    "## seems like the data for these small locations are uninformative/ mostly missing. Cannot be interpolated!"
   ]
  },
  {
   "cell_type": "code",
   "execution_count": null,
   "metadata": {},
   "outputs": [],
   "source": [
    "#3. Use annual average instead of state average for financial columns. However, this makes less sense \n",
    "# since budget vary by state size. Using the average of the year before and the year after to fill a \n",
    "# missing value is more practical"
   ]
  }
 ],
 "metadata": {
  "kernelspec": {
   "display_name": "Python 3",
   "language": "python",
   "name": "python3"
  },
  "language_info": {
   "codemirror_mode": {
    "name": "ipython",
    "version": 3
   },
   "file_extension": ".py",
   "mimetype": "text/x-python",
   "name": "python",
   "nbconvert_exporter": "python",
   "pygments_lexer": "ipython3",
   "version": "3.6.7"
  }
 },
 "nbformat": 4,
 "nbformat_minor": 2
}
