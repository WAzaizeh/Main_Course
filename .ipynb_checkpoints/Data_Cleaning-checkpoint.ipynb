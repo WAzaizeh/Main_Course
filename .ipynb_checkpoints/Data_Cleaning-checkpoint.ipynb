{
 "cells": [
  {
   "cell_type": "code",
   "execution_count": 55,
   "metadata": {},
   "outputs": [],
   "source": [
    "import pandas as pd\n",
    "import numpy as np\n",
    "from sqlalchemy import create_engine\n",
    "import warnings\n",
    "import seaborn as sns\n",
    "import matplotlib.pyplot as plt\n",
    "from scipy.stats import zscore\n",
    "from scipy.stats.mstats import winsorize\n",
    "\n",
    "warnings.filterwarnings('ignore')"
   ]
  },
  {
   "cell_type": "code",
   "execution_count": 2,
   "metadata": {},
   "outputs": [],
   "source": [
    "postgres_user = 'dsbc_student'\n",
    "postgres_pw = '7*.8G9QH21'\n",
    "postgres_host = '142.93.121.174'\n",
    "postgres_port = '5432'\n",
    "postgres_db = 'useducation'\n",
    "\n",
    "engine = create_engine('postgresql://{}:{}@{}:{}/{}'.format(\n",
    "    postgres_user, postgres_pw, postgres_host, postgres_port, postgres_db))\n",
    "\n",
    "usedu_df = pd.read_sql_query('select * from useducation',con=engine)\n",
    "\n",
    "# no need for an open connection, \n",
    "# as we're only doing a single query\n",
    "engine.dispose()"
   ]
  },
  {
   "cell_type": "markdown",
   "metadata": {},
   "source": [
    "*** \n",
    "# Handling missing data"
   ]
  },
  {
   "cell_type": "code",
   "execution_count": 3,
   "metadata": {
    "scrolled": false
   },
   "outputs": [
    {
     "name": "stdout",
     "output_type": "stream",
     "text": [
      "<class 'pandas.core.frame.DataFrame'>\n",
      "RangeIndex: 1492 entries, 0 to 1491\n",
      "Data columns (total 25 columns):\n",
      "PRIMARY_KEY                     1492 non-null object\n",
      "STATE                           1492 non-null object\n",
      "YEAR                            1492 non-null int64\n",
      "ENROLL                          1229 non-null float64\n",
      "TOTAL_REVENUE                   1280 non-null float64\n",
      "FEDERAL_REVENUE                 1280 non-null float64\n",
      "STATE_REVENUE                   1280 non-null float64\n",
      "LOCAL_REVENUE                   1280 non-null float64\n",
      "TOTAL_EXPENDITURE               1280 non-null float64\n",
      "INSTRUCTION_EXPENDITURE         1280 non-null float64\n",
      "SUPPORT_SERVICES_EXPENDITURE    1280 non-null float64\n",
      "OTHER_EXPENDITURE               1229 non-null float64\n",
      "CAPITAL_OUTLAY_EXPENDITURE      1280 non-null float64\n",
      "GRADES_PK_G                     1319 non-null float64\n",
      "GRADES_KG_G                     1360 non-null float64\n",
      "GRADES_4_G                      1361 non-null float64\n",
      "GRADES_8_G                      1361 non-null float64\n",
      "GRADES_12_G                     1361 non-null float64\n",
      "GRADES_1_8_G                    1361 non-null float64\n",
      "GRADES_9_12_G                   1361 non-null float64\n",
      "GRADES_ALL_G                    1319 non-null float64\n",
      "AVG_MATH_4_SCORE                536 non-null float64\n",
      "AVG_MATH_8_SCORE                532 non-null float64\n",
      "AVG_READING_4_SCORE             533 non-null float64\n",
      "AVG_READING_8_SCORE             498 non-null float64\n",
      "dtypes: float64(22), int64(1), object(2)\n",
      "memory usage: 291.5+ KB\n"
     ]
    }
   ],
   "source": [
    "usedu_df.info()"
   ]
  },
  {
   "cell_type": "code",
   "execution_count": 4,
   "metadata": {
    "scrolled": false
   },
   "outputs": [
    {
     "data": {
      "text/plain": [
       "PRIMARY_KEY                      0.000000\n",
       "STATE                            0.000000\n",
       "YEAR                             0.000000\n",
       "ENROLL                          17.627346\n",
       "TOTAL_REVENUE                   14.209115\n",
       "FEDERAL_REVENUE                 14.209115\n",
       "STATE_REVENUE                   14.209115\n",
       "LOCAL_REVENUE                   14.209115\n",
       "TOTAL_EXPENDITURE               14.209115\n",
       "INSTRUCTION_EXPENDITURE         14.209115\n",
       "SUPPORT_SERVICES_EXPENDITURE    14.209115\n",
       "OTHER_EXPENDITURE               17.627346\n",
       "CAPITAL_OUTLAY_EXPENDITURE      14.209115\n",
       "GRADES_PK_G                     11.595174\n",
       "GRADES_KG_G                      8.847185\n",
       "GRADES_4_G                       8.780161\n",
       "GRADES_8_G                       8.780161\n",
       "GRADES_12_G                      8.780161\n",
       "GRADES_1_8_G                     8.780161\n",
       "GRADES_9_12_G                    8.780161\n",
       "GRADES_ALL_G                    11.595174\n",
       "AVG_MATH_4_SCORE                64.075067\n",
       "AVG_MATH_8_SCORE                64.343164\n",
       "AVG_READING_4_SCORE             64.276139\n",
       "AVG_READING_8_SCORE             66.621984\n",
       "dtype: float64"
      ]
     },
     "execution_count": 4,
     "metadata": {},
     "output_type": "execute_result"
    }
   ],
   "source": [
    "usedu_df.isnull().sum()/usedu_df.shape[0]*100"
   ]
  },
  {
   "cell_type": "markdown",
   "metadata": {},
   "source": [
    "### Dealing with missing values strategy:\n",
    "- AVG_MATH & AVG_ READING columns are missing the majority of the data (65%). The data from these columns can be used to answer specific question about certain states where this proportion of data could be satisfactory to represent of the population. Otherwise, these columns can be eliminated from consideration."
   ]
  },
  {
   "cell_type": "code",
   "execution_count": 5,
   "metadata": {
    "scrolled": false
   },
   "outputs": [
    {
     "data": {
      "text/html": [
       "<div>\n",
       "<style scoped>\n",
       "    .dataframe tbody tr th:only-of-type {\n",
       "        vertical-align: middle;\n",
       "    }\n",
       "\n",
       "    .dataframe tbody tr th {\n",
       "        vertical-align: top;\n",
       "    }\n",
       "\n",
       "    .dataframe thead th {\n",
       "        text-align: right;\n",
       "    }\n",
       "</style>\n",
       "<table border=\"1\" class=\"dataframe\">\n",
       "  <thead>\n",
       "    <tr style=\"text-align: right;\">\n",
       "      <th></th>\n",
       "      <th>PRIMARY_KEY</th>\n",
       "      <th>STATE</th>\n",
       "      <th>YEAR</th>\n",
       "      <th>ENROLL</th>\n",
       "      <th>TOTAL_REVENUE</th>\n",
       "      <th>FEDERAL_REVENUE</th>\n",
       "      <th>STATE_REVENUE</th>\n",
       "      <th>LOCAL_REVENUE</th>\n",
       "      <th>TOTAL_EXPENDITURE</th>\n",
       "      <th>INSTRUCTION_EXPENDITURE</th>\n",
       "      <th>...</th>\n",
       "      <th>OTHER_EXPENDITURE</th>\n",
       "      <th>CAPITAL_OUTLAY_EXPENDITURE</th>\n",
       "      <th>GRADES_PK_G</th>\n",
       "      <th>GRADES_KG_G</th>\n",
       "      <th>GRADES_4_G</th>\n",
       "      <th>GRADES_8_G</th>\n",
       "      <th>GRADES_12_G</th>\n",
       "      <th>GRADES_1_8_G</th>\n",
       "      <th>GRADES_9_12_G</th>\n",
       "      <th>GRADES_ALL_G</th>\n",
       "    </tr>\n",
       "  </thead>\n",
       "  <tbody>\n",
       "    <tr>\n",
       "      <th>0</th>\n",
       "      <td>1992_ALABAMA</td>\n",
       "      <td>ALABAMA</td>\n",
       "      <td>1992</td>\n",
       "      <td>NaN</td>\n",
       "      <td>2678885.0</td>\n",
       "      <td>304177.0</td>\n",
       "      <td>1659028.0</td>\n",
       "      <td>715680.0</td>\n",
       "      <td>2653798.0</td>\n",
       "      <td>1481703.0</td>\n",
       "      <td>...</td>\n",
       "      <td>NaN</td>\n",
       "      <td>174053.0</td>\n",
       "      <td>8224.0</td>\n",
       "      <td>55460.0</td>\n",
       "      <td>57948.0</td>\n",
       "      <td>58025.0</td>\n",
       "      <td>41167.0</td>\n",
       "      <td>471564.0</td>\n",
       "      <td>196386.0</td>\n",
       "      <td>676174.0</td>\n",
       "    </tr>\n",
       "    <tr>\n",
       "      <th>1</th>\n",
       "      <td>1992_ALASKA</td>\n",
       "      <td>ALASKA</td>\n",
       "      <td>1992</td>\n",
       "      <td>NaN</td>\n",
       "      <td>1049591.0</td>\n",
       "      <td>106780.0</td>\n",
       "      <td>720711.0</td>\n",
       "      <td>222100.0</td>\n",
       "      <td>972488.0</td>\n",
       "      <td>498362.0</td>\n",
       "      <td>...</td>\n",
       "      <td>NaN</td>\n",
       "      <td>37451.0</td>\n",
       "      <td>2371.0</td>\n",
       "      <td>10152.0</td>\n",
       "      <td>9748.0</td>\n",
       "      <td>8789.0</td>\n",
       "      <td>6714.0</td>\n",
       "      <td>79117.0</td>\n",
       "      <td>30847.0</td>\n",
       "      <td>112335.0</td>\n",
       "    </tr>\n",
       "    <tr>\n",
       "      <th>2</th>\n",
       "      <td>1992_ARIZONA</td>\n",
       "      <td>ARIZONA</td>\n",
       "      <td>1992</td>\n",
       "      <td>NaN</td>\n",
       "      <td>3258079.0</td>\n",
       "      <td>297888.0</td>\n",
       "      <td>1369815.0</td>\n",
       "      <td>1590376.0</td>\n",
       "      <td>3401580.0</td>\n",
       "      <td>1435908.0</td>\n",
       "      <td>...</td>\n",
       "      <td>NaN</td>\n",
       "      <td>609114.0</td>\n",
       "      <td>2544.0</td>\n",
       "      <td>53497.0</td>\n",
       "      <td>55433.0</td>\n",
       "      <td>49081.0</td>\n",
       "      <td>37410.0</td>\n",
       "      <td>437127.0</td>\n",
       "      <td>175210.0</td>\n",
       "      <td>614881.0</td>\n",
       "    </tr>\n",
       "    <tr>\n",
       "      <th>3</th>\n",
       "      <td>1992_ARKANSAS</td>\n",
       "      <td>ARKANSAS</td>\n",
       "      <td>1992</td>\n",
       "      <td>NaN</td>\n",
       "      <td>1711959.0</td>\n",
       "      <td>178571.0</td>\n",
       "      <td>958785.0</td>\n",
       "      <td>574603.0</td>\n",
       "      <td>1743022.0</td>\n",
       "      <td>964323.0</td>\n",
       "      <td>...</td>\n",
       "      <td>NaN</td>\n",
       "      <td>145212.0</td>\n",
       "      <td>808.0</td>\n",
       "      <td>33511.0</td>\n",
       "      <td>34632.0</td>\n",
       "      <td>36011.0</td>\n",
       "      <td>27651.0</td>\n",
       "      <td>281338.0</td>\n",
       "      <td>123113.0</td>\n",
       "      <td>405259.0</td>\n",
       "    </tr>\n",
       "    <tr>\n",
       "      <th>4</th>\n",
       "      <td>1992_CALIFORNIA</td>\n",
       "      <td>CALIFORNIA</td>\n",
       "      <td>1992</td>\n",
       "      <td>NaN</td>\n",
       "      <td>26260025.0</td>\n",
       "      <td>2072470.0</td>\n",
       "      <td>16546514.0</td>\n",
       "      <td>7641041.0</td>\n",
       "      <td>27138832.0</td>\n",
       "      <td>14358922.0</td>\n",
       "      <td>...</td>\n",
       "      <td>NaN</td>\n",
       "      <td>2044688.0</td>\n",
       "      <td>59067.0</td>\n",
       "      <td>431763.0</td>\n",
       "      <td>418418.0</td>\n",
       "      <td>363296.0</td>\n",
       "      <td>270675.0</td>\n",
       "      <td>3286034.0</td>\n",
       "      <td>1372011.0</td>\n",
       "      <td>4717112.0</td>\n",
       "    </tr>\n",
       "  </tbody>\n",
       "</table>\n",
       "<p>5 rows × 21 columns</p>\n",
       "</div>"
      ],
      "text/plain": [
       "       PRIMARY_KEY       STATE  YEAR  ENROLL  TOTAL_REVENUE  FEDERAL_REVENUE  \\\n",
       "0     1992_ALABAMA     ALABAMA  1992     NaN      2678885.0         304177.0   \n",
       "1      1992_ALASKA      ALASKA  1992     NaN      1049591.0         106780.0   \n",
       "2     1992_ARIZONA     ARIZONA  1992     NaN      3258079.0         297888.0   \n",
       "3    1992_ARKANSAS    ARKANSAS  1992     NaN      1711959.0         178571.0   \n",
       "4  1992_CALIFORNIA  CALIFORNIA  1992     NaN     26260025.0        2072470.0   \n",
       "\n",
       "   STATE_REVENUE  LOCAL_REVENUE  TOTAL_EXPENDITURE  INSTRUCTION_EXPENDITURE  \\\n",
       "0      1659028.0       715680.0          2653798.0                1481703.0   \n",
       "1       720711.0       222100.0           972488.0                 498362.0   \n",
       "2      1369815.0      1590376.0          3401580.0                1435908.0   \n",
       "3       958785.0       574603.0          1743022.0                 964323.0   \n",
       "4     16546514.0      7641041.0         27138832.0               14358922.0   \n",
       "\n",
       "   ...  OTHER_EXPENDITURE  CAPITAL_OUTLAY_EXPENDITURE  GRADES_PK_G  \\\n",
       "0  ...                NaN                    174053.0       8224.0   \n",
       "1  ...                NaN                     37451.0       2371.0   \n",
       "2  ...                NaN                    609114.0       2544.0   \n",
       "3  ...                NaN                    145212.0        808.0   \n",
       "4  ...                NaN                   2044688.0      59067.0   \n",
       "\n",
       "   GRADES_KG_G  GRADES_4_G  GRADES_8_G  GRADES_12_G  GRADES_1_8_G  \\\n",
       "0      55460.0     57948.0     58025.0      41167.0      471564.0   \n",
       "1      10152.0      9748.0      8789.0       6714.0       79117.0   \n",
       "2      53497.0     55433.0     49081.0      37410.0      437127.0   \n",
       "3      33511.0     34632.0     36011.0      27651.0      281338.0   \n",
       "4     431763.0    418418.0    363296.0     270675.0     3286034.0   \n",
       "\n",
       "   GRADES_9_12_G  GRADES_ALL_G  \n",
       "0       196386.0      676174.0  \n",
       "1        30847.0      112335.0  \n",
       "2       175210.0      614881.0  \n",
       "3       123113.0      405259.0  \n",
       "4      1372011.0     4717112.0  \n",
       "\n",
       "[5 rows x 21 columns]"
      ]
     },
     "execution_count": 5,
     "metadata": {},
     "output_type": "execute_result"
    }
   ],
   "source": [
    "ncol = usedu_df.shape[1]\n",
    "cols = list(range(ncol-4, ncol))\n",
    "usedu_df.drop( usedu_df.columns[cols], axis=1, inplace=True)\n",
    "usedu_df.head()"
   ]
  },
  {
   "cell_type": "markdown",
   "metadata": {},
   "source": [
    "- Enrollment data is missing for 2012. Let's look at the distribution of number of enrolled students for a particular state and see how much variability there is accross the years"
   ]
  },
  {
   "cell_type": "code",
   "execution_count": 6,
   "metadata": {},
   "outputs": [
    {
     "data": {
      "image/png": "[encoded data removed]",
      "text/plain": [
       "<Figure size 432x288 with 1 Axes>"
      ]
     },
     "metadata": {
      "needs_background": "light"
     },
     "output_type": "display_data"
    }
   ],
   "source": [
    "example_state = 'CALIFORNIA'\n",
    "ax = sns.lineplot(x='YEAR', y='ENROLL', hue='STATE', data=usedu_df[(usedu_df['ENROLL'].notnull())], legend=False)\n"
   ]
  },
  {
   "cell_type": "markdown",
   "metadata": {},
   "source": [
    "- Almost all states have a steady enrollment. Therefore, using mean to replace missing values would be a safe choice."
   ]
  },
  {
   "cell_type": "code",
   "execution_count": 7,
   "metadata": {
    "scrolled": true
   },
   "outputs": [
    {
     "data": {
      "text/plain": [
       "10.79088471849866"
      ]
     },
     "execution_count": 7,
     "metadata": {},
     "output_type": "execute_result"
    }
   ],
   "source": [
    "usedu_df['ENROLL'] = usedu_df.groupby('STATE')['ENROLL'].transform(lambda x: x.fillna(x.mean()))\n",
    "pd.isnull(usedu_df.ENROLL).sum()/usedu_df.shape[0]*100"
   ]
  },
  {
   "cell_type": "markdown",
   "metadata": {},
   "source": [
    "- The remaining 10% could be small districts/ 'states' that don't have a mean. How many other values are missing for these districts?"
   ]
  },
  {
   "cell_type": "code",
   "execution_count": 8,
   "metadata": {
    "scrolled": false
   },
   "outputs": [
    {
     "name": "stdout",
     "output_type": "stream",
     "text": [
      "161 row in this DataFrame subset\n"
     ]
    },
    {
     "data": {
      "text/plain": [
       "PRIMARY_KEY                       0.000000\n",
       "STATE                             0.000000\n",
       "YEAR                              0.000000\n",
       "ENROLL                          100.000000\n",
       "TOTAL_REVENUE                   100.000000\n",
       "FEDERAL_REVENUE                 100.000000\n",
       "STATE_REVENUE                   100.000000\n",
       "LOCAL_REVENUE                   100.000000\n",
       "TOTAL_EXPENDITURE               100.000000\n",
       "INSTRUCTION_EXPENDITURE         100.000000\n",
       "SUPPORT_SERVICES_EXPENDITURE    100.000000\n",
       "OTHER_EXPENDITURE               100.000000\n",
       "CAPITAL_OUTLAY_EXPENDITURE      100.000000\n",
       "GRADES_PK_G                      37.267081\n",
       "GRADES_KG_G                      18.633540\n",
       "GRADES_4_G                       18.012422\n",
       "GRADES_8_G                       18.012422\n",
       "GRADES_12_G                      18.012422\n",
       "GRADES_1_8_G                     18.012422\n",
       "GRADES_9_12_G                    18.012422\n",
       "GRADES_ALL_G                     37.267081\n",
       "dtype: float64"
      ]
     },
     "execution_count": 8,
     "metadata": {},
     "output_type": "execute_result"
    }
   ],
   "source": [
    "# subset of rows with ENROLL still Null\n",
    "usedu_null_df = usedu_df[usedu_df['ENROLL'].isnull()]\n",
    "print('{} row in this DataFrame subset'.format(usedu_null_df.shape[0]))\n",
    "# percent of null per column for this subset\n",
    "usedu_null_df.isnull().sum()/usedu_null_df.shape[0]*100"
   ]
  },
  {
   "cell_type": "markdown",
   "metadata": {},
   "source": [
    "- These rows are missing all financial data and any analysis that concerns financial concepts should disregard these enteries."
   ]
  },
  {
   "cell_type": "code",
   "execution_count": 9,
   "metadata": {
    "scrolled": false
   },
   "outputs": [
    {
     "name": "stdout",
     "output_type": "stream",
     "text": [
      "nrow before= 1492\n",
      "nrow after= 1331\n"
     ]
    }
   ],
   "source": [
    "print('nrow before= {}'.format(usedu_df.shape[0]))\n",
    "usedu_df = usedu_df.drop( usedu_null_df.index.tolist() )\n",
    "print('nrow after= {}'.format(usedu_df.shape[0]))"
   ]
  },
  {
   "cell_type": "markdown",
   "metadata": {},
   "source": [
    "***\n",
    "- Check how many values are still missing"
   ]
  },
  {
   "cell_type": "code",
   "execution_count": 10,
   "metadata": {},
   "outputs": [
    {
     "data": {
      "text/plain": [
       "PRIMARY_KEY                     0.000000\n",
       "STATE                           0.000000\n",
       "YEAR                            0.000000\n",
       "ENROLL                          0.000000\n",
       "TOTAL_REVENUE                   3.831705\n",
       "FEDERAL_REVENUE                 3.831705\n",
       "STATE_REVENUE                   3.831705\n",
       "LOCAL_REVENUE                   3.831705\n",
       "TOTAL_EXPENDITURE               3.831705\n",
       "INSTRUCTION_EXPENDITURE         3.831705\n",
       "SUPPORT_SERVICES_EXPENDITURE    3.831705\n",
       "OTHER_EXPENDITURE               7.663411\n",
       "CAPITAL_OUTLAY_EXPENDITURE      3.831705\n",
       "GRADES_PK_G                     8.489857\n",
       "GRADES_KG_G                     7.663411\n",
       "GRADES_4_G                      7.663411\n",
       "GRADES_8_G                      7.663411\n",
       "GRADES_12_G                     7.663411\n",
       "GRADES_1_8_G                    7.663411\n",
       "GRADES_9_12_G                   7.663411\n",
       "GRADES_ALL_G                    8.489857\n",
       "dtype: float64"
      ]
     },
     "execution_count": 10,
     "metadata": {},
     "output_type": "execute_result"
    }
   ],
   "source": [
    "usedu_df.isnull().sum()/usedu_df.shape[0]*100"
   ]
  },
  {
   "cell_type": "code",
   "execution_count": 11,
   "metadata": {
    "scrolled": false
   },
   "outputs": [
    {
     "name": "stdout",
     "output_type": "stream",
     "text": [
      "PRIMARY_KEY                         0.0               0.0         \n",
      "STATE                               0.0               0.0         \n",
      "YEAR                                0.0               0.0         \n",
      "ENROLL                              0.0               0.0         \n",
      "TOTAL_REVENUE                       3.831705484598046      0.0         \n",
      "FEDERAL_REVENUE                     3.831705484598046      0.0         \n",
      "STATE_REVENUE                       3.831705484598046      0.0         \n",
      "LOCAL_REVENUE                       3.831705484598046      0.0         \n",
      "TOTAL_EXPENDITURE                   3.831705484598046      0.0         \n",
      "INSTRUCTION_EXPENDITURE             3.831705484598046      0.0         \n",
      "SUPPORT_SERVICES_EXPENDITURE        3.831705484598046      0.0         \n",
      "OTHER_EXPENDITURE                   7.663410969196092      0.0         \n",
      "CAPITAL_OUTLAY_EXPENDITURE          3.831705484598046      0.0         \n",
      "GRADES_PK_G                         8.489857250187828      8.489857250187828\n",
      "GRADES_KG_G                         7.663410969196092      7.663410969196092\n",
      "GRADES_4_G                          7.663410969196092      7.663410969196092\n",
      "GRADES_8_G                          7.663410969196092      7.663410969196092\n",
      "GRADES_12_G                         7.663410969196092      7.663410969196092\n",
      "GRADES_1_8_G                        7.663410969196092      7.663410969196092\n",
      "GRADES_9_12_G                       7.663410969196092      7.663410969196092\n",
      "GRADES_ALL_G                        8.489857250187828      8.489857250187828\n"
     ]
    }
   ],
   "source": [
    "# Missing financial values can be filled with corresponding mean of the state\n",
    " \n",
    "revenue_cols = [col for col in usedu_df.columns if 'REVENUE' in col]\n",
    "expenditure_cols = [col for col in usedu_df.columns if 'EXPENDITURE' in col]\n",
    "before_impute = (usedu_df.isnull().sum()/usedu_df.shape[0]*100).values\n",
    "usedu_df[revenue_cols] = usedu_df.groupby(['STATE'])[revenue_cols].transform(lambda x: x.fillna(x.mean()))\n",
    "usedu_df[expenditure_cols] = usedu_df.groupby(['STATE'])[expenditure_cols].transform(lambda x: x.fillna(x.mean()))\n",
    "after_impute = (usedu_df.isnull().sum()/usedu_df.shape[0]*100).values\n",
    "impute_ind = (usedu_df.isnull().sum()/usedu_df.shape[0]*100).index\n",
    "for row in zip(impute_ind, before_impute, after_impute):\n",
    "    print('{0:<30}      {1:<12}      {2:<12}'.format(*row))\n"
   ]
  },
  {
   "cell_type": "markdown",
   "metadata": {},
   "source": [
    "### Grade values is essential data that cannot be filled in"
   ]
  },
  {
   "cell_type": "markdown",
   "metadata": {},
   "source": [
    "*** \n",
    "# Handling outliers"
   ]
  },
  {
   "cell_type": "code",
   "execution_count": 32,
   "metadata": {},
   "outputs": [
    {
     "data": {
      "image/png": "[encoded data removed]",
      "text/plain": [
       "<Figure size 432x288 with 1 Axes>"
      ]
     },
     "metadata": {
      "needs_background": "light"
     },
     "output_type": "display_data"
    }
   ],
   "source": [
    "# visualizing outliers of TOTAL REVENUE/ EXPENDITURE\n",
    "\n",
    "sns.boxplot(data= usedu_df[['TOTAL_REVENUE','TOTAL_EXPENDITURE']])\n",
    "plt.title('Boxplot of total revenue and total expenditure')\n",
    "plt.show()"
   ]
  },
  {
   "cell_type": "code",
   "execution_count": 42,
   "metadata": {},
   "outputs": [
    {
     "data": {
      "image/png": "[encoded data removed]",
      "text/plain": [
       "<Figure size 720x360 with 2 Axes>"
      ]
     },
     "metadata": {
      "needs_background": "light"
     },
     "output_type": "display_data"
    }
   ],
   "source": [
    "# histograms of TOTAL REVENUE/ EXPENDITURE\n",
    "plt.figure(figsize=(10,5))\n",
    "\n",
    "plt.subplot(1, 2, 1)\n",
    "plt.hist(usedu_df['TOTAL_REVENUE'])\n",
    "plt.title(\"histogram of revenue\")\n",
    "\n",
    "plt.subplot(1, 2, 2)\n",
    "plt.hist(usedu_df['TOTAL_EXPENDITURE'])\n",
    "plt.title(\"histogram of expenditure\")\n",
    "\n",
    "plt.show()\n"
   ]
  },
  {
   "cell_type": "code",
   "execution_count": 46,
   "metadata": {},
   "outputs": [
    {
     "name": "stdout",
     "output_type": "stream",
     "text": [
      "Total revenue outliers:\n",
      "The score threshold is: 1\n",
      "Number of outliers is: 140\n",
      "The score threshold is: 2\n",
      "Number of outliers is: 55\n",
      "The score threshold is: 3\n",
      "Number of outliers is: 39\n",
      "The score threshold is: 4\n",
      "Number of outliers is: 21\n",
      "_____________________________________________\n",
      "Total expenditure outliers:\n",
      "The score threshold is: 1\n",
      "Number of outliers is: 140\n",
      "The score threshold is: 2\n",
      "Number of outliers is: 56\n",
      "The score threshold is: 3\n",
      "Number of outliers is: 40\n",
      "The score threshold is: 4\n",
      "Number of outliers is: 23\n"
     ]
    }
   ],
   "source": [
    "# z-score test\n",
    "\n",
    "rev_z_scores = zscore(usedu_df['TOTAL_REVENUE'])\n",
    "print('Total revenue outliers:')\n",
    "for threshold in range(1,5):\n",
    "    print(\"The score threshold is: {}\".format(threshold))\n",
    "    print(\"Number of outliers is: {}\".format(len((np.where(rev_z_scores > threshold)[0]))))\n",
    "\n",
    "print('_____________________________________________')\n",
    "exp_z_scores = zscore(usedu_df['TOTAL_EXPENDITURE'])\n",
    "print('Total expenditure outliers:')\n",
    "for threshold in range(1,5):\n",
    "    print(\"The score threshold is: {}\".format(threshold))\n",
    "    print(\"Number of outliers is: {}\".format(len((np.where(exp_z_scores > threshold)[0]))))"
   ]
  },
  {
   "cell_type": "code",
   "execution_count": 54,
   "metadata": {},
   "outputs": [
    {
     "name": "stdout",
     "output_type": "stream",
     "text": [
      "Total revenue outliers:\n",
      "The score threshold is: 1.0\n",
      "Number of outliers is: 153\n",
      "The score threshold is: 1.5\n",
      "Number of outliers is: 113\n",
      "The score threshold is: 2.0\n",
      "Number of outliers is: 77\n",
      "The score threshold is: 2.5\n",
      "Number of outliers is: 55\n",
      "The score threshold is: 3.0\n",
      "Number of outliers is: 48\n",
      "The score threshold is: 3.5\n",
      "Number of outliers is: 42\n",
      "The score threshold is: 4.0\n",
      "Number of outliers is: 38\n",
      "The score threshold is: 4.5\n",
      "Number of outliers is: 33\n",
      "_____________________________________________\n",
      "Total expenditure outliers:\n",
      "The score threshold is: 1.0\n",
      "Number of outliers is: 159\n",
      "The score threshold is: 1.5\n",
      "Number of outliers is: 114\n",
      "The score threshold is: 2.0\n",
      "Number of outliers is: 83\n",
      "The score threshold is: 2.5\n",
      "Number of outliers is: 58\n",
      "The score threshold is: 3.0\n",
      "Number of outliers is: 52\n",
      "The score threshold is: 3.5\n",
      "Number of outliers is: 45\n",
      "The score threshold is: 4.0\n",
      "Number of outliers is: 40\n",
      "The score threshold is: 4.5\n",
      "Number of outliers is: 36\n"
     ]
    }
   ],
   "source": [
    "# Tukey's method for outliers\n",
    "\n",
    "q75, q25 = np.percentile(usedu_df['TOTAL_REVENUE'] , [75 ,25])\n",
    "iqr = q75 - q25\n",
    "\n",
    "print('Total revenue outliers:')\n",
    "for threshold in np.arange(1,5,0.5):\n",
    "    min_val = q25 - (iqr*threshold)\n",
    "    max_val = q75 + (iqr*threshold)\n",
    "    print(\"The score threshold is: {}\".format(threshold))\n",
    "    print(\"Number of outliers is: {}\".format(\n",
    "        len((np.where((usedu_df['TOTAL_REVENUE'] > max_val) | (usedu_df['TOTAL_REVENUE'] < min_val))[0])) ))\n",
    "\n",
    "print('_____________________________________________')\n",
    "q75, q25 = np.percentile(usedu_df['TOTAL_EXPENDITURE'], [75 ,25])\n",
    "iqr = q75 - q25\n",
    "\n",
    "print('Total expenditure outliers:')\n",
    "for threshold in np.arange(1,5,0.5):\n",
    "    min_val = q25 - (iqr*threshold)\n",
    "    max_val = q75 + (iqr*threshold)\n",
    "    print(\"The score threshold is: {}\".format(threshold))\n",
    "    print(\"Number of outliers is: {}\".format(\n",
    "        len((np.where((usedu_df['TOTAL_EXPENDITURE'] > max_val) | (usedu_df['TOTAL_EXPENDITURE'] < min_val))[0])) ))"
   ]
  },
  {
   "cell_type": "code",
   "execution_count": 132,
   "metadata": {},
   "outputs": [
    {
     "data": {
      "image/png": "[encoded data removed]",
      "text/plain": [
       "<Figure size 720x720 with 2 Axes>"
      ]
     },
     "metadata": {
      "needs_background": "light"
     },
     "output_type": "display_data"
    }
   ],
   "source": [
    "# Winsorization\n",
    "plt.figure(figsize = (10,10))\n",
    "winsorized_rev = winsorize(usedu_df['TOTAL_REVENUE'], (0.10, 0.10))\n",
    "winsorized_exp = winsorize(usedu_df['TOTAL_EXPENDITURE'], (0.10, 0.10))\n",
    "\n",
    "plt.subplot(2,1,1)\n",
    "df = pd.DataFrame(list(zip(usedu_df['TOTAL_REVENUE'], winsorized_rev)), columns =['TOTAL_REVENUE', 'WIN_TOTAL_REV']) \n",
    "sns.boxplot(data=df)\n",
    "plt.title(\"Box plot of windsorized total revenue\")\n",
    "\n",
    "plt.subplot(2,1,2)\n",
    "df = pd.DataFrame(list(zip(usedu_df['TOTAL_EXPENDITURE'], winsorized_exp)), columns =['TOTAL_EXPENDITURE', 'WIN_TOTAL_EXP']) \n",
    "sns.boxplot(data=df)\n",
    "plt.title(\"Box plot of windsorized total expenditure\")\n",
    "plt.show()"
   ]
  },
  {
   "cell_type": "code",
   "execution_count": 99,
   "metadata": {},
   "outputs": [
    {
     "data": {
      "image/png": "[encoded data removed]",
      "text/plain": [
       "<Figure size 1080x720 with 4 Axes>"
      ]
     },
     "metadata": {
      "needs_background": "light"
     },
     "output_type": "display_data"
    }
   ],
   "source": [
    "# Log transofrmation\n",
    "plt.figure(figsize = (15,10))\n",
    "\n",
    "plt.subplot(2,2,1)\n",
    "plt.hist(usedu_df['TOTAL_REVENUE'])\n",
    "plt.title(\"Histogram of total revenue\")\n",
    "\n",
    "plt.subplot(2,2,2)\n",
    "plt.hist(np.log(usedu_df['TOTAL_REVENUE']))\n",
    "plt.title(\"Histogram of log transformed total revenue\")\n",
    "\n",
    "plt.subplot(2,2,3)\n",
    "plt.hist(usedu_df['TOTAL_EXPENDITURE'])\n",
    "plt.title(\"Histogram of log total expenditure\")\n",
    "\n",
    "plt.subplot(2,2,4)\n",
    "plt.hist(np.log(usedu_df['TOTAL_EXPENDITURE']))\n",
    "plt.title(\"Histogram of log transformed total expenditure\")\n",
    "\n",
    "\n",
    "plt.show()"
   ]
  },
  {
   "cell_type": "code",
   "execution_count": 100,
   "metadata": {},
   "outputs": [
    {
     "name": "stdout",
     "output_type": "stream",
     "text": [
      "Total revenue outliers:\n",
      "The score threshold is: 1.0\n",
      "Number of outliers is: 26\n",
      "The score threshold is: 1.5\n",
      "Number of outliers is: 0\n",
      "The score threshold is: 2.0\n",
      "Number of outliers is: 0\n",
      "The score threshold is: 2.5\n",
      "Number of outliers is: 0\n",
      "The score threshold is: 3.0\n",
      "Number of outliers is: 0\n",
      "The score threshold is: 3.5\n",
      "Number of outliers is: 0\n",
      "The score threshold is: 4.0\n",
      "Number of outliers is: 0\n",
      "The score threshold is: 4.5\n",
      "Number of outliers is: 0\n",
      "_____________________________________________\n",
      "Total expenditure outliers:\n",
      "The score threshold is: 1.0\n",
      "Number of outliers is: 29\n",
      "The score threshold is: 1.5\n",
      "Number of outliers is: 0\n",
      "The score threshold is: 2.0\n",
      "Number of outliers is: 0\n",
      "The score threshold is: 2.5\n",
      "Number of outliers is: 0\n",
      "The score threshold is: 3.0\n",
      "Number of outliers is: 0\n",
      "The score threshold is: 3.5\n",
      "Number of outliers is: 0\n",
      "The score threshold is: 4.0\n",
      "Number of outliers is: 0\n",
      "The score threshold is: 4.5\n",
      "Number of outliers is: 0\n"
     ]
    }
   ],
   "source": [
    "# Effect of log trnasformation on outliers\n",
    "\n",
    "q75, q25 = np.percentile(np.log(usedu_df['TOTAL_REVENUE']), [75 ,25])\n",
    "iqr = q75 - q25\n",
    "\n",
    "print('Total revenue outliers:')\n",
    "for threshold in np.arange(1,5,0.5):\n",
    "    min_val = q25 - (iqr*threshold)\n",
    "    max_val = q75 + (iqr*threshold)\n",
    "    print(\"The score threshold is: {}\".format(threshold))\n",
    "    print(\"Number of outliers is: {}\".format(\n",
    "        len((np.where((np.log(usedu_df['TOTAL_REVENUE']) > max_val) | (np.log(usedu_df['TOTAL_REVENUE']) < min_val))[0])) ))\n",
    "\n",
    "print('_____________________________________________')\n",
    "q75, q25 = np.percentile(np.log(usedu_df['TOTAL_EXPENDITURE']), [75 ,25])\n",
    "iqr = q75 - q25\n",
    "\n",
    "print('Total expenditure outliers:')\n",
    "for threshold in np.arange(1,5,0.5):\n",
    "    min_val = q25 - (iqr*threshold)\n",
    "    max_val = q75 + (iqr*threshold)\n",
    "    print(\"The score threshold is: {}\".format(threshold))\n",
    "    print(\"Number of outliers is: {}\".format(\n",
    "        len((np.where((np.log(usedu_df['TOTAL_EXPENDITURE']) > max_val) | (np.log(usedu_df['TOTAL_EXPENDITURE']) < min_val))[0])) ))\n",
    "\n"
   ]
  },
  {
   "cell_type": "markdown",
   "metadata": {},
   "source": [
    "### The number of outliers decreased dramatically after log transformation"
   ]
  },
  {
   "cell_type": "code",
   "execution_count": 101,
   "metadata": {},
   "outputs": [],
   "source": [
    "# Will stick to log transofrmation for this example\n",
    "\n",
    "usedu_df['LOG_TOTAL_REVENUE'] = np.log( usedu_df['TOTAL_REVENUE'])\n",
    "usedu_df['LOG_TOTAL_EXPENDITURE'] = np.log( usedu_df['TOTAL_EXPENDITURE'])"
   ]
  },
  {
   "cell_type": "code",
   "execution_count": 111,
   "metadata": {},
   "outputs": [
    {
     "data": {
      "image/png": "[encoded data removed]",
      "text/plain": [
       "<Figure size 360x720 with 2 Axes>"
      ]
     },
     "metadata": {
      "needs_background": "light"
     },
     "output_type": "display_data"
    }
   ],
   "source": [
    "# Creating budget deficit column\n",
    "plt.figure( figsize = (5,10))\n",
    "\n",
    "usedu_df['BUDGET_DEFICIT'] = usedu_df['TOTAL_REVENUE'] - usedu_df['TOTAL_EXPENDITURE']\n",
    "plt.subplot(2,1,1)\n",
    "sns.boxplot( data = usedu_df['BUDGET_DEFICIT'], orient='v')\n",
    "plt.title('Boxplot of budget deficit')\n",
    "\n",
    "plt.subplot(2,1,2)\n",
    "plt.hist(usedu_df['BUDGET_DEFICIT'])\n",
    "plt.title('Histogram of budget deficit')\n",
    "plt.show()"
   ]
  },
  {
   "cell_type": "code",
   "execution_count": 112,
   "metadata": {
    "scrolled": true
   },
   "outputs": [
    {
     "name": "stdout",
     "output_type": "stream",
     "text": [
      "Budget deficit outliers:\n",
      "The score threshold is: 1.0\n",
      "Number of outliers is: 271\n",
      "The score threshold is: 1.5\n",
      "Number of outliers is: 204\n",
      "The score threshold is: 2.0\n",
      "Number of outliers is: 152\n",
      "The score threshold is: 2.5\n",
      "Number of outliers is: 121\n",
      "The score threshold is: 3.0\n",
      "Number of outliers is: 103\n",
      "The score threshold is: 3.5\n",
      "Number of outliers is: 84\n",
      "The score threshold is: 4.0\n",
      "Number of outliers is: 78\n",
      "The score threshold is: 4.5\n",
      "Number of outliers is: 67\n"
     ]
    }
   ],
   "source": [
    "# Checking outliers in budget deficit using Tukey's method\n",
    "\n",
    "q75, q25 = np.percentile(usedu_df['BUDGET_DEFICIT'] , [75 ,25])\n",
    "iqr = q75 - q25\n",
    "\n",
    "print('Budget deficit outliers:')\n",
    "for threshold in np.arange(1,5,0.5):\n",
    "    min_val = q25 - (iqr*threshold)\n",
    "    max_val = q75 + (iqr*threshold)\n",
    "    print(\"The score threshold is: {}\".format(threshold))\n",
    "    print(\"Number of outliers is: {}\".format(\n",
    "        len((np.where((usedu_df['BUDGET_DEFICIT'] > max_val) | (usedu_df['BUDGET_DEFICIT'] < min_val))[0])) ))"
   ]
  },
  {
   "cell_type": "code",
   "execution_count": 130,
   "metadata": {},
   "outputs": [
    {
     "name": "stdout",
     "output_type": "stream",
     "text": [
      "Budget deficit outliers:\n",
      "The score threshold is: 1\n",
      "Number of outliers is: 66\n",
      "The score threshold is: 2\n",
      "Number of outliers is: 19\n",
      "The score threshold is: 3\n",
      "Number of outliers is: 7\n",
      "The score threshold is: 4\n",
      "Number of outliers is: 3\n"
     ]
    }
   ],
   "source": [
    "# Checking outliers in budget deficit using z-score\n",
    "\n",
    "budget_z_scores = zscore(usedu_df['BUDGET_DEFICIT'])\n",
    "print('Budget deficit outliers:')\n",
    "for threshold in range(1,5):\n",
    "    print(\"The score threshold is: {}\".format(threshold))\n",
    "    print(\"Number of outliers is: {}\".format(len((np.where(budget_z_scores > threshold)[0]))))"
   ]
  },
  {
   "cell_type": "code",
   "execution_count": 135,
   "metadata": {},
   "outputs": [
    {
     "data": {
      "image/png": "[encoded data removed]",
      "text/plain": [
       "<Figure size 432x288 with 1 Axes>"
      ]
     },
     "metadata": {
      "needs_background": "light"
     },
     "output_type": "display_data"
    }
   ],
   "source": [
    "# Cannot log transform because of negative values\n",
    "# Use winsorization\n",
    "winsorized_budget = winsorize(usedu_df['BUDGET_DEFICIT'], (0.10, 0.10))\n",
    "\n",
    "df = pd.DataFrame(list(zip(usedu_df['BUDGET_DEFICIT'], winsorized_budget)), columns =['BUDGET_DEFICIT', 'WIN_BUDGET_DEFICIT']) \n",
    "sns.boxplot(data=df)\n",
    "plt.title(\"Box plot of windsorized budget deficit\")\n",
    "plt.show()"
   ]
  },
  {
   "cell_type": "code",
   "execution_count": 136,
   "metadata": {},
   "outputs": [
    {
     "data": {
      "image/png": "[encoded data removed]",
      "text/plain": [
       "<Figure size 720x360 with 2 Axes>"
      ]
     },
     "metadata": {
      "needs_background": "light"
     },
     "output_type": "display_data"
    }
   ],
   "source": [
    "plt.figure( figsize = (10,5))\n",
    "\n",
    "plt.subplot(1,2,1)\n",
    "plt.hist(usedu_df['BUDGET_DEFICIT'])\n",
    "plt.title('histogram of budget deficit')\n",
    "\n",
    "plt.subplot(1,2,2)\n",
    "plt.hist(winsorized_budget)\n",
    "plt.title('histogram of winsorized budget deficit')\n",
    "\n",
    "plt.show()"
   ]
  },
  {
   "cell_type": "code",
   "execution_count": 137,
   "metadata": {},
   "outputs": [
    {
     "data": {
      "image/png": "[encoded data removed]",
      "text/plain": [
       "<Figure size 360x720 with 2 Axes>"
      ]
     },
     "metadata": {
      "needs_background": "light"
     },
     "output_type": "display_data"
    }
   ],
   "source": [
    "# Creating budget deficit column from modified revenue and expenditure values\n",
    "\n",
    "plt.figure( figsize = (5,10))\n",
    "\n",
    "usedu_df['LOG_BUDGET_DEFICIT'] = usedu_df['LOG_TOTAL_REVENUE'] - usedu_df['LOG_TOTAL_EXPENDITURE']\n",
    "plt.subplot(2,1,1)\n",
    "sns.boxplot( data = usedu_df['LOG_BUDGET_DEFICIT'], orient='v')\n",
    "plt.title('Boxplot of modified budget deficit')\n",
    "\n",
    "plt.subplot(2,1,2)\n",
    "plt.hist(usedu_df['LOG_BUDGET_DEFICIT'])\n",
    "plt.title('Histogram of modified budget deficit')\n",
    "plt.show()"
   ]
  },
  {
   "cell_type": "code",
   "execution_count": 138,
   "metadata": {},
   "outputs": [
    {
     "name": "stdout",
     "output_type": "stream",
     "text": [
      "Budget deficit outliers:\n",
      "The score threshold is: 1\n",
      "Number of outliers is: 138\n",
      "The score threshold is: 2\n",
      "Number of outliers is: 30\n",
      "The score threshold is: 3\n",
      "Number of outliers is: 13\n",
      "The score threshold is: 4\n",
      "Number of outliers is: 8\n"
     ]
    }
   ],
   "source": [
    "# Checking outliers in modified budget deficit using z-score\n",
    "\n",
    "log_budget_z_scores = zscore(usedu_df['LOG_BUDGET_DEFICIT'])\n",
    "print('Budget deficit outliers:')\n",
    "for threshold in range(1,5):\n",
    "    print(\"The score threshold is: {}\".format(threshold))\n",
    "    print(\"Number of outliers is: {}\".format(len((np.where(log_budget_z_scores > threshold)[0]))))"
   ]
  },
  {
   "cell_type": "markdown",
   "metadata": {},
   "source": [
    "### There seems to be more outliers when using 'outlier eliminiated' version of revenue and expenditure"
   ]
  },
  {
   "cell_type": "code",
   "execution_count": 139,
   "metadata": {},
   "outputs": [
    {
     "data": {
      "image/png": "[encoded data removed]",
      "text/plain": [
       "<Figure size 432x288 with 1 Axes>"
      ]
     },
     "metadata": {
      "needs_background": "light"
     },
     "output_type": "display_data"
    }
   ],
   "source": [
    "# Winsorize modified budget deficit\n",
    "winsorized_log_budget = winsorize(usedu_df['LOG_BUDGET_DEFICIT'], (0.10, 0.10))\n",
    "\n",
    "df = pd.DataFrame(list(zip(usedu_df['LOG_BUDGET_DEFICIT'], winsorized_log_budget)), columns =['LOG_BUDGET_DEFICIT', 'WIN_LOG_BUDGET_DEFICIT']) \n",
    "sns.boxplot(data=df)\n",
    "plt.title(\"Box plot of windsorized modified budget deficit\")\n",
    "plt.show()"
   ]
  },
  {
   "cell_type": "code",
   "execution_count": 140,
   "metadata": {},
   "outputs": [
    {
     "data": {
      "text/html": [
       "<div>\n",
       "<style scoped>\n",
       "    .dataframe tbody tr th:only-of-type {\n",
       "        vertical-align: middle;\n",
       "    }\n",
       "\n",
       "    .dataframe tbody tr th {\n",
       "        vertical-align: top;\n",
       "    }\n",
       "\n",
       "    .dataframe thead th {\n",
       "        text-align: right;\n",
       "    }\n",
       "</style>\n",
       "<table border=\"1\" class=\"dataframe\">\n",
       "  <thead>\n",
       "    <tr style=\"text-align: right;\">\n",
       "      <th></th>\n",
       "      <th>BUDGET_DEFICIT</th>\n",
       "      <th>LOG_BUDGET_DEFICIT</th>\n",
       "    </tr>\n",
       "  </thead>\n",
       "  <tbody>\n",
       "    <tr>\n",
       "      <th>count</th>\n",
       "      <td>1.331000e+03</td>\n",
       "      <td>1331.000000</td>\n",
       "    </tr>\n",
       "    <tr>\n",
       "      <th>mean</th>\n",
       "      <td>-1.046004e+05</td>\n",
       "      <td>-0.005858</td>\n",
       "    </tr>\n",
       "    <tr>\n",
       "      <th>std</th>\n",
       "      <td>5.665994e+05</td>\n",
       "      <td>0.043523</td>\n",
       "    </tr>\n",
       "    <tr>\n",
       "      <th>min</th>\n",
       "      <td>-5.487742e+06</td>\n",
       "      <td>-0.170369</td>\n",
       "    </tr>\n",
       "    <tr>\n",
       "      <th>25%</th>\n",
       "      <td>-1.810255e+05</td>\n",
       "      <td>-0.028742</td>\n",
       "    </tr>\n",
       "    <tr>\n",
       "      <th>50%</th>\n",
       "      <td>-2.047000e+04</td>\n",
       "      <td>-0.006391</td>\n",
       "    </tr>\n",
       "    <tr>\n",
       "      <th>75%</th>\n",
       "      <td>4.897450e+04</td>\n",
       "      <td>0.015066</td>\n",
       "    </tr>\n",
       "    <tr>\n",
       "      <th>max</th>\n",
       "      <td>3.897129e+06</td>\n",
       "      <td>0.332627</td>\n",
       "    </tr>\n",
       "  </tbody>\n",
       "</table>\n",
       "</div>"
      ],
      "text/plain": [
       "       BUDGET_DEFICIT  LOG_BUDGET_DEFICIT\n",
       "count    1.331000e+03         1331.000000\n",
       "mean    -1.046004e+05           -0.005858\n",
       "std      5.665994e+05            0.043523\n",
       "min     -5.487742e+06           -0.170369\n",
       "25%     -1.810255e+05           -0.028742\n",
       "50%     -2.047000e+04           -0.006391\n",
       "75%      4.897450e+04            0.015066\n",
       "max      3.897129e+06            0.332627"
      ]
     },
     "execution_count": 140,
     "metadata": {},
     "output_type": "execute_result"
    }
   ],
   "source": [
    "usedu_df[['BUDGET_DEFICIT', 'LOG_BUDGET_DEFICIT']].describe()"
   ]
  }
 ],
 "metadata": {
  "kernelspec": {
   "display_name": "Python 3",
   "language": "python",
   "name": "python3"
  },
  "language_info": {
   "codemirror_mode": {
    "name": "ipython",
    "version": 3
   },
   "file_extension": ".py",
   "mimetype": "text/x-python",
   "name": "python",
   "nbconvert_exporter": "python",
   "pygments_lexer": "ipython3",
   "version": "3.6.7"
  }
 },
 "nbformat": 4,
 "nbformat_minor": 2
}
