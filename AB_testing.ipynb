{
 "cells": [
  {
   "cell_type": "markdown",
   "metadata": {},
   "source": [
    "# Problem:\n",
    "Humana, a health insurance company based in Louisville, Kentucky. In addition to group health insurance and both Employer Group and Individual Medicare plans, Humana offers a wide range of products and services. They offer health and supplemental insurance plans to serve all types of individuals, families, people with Medicare, servicemen, servicewomen and veterans. As part of the company's growing innovation plans, the company wanted to increase customer signup rate through their online website.\n",
    "\n",
    "Banners take up precious space on landing pages and too often become a distraction rather than serving to draw customers to prospects.\n",
    "\n",
    "# Potential solution:\n",
    "\n",
    "Often the very first thing that people see when they arrive on the landing page is the banner. That means if they aren’t optimally presented, you’re going to lose customers immediately. But optimized banners can drive more prospects. \n",
    "\n",
    "Below is the old and new banners for the Humana website. While the old banner has too much copy that is crammed into a small space, the new banner is designed like a billboard. The new design communicate the message at a quick glance and has a clear call to action that is relevant for the customer.\n",
    "\n",
    "<img src='SidebySide1-1024x481.png'>\n",
    "\n",
    "# Method: \n",
    "\n",
    "In this study, we will record user_id, timestamps,group (old/ new landing page) and conversion (signup for Humana services). The current customer conversion rate, using the old banner, is around 12%. The aim of this experiment is to determine if replacing the banner design on the landing page for Humana website would increase user conversion rate. To determine the duration of the experiment, a power analysis was conducted to discern how many users/ group are needed to detect a 3.5% increase in conversion rate with a power of 90% (from 12% to 12.42%). \n"
   ]
  },
  {
   "cell_type": "code",
   "execution_count": 154,
   "metadata": {},
   "outputs": [],
   "source": [
    "# import all necessary libraries\n",
    "import numpy as np\n",
    "import pandas as pd\n",
    "import matplotlib.pyplot as plt\n",
    "import seaborn as sns\n",
    "import scipy.stats as stats\n",
    "\n",
    "\n",
    "# set up the figure size\n",
    "%matplotlib inline\n",
    "\n",
    "# import data file\n",
    "file_path = '/Users/wesamazaizeh/Desktop/Thinkful_Main_Course/ab_data.csv'\n",
    "test_data = pd.read_csv(file_path)"
   ]
  },
  {
   "cell_type": "markdown",
   "metadata": {},
   "source": [
    "***\n",
    "## 1. Sanity chek\n",
    "### 1.1. Is any of the data duplicated? "
   ]
  },
  {
   "cell_type": "code",
   "execution_count": 2,
   "metadata": {
    "scrolled": true
   },
   "outputs": [
    {
     "name": "stdout",
     "output_type": "stream",
     "text": [
      "There is 294478 rows\n",
      "290584 of those correspond to unique user ids\n",
      "Which means, 3894 entries are duplicated\n"
     ]
    }
   ],
   "source": [
    "nrow = test_data.shape[0]\n",
    "nunique = test_data.user_id.nunique()\n",
    "print('There is {} rows'.format(nrow))\n",
    "print('{} of those correspond to unique user ids'.format(nunique))\n",
    "print('Which means, {} entries are duplicated'.format(nrow-nunique))"
   ]
  },
  {
   "cell_type": "markdown",
   "metadata": {},
   "source": [
    "### Removing duplicates. Keeping only first istance for each user"
   ]
  },
  {
   "cell_type": "code",
   "execution_count": 3,
   "metadata": {},
   "outputs": [],
   "source": [
    "test_data.drop_duplicates(subset='user_id', keep='first', inplace=True)"
   ]
  },
  {
   "cell_type": "code",
   "execution_count": 4,
   "metadata": {
    "scrolled": true
   },
   "outputs": [
    {
     "name": "stdout",
     "output_type": "stream",
     "text": [
      "There is 290584 rows\n",
      "290584 of those correspond to unique user ids\n",
      "Which means, 0 entries are duplicated\n"
     ]
    }
   ],
   "source": [
    "nrow = test_data.shape[0]\n",
    "nunique = test_data.user_id.nunique()\n",
    "print('There is {} rows'.format(nrow))\n",
    "print('{} of those correspond to unique user ids'.format(nunique))\n",
    "print('Which means, {} entries are duplicated'.format(nrow-nunique))"
   ]
  },
  {
   "cell_type": "markdown",
   "metadata": {},
   "source": [
    "### 1.2. Is all data assigned correctly?"
   ]
  },
  {
   "cell_type": "code",
   "execution_count": 5,
   "metadata": {
    "scrolled": true
   },
   "outputs": [
    {
     "name": "stdout",
     "output_type": "stream",
     "text": [
      "0.69% of control group is assigned \"new page\" and 0.71% of treatment group is assigned \"old page\"\n"
     ]
    }
   ],
   "source": [
    "error1 = test_data[(test_data['group']=='control') & (test_data['landing_page']=='new_page')].shape[0]/test_data[(test_data['group']=='control')].shape[0]\n",
    "error2 = test_data[(test_data['group']=='treatment') & (test_data['landing_page']=='old_page')].shape[0]/test_data[(test_data['group']=='treatment')].shape[0]\n",
    "print('{:.2}% of control group is assigned \"new page\" and {:.2}% of treatment group is assigned \"old page\"'.format(error1*100, error2*100))"
   ]
  },
  {
   "cell_type": "code",
   "execution_count": 7,
   "metadata": {
    "scrolled": true
   },
   "outputs": [
    {
     "name": "stdout",
     "output_type": "stream",
     "text": [
      "2044 users that have be assigned the wrong page and will be excluded\n",
      "Which leaves 290584 (99.3%) users.\n"
     ]
    }
   ],
   "source": [
    "### remove users that have conflicting assignments and save them in seperate dataframe\n",
    "exclude = test_data.loc[((test_data['group']=='control')&(test_data['landing_page']=='new_page'))|((test_data['group']=='treatment')&(test_data['landing_page']=='old_page'))]\n",
    "exc_nrow = exclude.shape[0]\n",
    "filtered_nrow = test_data.shape[0]\n",
    "print('{} users that have be assigned the wrong page and will be excluded'.format(exc_nrow))\n",
    "test_data.drop(exclude.index, inplace=True)\n",
    "print('Which leaves {} ({:.4}%) users.'.format(filtered_nrow, filtered_nrow/(filtered_nrow+exc_nrow)*100))"
   ]
  },
  {
   "cell_type": "markdown",
   "metadata": {},
   "source": [
    "## 2. Statistical Check\n",
    "### 2.1. What's the probability that a user is converted regardless of landing page layout?"
   ]
  },
  {
   "cell_type": "code",
   "execution_count": 8,
   "metadata": {},
   "outputs": [
    {
     "name": "stdout",
     "output_type": "stream",
     "text": [
      "11.95% of users from both control and treatment groups converted\n"
     ]
    }
   ],
   "source": [
    "p_converted = test_data.converted.sum()/test_data.shape[0]\n",
    "print('{:.4}% of users from both control and treatment groups converted'. format(p_converted*100))"
   ]
  },
  {
   "cell_type": "markdown",
   "metadata": {},
   "source": [
    "### 2.2. What's the probability of conversion, given the user was part of the _control_ group?"
   ]
  },
  {
   "cell_type": "code",
   "execution_count": 9,
   "metadata": {},
   "outputs": [
    {
     "name": "stdout",
     "output_type": "stream",
     "text": [
      "12.03% of users in control group converted\n"
     ]
    }
   ],
   "source": [
    "p_control_converted = test_data.query('group == \"control\"')['converted']\n",
    "p_control_converted = p_control_converted.sum()/p_control_converted.shape[0]\n",
    "print('{:.4}% of users in control group converted'. format(p_control_converted*100))"
   ]
  },
  {
   "cell_type": "markdown",
   "metadata": {},
   "source": [
    "### 2.3. What's the probability of conversion, given the user was part of the _treatment_ group?"
   ]
  },
  {
   "cell_type": "code",
   "execution_count": 10,
   "metadata": {},
   "outputs": [
    {
     "name": "stdout",
     "output_type": "stream",
     "text": [
      "11.87% of users in control group converted\n"
     ]
    }
   ],
   "source": [
    "p_treat_converted = test_data.query('group == \"treatment\"')['converted']\n",
    "p_treat_converted = p_treat_converted.sum()/p_treat_converted.shape[0]\n",
    "print('{:.4}% of users in control group converted'. format(p_treat_converted*100))"
   ]
  },
  {
   "cell_type": "markdown",
   "metadata": {},
   "source": [
    "### 2.4. Barplot visualization of 2.1 - 2.3:"
   ]
  },
  {
   "cell_type": "code",
   "execution_count": 169,
   "metadata": {
    "scrolled": true
   },
   "outputs": [
    {
     "name": "stdout",
     "output_type": "stream",
     "text": [
      "t = -1.24, p = 0.22\n"
     ]
    },
    {
     "data": {
      "image/png": "[encoded data removed]",
      "text/plain": [
       "<Figure size 432x288 with 1 Axes>"
      ]
     },
     "metadata": {},
     "output_type": "display_data"
    }
   ],
   "source": [
    "# visualization\n",
    "barplot_data = pd.DataFrame({'Probability' : (p_converted*100, p_control_converted*100, p_treat_converted*100), 'Group' : ('Total', 'Control', 'Treatment')})\n",
    "sns.set_style('whitegrid')\n",
    "sns.set(font_scale=1.2)\n",
    "sns.barplot(y = 'Probability', x = 'Group', hue = 'Group', data=barplot_data)\n",
    "plt.legend(loc='lower right')\n",
    "\n",
    "# T-test\n",
    "t_val, p_val = stats.ttest_ind(test_data[test_data.group == 'treatment'].converted,\n",
    "                          test_data[test_data.group == 'control'].converted)\n",
    "print('t = {:.2f}, p = {:.2f}'.format(t_val, p_val))"
   ]
  },
  {
   "cell_type": "markdown",
   "metadata": {},
   "source": [
    "### 2.5. Investigating other metrics"
   ]
  },
  {
   "cell_type": "code",
   "execution_count": 12,
   "metadata": {},
   "outputs": [
    {
     "data": {
      "text/html": [
       "<div>\n",
       "<style scoped>\n",
       "    .dataframe tbody tr th:only-of-type {\n",
       "        vertical-align: middle;\n",
       "    }\n",
       "\n",
       "    .dataframe tbody tr th {\n",
       "        vertical-align: top;\n",
       "    }\n",
       "\n",
       "    .dataframe thead th {\n",
       "        text-align: right;\n",
       "    }\n",
       "</style>\n",
       "<table border=\"1\" class=\"dataframe\">\n",
       "  <thead>\n",
       "    <tr style=\"text-align: right;\">\n",
       "      <th></th>\n",
       "      <th>user_id</th>\n",
       "      <th>timestamp</th>\n",
       "      <th>group</th>\n",
       "      <th>landing_page</th>\n",
       "      <th>converted</th>\n",
       "    </tr>\n",
       "  </thead>\n",
       "  <tbody>\n",
       "    <tr>\n",
       "      <th>0</th>\n",
       "      <td>851104</td>\n",
       "      <td>2017-01-21 22:11:48.556739</td>\n",
       "      <td>control</td>\n",
       "      <td>old_page</td>\n",
       "      <td>0</td>\n",
       "    </tr>\n",
       "    <tr>\n",
       "      <th>1</th>\n",
       "      <td>804228</td>\n",
       "      <td>2017-01-12 08:01:45.159739</td>\n",
       "      <td>control</td>\n",
       "      <td>old_page</td>\n",
       "      <td>0</td>\n",
       "    </tr>\n",
       "    <tr>\n",
       "      <th>2</th>\n",
       "      <td>661590</td>\n",
       "      <td>2017-01-11 16:55:06.154213</td>\n",
       "      <td>treatment</td>\n",
       "      <td>new_page</td>\n",
       "      <td>0</td>\n",
       "    </tr>\n",
       "    <tr>\n",
       "      <th>3</th>\n",
       "      <td>853541</td>\n",
       "      <td>2017-01-08 18:28:03.143765</td>\n",
       "      <td>treatment</td>\n",
       "      <td>new_page</td>\n",
       "      <td>0</td>\n",
       "    </tr>\n",
       "    <tr>\n",
       "      <th>4</th>\n",
       "      <td>864975</td>\n",
       "      <td>2017-01-21 01:52:26.210827</td>\n",
       "      <td>control</td>\n",
       "      <td>old_page</td>\n",
       "      <td>1</td>\n",
       "    </tr>\n",
       "  </tbody>\n",
       "</table>\n",
       "</div>"
      ],
      "text/plain": [
       "   user_id                   timestamp      group landing_page  converted\n",
       "0   851104  2017-01-21 22:11:48.556739    control     old_page          0\n",
       "1   804228  2017-01-12 08:01:45.159739    control     old_page          0\n",
       "2   661590  2017-01-11 16:55:06.154213  treatment     new_page          0\n",
       "3   853541  2017-01-08 18:28:03.143765  treatment     new_page          0\n",
       "4   864975  2017-01-21 01:52:26.210827    control     old_page          1"
      ]
     },
     "execution_count": 12,
     "metadata": {},
     "output_type": "execute_result"
    }
   ],
   "source": [
    "test_data.head()"
   ]
  },
  {
   "cell_type": "code",
   "execution_count": 170,
   "metadata": {
    "scrolled": false
   },
   "outputs": [
    {
     "data": {
      "image/png": "[encoded data removed]",
      "text/plain": [
       "<Figure size 432x288 with 1 Axes>"
      ]
     },
     "metadata": {},
     "output_type": "display_data"
    },
    {
     "name": "stdout",
     "output_type": "stream",
     "text": [
      "T-Test results by week\n",
      "Week 1: t = -0.69, p = 0.49\n",
      "Week 2: t = -0.74, p = 0.46\n",
      "Week 3: t = -0.54, p = 0.59\n",
      "Week 4: t = -0.53, p = 0.60\n"
     ]
    }
   ],
   "source": [
    "# Plot conversion rate by week\n",
    "test_data['timestamp'] = pd.to_datetime(test_data['timestamp'], infer_datetime_format=True)\n",
    "fig = control_data = test_data[test_data.group=='control'][['timestamp', 'converted']].groupby(by=[test_data['timestamp'].dt.week]).mean().plot()\n",
    "treatment_data = test_data[test_data.group=='treatment'][['timestamp', 'converted']].groupby(by=[test_data['timestamp'].dt.week]).mean().plot(ax = fig)\n",
    "plt.legend(['Control','Treatment'])\n",
    "plt.title('Comparing conversion rate by treatment week')\n",
    "plt.show()\n",
    "\n",
    "\n",
    "# Generate a test statistic comparing treatment and control on treatment week\n",
    "print('T-Test results by week')\n",
    "test_data['week'] = test_data['timestamp'].dt.week\n",
    "for week in sorted(test_data.week.unique()):\n",
    "    weekly_data = test_data[ test_data.week == week ]\n",
    "    t_val, p_val = stats.ttest_ind(weekly_data[weekly_data.group == 'treatment'].converted,\n",
    "                          weekly_data[weekly_data.group == 'control'].converted)\n",
    "    print('Week {}: t = {:.2f}, p = {:.2f}'.format(week, t_val, p_val))"
   ]
  },
  {
   "cell_type": "markdown",
   "metadata": {},
   "source": [
    "## 3. Power test\n",
    "### 3.1. Is the sample size big enough to detect a change?"
   ]
  },
  {
   "cell_type": "code",
   "execution_count": 120,
   "metadata": {},
   "outputs": [
    {
     "name": "stdout",
     "output_type": "stream",
     "text": [
      "The sample size required to detect a 10% increase from control conversion rate with 90% power and p<0.05 is 127348, \n",
      "which is 5-fold smaller than the study's sample size\n"
     ]
    }
   ],
   "source": [
    "# Source: http://stackoverflow.com/questions/15204070/is-there-a-python-scipy-function-to-determine-parameters-needed-to-obtain-a-ta\n",
    "\n",
    "def sample_power_probtest(p1, p2, power=0.8, sig=0.05):\n",
    "    z = norm.isf([sig/2]) #two-sided t test\n",
    "    zp = -1 * norm.isf([power]) \n",
    "    d = (p1-p2)\n",
    "    s =2*((p1+p2) /2)*(1-((p1+p2) /2))\n",
    "    n = s * ((zp + z)**2) / (d**2)\n",
    "    return int(round(n[0]))\n",
    "p_target = p_control_converted + p_control_converted*0.035\n",
    "n = sample_power_probtest(p_control_converted, p_target, power=0.9, sig=0.05)\n",
    "print(\"The sample size required to detect a {}% increase from control conversion rate with 90% power and p<0.05 is {}, \\nwhich is 5-fold smaller than the study's sample size\".format(10,n))"
   ]
  },
  {
   "cell_type": "markdown",
   "metadata": {},
   "source": [
    "### 3.2. How many visitors per day?"
   ]
  },
  {
   "cell_type": "code",
   "execution_count": 146,
   "metadata": {},
   "outputs": [
    {
     "name": "stdout",
     "output_type": "stream",
     "text": [
      "12545 users visit the website per day on average\n"
     ]
    }
   ],
   "source": [
    "test_data['day'] = test_data['timestamp'].dt.day\n",
    "day_avg = test_data.day.value_counts().mean()\n",
    "print('{:.0f} users visit the website per day on average'.format(week_avg))"
   ]
  },
  {
   "cell_type": "markdown",
   "metadata": {},
   "source": [
    "### 3.3. How long does the experiment need to run?"
   ]
  },
  {
   "cell_type": "code",
   "execution_count": 149,
   "metadata": {
    "scrolled": false
   },
   "outputs": [
    {
     "name": "stdout",
     "output_type": "stream",
     "text": [
      "Therefore, the experiment needs to be ran for 20 days at least (3 weeks).\n"
     ]
    }
   ],
   "source": [
    "print('Therefore, the experiment needs to be ran for {:.0f} days at least ({:.0f} weeks).'.format(n*2/day_avg, n*2/day_avg/7))"
   ]
  },
  {
   "cell_type": "markdown",
   "metadata": {},
   "source": [
    "## 4. Conclusion:"
   ]
  },
  {
   "cell_type": "code",
   "execution_count": null,
   "metadata": {},
   "outputs": [],
   "source": []
  }
 ],
 "metadata": {
  "kernelspec": {
   "display_name": "Python 3",
   "language": "python",
   "name": "python3"
  },
  "language_info": {
   "codemirror_mode": {
    "name": "ipython",
    "version": 3
   },
   "file_extension": ".py",
   "mimetype": "text/x-python",
   "name": "python",
   "nbconvert_exporter": "python",
   "pygments_lexer": "ipython3",
   "version": "3.6.7"
  }
 },
 "nbformat": 4,
 "nbformat_minor": 2
}
