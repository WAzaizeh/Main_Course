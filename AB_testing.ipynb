{
 "cells": [
  {
   "cell_type": "code",
   "execution_count": 75,
   "metadata": {},
   "outputs": [],
   "source": [
    "# import all necessary libraries\n",
    "import numpy as np\n",
    "import pandas as pd\n",
    "import matplotlib.pyplot as plt\n",
    "import seaborn as sns\n",
    "from scipy.stats import norm\n",
    "\n",
    "\n",
    "# set up the figure size\n",
    "%matplotlib inline\n",
    "\n",
    "# import data file\n",
    "file_path = '/Users/wesamazaizeh/Desktop/Thinkful_Main_Course/ab_data.csv'\n",
    "test_data = pd.read_csv(file_path)"
   ]
  },
  {
   "cell_type": "markdown",
   "metadata": {},
   "source": [
    "# Goal and Hypothesis:\n",
    "The goal of this A/B test is to determine if redesgining the landing page for X website would increase user conversion rate. Hypothesis: changing the landing page design will increase user conversion rate.\n",
    "\n",
    "Website users are assigned to control (seeing the old landing page) or treatment (seeing the new landing page) randomly when visiting the website. Conversion rate is measure for each user. In addition, user-id and time stamp will be collected for each landing site visit. \n",
    "\n",
    "A successful landing page will increase conversion rate by 50% more than the old layout.\n",
    "\n",
    "Power test (to be calculated)\n",
    "\n",
    "Duration long enough to collect sample size calculated\n",
    "\n",
    "Test for systematic bias by running A/A test (cannot subgroup in this particular case)\n"
   ]
  },
  {
   "cell_type": "markdown",
   "metadata": {},
   "source": [
    "***\n",
    "## 1. Sanity chek\n",
    "### 1.1. Is any of the data duplicated? "
   ]
  },
  {
   "cell_type": "code",
   "execution_count": 29,
   "metadata": {
    "scrolled": true
   },
   "outputs": [
    {
     "name": "stdout",
     "output_type": "stream",
     "text": [
      "There is 294478 rows\n",
      "290584 of those correspond to unique user ids\n",
      "Which means, 3894 entries are duplicated\n"
     ]
    }
   ],
   "source": [
    "nrow = test_data.shape[0]\n",
    "nunique = test_data.user_id.nunique()\n",
    "print('There is {} rows'.format(nrow))\n",
    "print('{} of those correspond to unique user ids'.format(nunique))\n",
    "print('Which means, {} entries are duplicated'.format(nrow-nunique))"
   ]
  },
  {
   "cell_type": "markdown",
   "metadata": {},
   "source": [
    "### Removing duplicates. Keeping only first istance for each user"
   ]
  },
  {
   "cell_type": "code",
   "execution_count": 30,
   "metadata": {},
   "outputs": [],
   "source": [
    "test_data.drop_duplicates(subset='user_id', keep='first', inplace=True)"
   ]
  },
  {
   "cell_type": "code",
   "execution_count": 31,
   "metadata": {
    "scrolled": true
   },
   "outputs": [
    {
     "name": "stdout",
     "output_type": "stream",
     "text": [
      "There is 290584 rows\n",
      "290584 of those correspond to unique user ids\n",
      "Which means, 0 entries are duplicated\n"
     ]
    }
   ],
   "source": [
    "nrow = test_data.shape[0]\n",
    "nunique = test_data.user_id.nunique()\n",
    "print('There is {} rows'.format(nrow))\n",
    "print('{} of those correspond to unique user ids'.format(nunique))\n",
    "print('Which means, {} entries are duplicated'.format(nrow-nunique))"
   ]
  },
  {
   "cell_type": "markdown",
   "metadata": {},
   "source": [
    "### 1.2. Is all data assigned correctly?"
   ]
  },
  {
   "cell_type": "code",
   "execution_count": 50,
   "metadata": {
    "scrolled": true
   },
   "outputs": [
    {
     "name": "stdout",
     "output_type": "stream",
     "text": [
      "0.0% of control group is assigned \"new page\" and 0.0% of treatment group is assigned \"old page\"\n"
     ]
    }
   ],
   "source": [
    "error1 = test_data[(test_data['group']=='control') & (test_data['landing_page']=='new_page')].shape[0]/test_data[(test_data['group']=='control')].shape[0]\n",
    "error2 = test_data[(test_data['group']=='treatment') & (test_data['landing_page']=='old_page')].shape[0]/test_data[(test_data['group']=='treatment')].shape[0]\n",
    "print('{:.2}% of control group is assigned \"new page\" and {:.2}% of treatment group is assigned \"old page\"'.format(error1*100, error2*100))"
   ]
  },
  {
   "cell_type": "code",
   "execution_count": 48,
   "metadata": {
    "scrolled": true
   },
   "outputs": [
    {
     "name": "stdout",
     "output_type": "stream",
     "text": [
      "2044 users that have be assigned the wrong page and will be excluded\n",
      "Which leaves 288540 (99.3%) users.\n"
     ]
    }
   ],
   "source": [
    "### remove users that have conflicting assignments and save them in seperate dataframe\n",
    "exc_nrow = exclude.shape[0]\n",
    "filtered_nrow = test_data.shape[0]\n",
    "exclude = test_data.loc[((test_data['group']=='control')&(test_data['landing_page']=='new_page'))|((test_data['group']=='treatment')&(test_data['landing_page']=='old_page'))]\n",
    "print('{} users that have be assigned the wrong page and will be excluded'.format(exc_nrow))\n",
    "test_data.drop(exclude.index, inplace=True)\n",
    "print('Which leaves {} ({:.4}%) users.'.format(filtered_nrow, filtered_nrow/(filtered_nrow+exc_nrow)*100))"
   ]
  },
  {
   "cell_type": "markdown",
   "metadata": {},
   "source": [
    "## 2. Statistical Check\n",
    "### 2.1. What's the probability that a user is converted regardless of landing page layout?"
   ]
  },
  {
   "cell_type": "code",
   "execution_count": 47,
   "metadata": {},
   "outputs": [
    {
     "name": "stdout",
     "output_type": "stream",
     "text": [
      "11.95% of users from both control and treatment groups converted\n"
     ]
    }
   ],
   "source": [
    "p_converted = test_data.converted.sum()/test_data.shape[0]\n",
    "print('{:.4}% of users from both control and treatment groups converted'. format(p_converted*100))"
   ]
  },
  {
   "cell_type": "markdown",
   "metadata": {},
   "source": [
    "### 2.2. What's the probability of conversion, given the user was part of the _control_ group?"
   ]
  },
  {
   "cell_type": "code",
   "execution_count": 55,
   "metadata": {},
   "outputs": [
    {
     "name": "stdout",
     "output_type": "stream",
     "text": [
      "12.03% of users in control group converted\n"
     ]
    }
   ],
   "source": [
    "p_control_converted = test_data.query('group == \"control\"')['converted']\n",
    "p_control_converted = p_control_converted.sum()/p_control_converted.shape[0]\n",
    "print('{:.4}% of users in control group converted'. format(p_control_converted*100))"
   ]
  },
  {
   "cell_type": "markdown",
   "metadata": {},
   "source": [
    "### 2.3. What's the probability of conversion, given the user was part of the _treatment_ group?"
   ]
  },
  {
   "cell_type": "code",
   "execution_count": 57,
   "metadata": {},
   "outputs": [
    {
     "name": "stdout",
     "output_type": "stream",
     "text": [
      "11.87% of users in control group converted\n"
     ]
    }
   ],
   "source": [
    "p_treat_converted = test_data.query('group == \"treatment\"')['converted']\n",
    "p_treat_converted = p_treat_converted.sum()/p_treat_converted.shape[0]\n",
    "print('{:.4}% of users in control group converted'. format(p_treat_converted*100))"
   ]
  },
  {
   "cell_type": "markdown",
   "metadata": {},
   "source": [
    "### 2.4. Barplot visualization of 2.1 - 2.3:"
   ]
  },
  {
   "cell_type": "code",
   "execution_count": 73,
   "metadata": {
    "scrolled": true
   },
   "outputs": [
    {
     "data": {
      "text/plain": [
       "<matplotlib.legend.Legend at 0x12767e438>"
      ]
     },
     "execution_count": 73,
     "metadata": {},
     "output_type": "execute_result"
    },
    {
     "data": {
      "image/png": "[encoded data removed]",
      "text/plain": [
       "<Figure size 432x288 with 1 Axes>"
      ]
     },
     "metadata": {},
     "output_type": "display_data"
    }
   ],
   "source": [
    "barplot_data = pd.DataFrame({'Probability' : (p_converted*100, p_control_converted*100, p_treat_converted*100), 'Group' : ('Total', 'Control', 'Treatment')})\n",
    "sns.set_style('whitegrid')\n",
    "sns.set(font_scale=1.2)\n",
    "sns.barplot(y = 'Probability', x = 'Group', hue = 'Group', data=barplot_data)\n",
    "plt.legend(loc='lower right')"
   ]
  },
  {
   "cell_type": "markdown",
   "metadata": {},
   "source": [
    "### 2.5. Conclusion from part 2:\n",
    "Based on the analysis above, there is no sufficient evidence to show that the new landing page increases user conversion rate. The results show that there is even a slight decrease in conversion rate when compared to the old landing page."
   ]
  },
  {
   "cell_type": "markdown",
   "metadata": {},
   "source": [
    "## 3. Power test\n",
    "### 3.1. Is the sample size big enough to detect a change?"
   ]
  },
  {
   "cell_type": "code",
   "execution_count": 87,
   "metadata": {},
   "outputs": [
    {
     "name": "stdout",
     "output_type": "stream",
     "text": [
      "The sample size required to detect a 3% increase from control conversion rate is 2727, \n",
      "which is 5-fold smaller than the study's sample size\n"
     ]
    }
   ],
   "source": [
    "# Source: http://stackoverflow.com/questions/15204070/is-there-a-python-scipy-function-to-determine-parameters-needed-to-obtain-a-ta\n",
    "\n",
    "def sample_power_probtest(p1, p2, power=0.8, sig=0.05):\n",
    "    z = norm.isf([sig/2]) #two-sided t test\n",
    "    zp = -1 * norm.isf([power]) \n",
    "    d = (p1-p2)\n",
    "    s =2*((p1+p2) /2)*(1-((p1+p2) /2))\n",
    "    n = s * ((zp + z)**2) / (d**2)\n",
    "    return int(round(n[0]))\n",
    "\n",
    "n = sample_power_probtest(0.12, 0.15, power=0.9, sig=0.05)\n",
    "print(\"The sample size required to detect a 3% increase from control conversion rate is {}, \\nwhich is 5-fold smaller than the study's sample size\".format(n))"
   ]
  },
  {
   "cell_type": "code",
   "execution_count": 26,
   "metadata": {},
   "outputs": [
    {
     "data": {
      "image/png": "[encoded data removed]",
      "text/plain": [
       "<Figure size 432x288 with 1 Axes>"
      ]
     },
     "metadata": {
      "needs_background": "light"
     },
     "output_type": "display_data"
    }
   ],
   "source": [
    "## Prepare data for plotting\n",
    "grouped_conversion = test_data.groupby(['group', 'converted']).count() #counts grouped by group (control/ treat) and converted\n",
    "grouped_conversion = grouped_conversion / grouped_conversion.groupby(level=0).sum() # convert to percentages\n",
    "unstacked_conversion = grouped_conversion['user_id'].unstack() \n",
    "#generating plot\n",
    "N = 2\n",
    "fig, ax = plt.subplots()\n",
    "ind = np.arange(N)    # the x locations for the groups\n",
    "width = 0.35          # the width of the bars\n",
    "p1 = ax.bar(ind, unstacked_conversion.iloc[1][::-1], width, color='r')\n",
    "p2 = ax.bar(ind + width, unstacked_conversion.iloc[0][::-1], width, color='b')\n",
    "# labeling and customizing plot\n",
    "ax.set_title('Percent of converted users by treatment', fontsize='large')\n",
    "ax.set_ylabel('Percentage(%)', fontsize='large')\n",
    "ax.set_xticks(ind + width / 2)\n",
    "ax.set_xticklabels(('Converted', 'Not converted'))\n",
    "ax.legend((p1[0], p2[0]), ('Control', 'Treatment'))\n",
    "plt.grid(b=False)\n",
    "plt.show()"
   ]
  },
  {
   "cell_type": "code",
   "execution_count": 24,
   "metadata": {},
   "outputs": [
    {
     "data": {
      "text/html": [
       "<div>\n",
       "<style scoped>\n",
       "    .dataframe tbody tr th:only-of-type {\n",
       "        vertical-align: middle;\n",
       "    }\n",
       "\n",
       "    .dataframe tbody tr th {\n",
       "        vertical-align: top;\n",
       "    }\n",
       "\n",
       "    .dataframe thead th {\n",
       "        text-align: right;\n",
       "    }\n",
       "</style>\n",
       "<table border=\"1\" class=\"dataframe\">\n",
       "  <thead>\n",
       "    <tr style=\"text-align: right;\">\n",
       "      <th>converted</th>\n",
       "      <th>0</th>\n",
       "      <th>1</th>\n",
       "    </tr>\n",
       "    <tr>\n",
       "      <th>group</th>\n",
       "      <th></th>\n",
       "      <th></th>\n",
       "    </tr>\n",
       "  </thead>\n",
       "  <tbody>\n",
       "    <tr>\n",
       "      <th>control</th>\n",
       "      <td>0.879601</td>\n",
       "      <td>0.120399</td>\n",
       "    </tr>\n",
       "    <tr>\n",
       "      <th>treatment</th>\n",
       "      <td>0.881080</td>\n",
       "      <td>0.118920</td>\n",
       "    </tr>\n",
       "  </tbody>\n",
       "</table>\n",
       "</div>"
      ],
      "text/plain": [
       "converted         0         1\n",
       "group                        \n",
       "control    0.879601  0.120399\n",
       "treatment  0.881080  0.118920"
      ]
     },
     "execution_count": 24,
     "metadata": {},
     "output_type": "execute_result"
    }
   ],
   "source": [
    "unstacked_conversion"
   ]
  },
  {
   "cell_type": "code",
   "execution_count": null,
   "metadata": {},
   "outputs": [],
   "source": []
  }
 ],
 "metadata": {
  "kernelspec": {
   "display_name": "Python 3",
   "language": "python",
   "name": "python3"
  },
  "language_info": {
   "codemirror_mode": {
    "name": "ipython",
    "version": 3
   },
   "file_extension": ".py",
   "mimetype": "text/x-python",
   "name": "python",
   "nbconvert_exporter": "python",
   "pygments_lexer": "ipython3",
   "version": "3.6.7"
  }
 },
 "nbformat": 4,
 "nbformat_minor": 2
}
