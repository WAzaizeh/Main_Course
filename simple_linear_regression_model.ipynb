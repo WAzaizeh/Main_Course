{
 "cells": [
  {
   "cell_type": "markdown",
   "metadata": {
    "colab_type": "text",
    "id": "taaschRrvNKJ"
   },
   "source": [
    "## Preliminary data exploration\n",
    "\n",
    "To choose the features we use in our first model, we do a brief exploratory analysis here. First, let's import the relevant libraries:"
   ]
  },
  {
   "cell_type": "code",
   "execution_count": 89,
   "metadata": {
    "colab": {},
    "colab_type": "code",
    "id": "1HlMyIdNvNKM"
   },
   "outputs": [],
   "source": [
    "import numpy as np\n",
    "import pandas as pd\n",
    "import seaborn as sns\n",
    "from sklearn import linear_model\n",
    "import matplotlib.pyplot as plt\n",
    "from sqlalchemy import create_engine\n",
    "import statsmodels.api as sm\n",
    "\n",
    "import warnings\n",
    "warnings.filterwarnings('ignore')\n",
    "\n",
    "postgres_user = 'dsbc_student'\n",
    "postgres_pw = '7*.8G9QH21'\n",
    "postgres_host = '142.93.121.174'\n",
    "postgres_port = '5432'\n",
    "postgres_db = 'houseprices'"
   ]
  },
  {
   "cell_type": "code",
   "execution_count": 4,
   "metadata": {
    "colab": {},
    "colab_type": "code",
    "id": "PfIu7fJgvNKS",
    "outputId": "dc2e0554-35ef-41db-9e6e-087d09f470ed",
    "scrolled": true
   },
   "outputs": [
    {
     "data": {
      "text/html": [
       "<div>\n",
       "<style scoped>\n",
       "    .dataframe tbody tr th:only-of-type {\n",
       "        vertical-align: middle;\n",
       "    }\n",
       "\n",
       "    .dataframe tbody tr th {\n",
       "        vertical-align: top;\n",
       "    }\n",
       "\n",
       "    .dataframe thead th {\n",
       "        text-align: right;\n",
       "    }\n",
       "</style>\n",
       "<table border=\"1\" class=\"dataframe\">\n",
       "  <thead>\n",
       "    <tr style=\"text-align: right;\">\n",
       "      <th></th>\n",
       "      <th>id</th>\n",
       "      <th>mssubclass</th>\n",
       "      <th>mszoning</th>\n",
       "      <th>lotfrontage</th>\n",
       "      <th>lotarea</th>\n",
       "      <th>street</th>\n",
       "      <th>alley</th>\n",
       "      <th>lotshape</th>\n",
       "      <th>landcontour</th>\n",
       "      <th>utilities</th>\n",
       "      <th>...</th>\n",
       "      <th>poolarea</th>\n",
       "      <th>poolqc</th>\n",
       "      <th>fence</th>\n",
       "      <th>miscfeature</th>\n",
       "      <th>miscval</th>\n",
       "      <th>mosold</th>\n",
       "      <th>yrsold</th>\n",
       "      <th>saletype</th>\n",
       "      <th>salecondition</th>\n",
       "      <th>saleprice</th>\n",
       "    </tr>\n",
       "  </thead>\n",
       "  <tbody>\n",
       "    <tr>\n",
       "      <th>0</th>\n",
       "      <td>1</td>\n",
       "      <td>60</td>\n",
       "      <td>RL</td>\n",
       "      <td>65.0</td>\n",
       "      <td>8450</td>\n",
       "      <td>Pave</td>\n",
       "      <td>None</td>\n",
       "      <td>Reg</td>\n",
       "      <td>Lvl</td>\n",
       "      <td>AllPub</td>\n",
       "      <td>...</td>\n",
       "      <td>0</td>\n",
       "      <td>None</td>\n",
       "      <td>None</td>\n",
       "      <td>None</td>\n",
       "      <td>0</td>\n",
       "      <td>2</td>\n",
       "      <td>2008</td>\n",
       "      <td>WD</td>\n",
       "      <td>Normal</td>\n",
       "      <td>208500</td>\n",
       "    </tr>\n",
       "    <tr>\n",
       "      <th>1</th>\n",
       "      <td>2</td>\n",
       "      <td>20</td>\n",
       "      <td>RL</td>\n",
       "      <td>80.0</td>\n",
       "      <td>9600</td>\n",
       "      <td>Pave</td>\n",
       "      <td>None</td>\n",
       "      <td>Reg</td>\n",
       "      <td>Lvl</td>\n",
       "      <td>AllPub</td>\n",
       "      <td>...</td>\n",
       "      <td>0</td>\n",
       "      <td>None</td>\n",
       "      <td>None</td>\n",
       "      <td>None</td>\n",
       "      <td>0</td>\n",
       "      <td>5</td>\n",
       "      <td>2007</td>\n",
       "      <td>WD</td>\n",
       "      <td>Normal</td>\n",
       "      <td>181500</td>\n",
       "    </tr>\n",
       "    <tr>\n",
       "      <th>2</th>\n",
       "      <td>3</td>\n",
       "      <td>60</td>\n",
       "      <td>RL</td>\n",
       "      <td>68.0</td>\n",
       "      <td>11250</td>\n",
       "      <td>Pave</td>\n",
       "      <td>None</td>\n",
       "      <td>IR1</td>\n",
       "      <td>Lvl</td>\n",
       "      <td>AllPub</td>\n",
       "      <td>...</td>\n",
       "      <td>0</td>\n",
       "      <td>None</td>\n",
       "      <td>None</td>\n",
       "      <td>None</td>\n",
       "      <td>0</td>\n",
       "      <td>9</td>\n",
       "      <td>2008</td>\n",
       "      <td>WD</td>\n",
       "      <td>Normal</td>\n",
       "      <td>223500</td>\n",
       "    </tr>\n",
       "    <tr>\n",
       "      <th>3</th>\n",
       "      <td>4</td>\n",
       "      <td>70</td>\n",
       "      <td>RL</td>\n",
       "      <td>60.0</td>\n",
       "      <td>9550</td>\n",
       "      <td>Pave</td>\n",
       "      <td>None</td>\n",
       "      <td>IR1</td>\n",
       "      <td>Lvl</td>\n",
       "      <td>AllPub</td>\n",
       "      <td>...</td>\n",
       "      <td>0</td>\n",
       "      <td>None</td>\n",
       "      <td>None</td>\n",
       "      <td>None</td>\n",
       "      <td>0</td>\n",
       "      <td>2</td>\n",
       "      <td>2006</td>\n",
       "      <td>WD</td>\n",
       "      <td>Abnorml</td>\n",
       "      <td>140000</td>\n",
       "    </tr>\n",
       "    <tr>\n",
       "      <th>4</th>\n",
       "      <td>5</td>\n",
       "      <td>60</td>\n",
       "      <td>RL</td>\n",
       "      <td>84.0</td>\n",
       "      <td>14260</td>\n",
       "      <td>Pave</td>\n",
       "      <td>None</td>\n",
       "      <td>IR1</td>\n",
       "      <td>Lvl</td>\n",
       "      <td>AllPub</td>\n",
       "      <td>...</td>\n",
       "      <td>0</td>\n",
       "      <td>None</td>\n",
       "      <td>None</td>\n",
       "      <td>None</td>\n",
       "      <td>0</td>\n",
       "      <td>12</td>\n",
       "      <td>2008</td>\n",
       "      <td>WD</td>\n",
       "      <td>Normal</td>\n",
       "      <td>250000</td>\n",
       "    </tr>\n",
       "    <tr>\n",
       "      <th>5</th>\n",
       "      <td>6</td>\n",
       "      <td>50</td>\n",
       "      <td>RL</td>\n",
       "      <td>85.0</td>\n",
       "      <td>14115</td>\n",
       "      <td>Pave</td>\n",
       "      <td>None</td>\n",
       "      <td>IR1</td>\n",
       "      <td>Lvl</td>\n",
       "      <td>AllPub</td>\n",
       "      <td>...</td>\n",
       "      <td>0</td>\n",
       "      <td>None</td>\n",
       "      <td>MnPrv</td>\n",
       "      <td>Shed</td>\n",
       "      <td>700</td>\n",
       "      <td>10</td>\n",
       "      <td>2009</td>\n",
       "      <td>WD</td>\n",
       "      <td>Normal</td>\n",
       "      <td>143000</td>\n",
       "    </tr>\n",
       "    <tr>\n",
       "      <th>6</th>\n",
       "      <td>7</td>\n",
       "      <td>20</td>\n",
       "      <td>RL</td>\n",
       "      <td>75.0</td>\n",
       "      <td>10084</td>\n",
       "      <td>Pave</td>\n",
       "      <td>None</td>\n",
       "      <td>Reg</td>\n",
       "      <td>Lvl</td>\n",
       "      <td>AllPub</td>\n",
       "      <td>...</td>\n",
       "      <td>0</td>\n",
       "      <td>None</td>\n",
       "      <td>None</td>\n",
       "      <td>None</td>\n",
       "      <td>0</td>\n",
       "      <td>8</td>\n",
       "      <td>2007</td>\n",
       "      <td>WD</td>\n",
       "      <td>Normal</td>\n",
       "      <td>307000</td>\n",
       "    </tr>\n",
       "    <tr>\n",
       "      <th>7</th>\n",
       "      <td>8</td>\n",
       "      <td>60</td>\n",
       "      <td>RL</td>\n",
       "      <td>NaN</td>\n",
       "      <td>10382</td>\n",
       "      <td>Pave</td>\n",
       "      <td>None</td>\n",
       "      <td>IR1</td>\n",
       "      <td>Lvl</td>\n",
       "      <td>AllPub</td>\n",
       "      <td>...</td>\n",
       "      <td>0</td>\n",
       "      <td>None</td>\n",
       "      <td>None</td>\n",
       "      <td>Shed</td>\n",
       "      <td>350</td>\n",
       "      <td>11</td>\n",
       "      <td>2009</td>\n",
       "      <td>WD</td>\n",
       "      <td>Normal</td>\n",
       "      <td>200000</td>\n",
       "    </tr>\n",
       "    <tr>\n",
       "      <th>8</th>\n",
       "      <td>9</td>\n",
       "      <td>50</td>\n",
       "      <td>RM</td>\n",
       "      <td>51.0</td>\n",
       "      <td>6120</td>\n",
       "      <td>Pave</td>\n",
       "      <td>None</td>\n",
       "      <td>Reg</td>\n",
       "      <td>Lvl</td>\n",
       "      <td>AllPub</td>\n",
       "      <td>...</td>\n",
       "      <td>0</td>\n",
       "      <td>None</td>\n",
       "      <td>None</td>\n",
       "      <td>None</td>\n",
       "      <td>0</td>\n",
       "      <td>4</td>\n",
       "      <td>2008</td>\n",
       "      <td>WD</td>\n",
       "      <td>Abnorml</td>\n",
       "      <td>129900</td>\n",
       "    </tr>\n",
       "    <tr>\n",
       "      <th>9</th>\n",
       "      <td>10</td>\n",
       "      <td>190</td>\n",
       "      <td>RL</td>\n",
       "      <td>50.0</td>\n",
       "      <td>7420</td>\n",
       "      <td>Pave</td>\n",
       "      <td>None</td>\n",
       "      <td>Reg</td>\n",
       "      <td>Lvl</td>\n",
       "      <td>AllPub</td>\n",
       "      <td>...</td>\n",
       "      <td>0</td>\n",
       "      <td>None</td>\n",
       "      <td>None</td>\n",
       "      <td>None</td>\n",
       "      <td>0</td>\n",
       "      <td>1</td>\n",
       "      <td>2008</td>\n",
       "      <td>WD</td>\n",
       "      <td>Normal</td>\n",
       "      <td>118000</td>\n",
       "    </tr>\n",
       "  </tbody>\n",
       "</table>\n",
       "<p>10 rows × 81 columns</p>\n",
       "</div>"
      ],
      "text/plain": [
       "   id  mssubclass mszoning  lotfrontage  lotarea street alley lotshape  \\\n",
       "0   1          60       RL         65.0     8450   Pave  None      Reg   \n",
       "1   2          20       RL         80.0     9600   Pave  None      Reg   \n",
       "2   3          60       RL         68.0    11250   Pave  None      IR1   \n",
       "3   4          70       RL         60.0     9550   Pave  None      IR1   \n",
       "4   5          60       RL         84.0    14260   Pave  None      IR1   \n",
       "5   6          50       RL         85.0    14115   Pave  None      IR1   \n",
       "6   7          20       RL         75.0    10084   Pave  None      Reg   \n",
       "7   8          60       RL          NaN    10382   Pave  None      IR1   \n",
       "8   9          50       RM         51.0     6120   Pave  None      Reg   \n",
       "9  10         190       RL         50.0     7420   Pave  None      Reg   \n",
       "\n",
       "  landcontour utilities  ... poolarea poolqc  fence miscfeature miscval  \\\n",
       "0         Lvl    AllPub  ...        0   None   None        None       0   \n",
       "1         Lvl    AllPub  ...        0   None   None        None       0   \n",
       "2         Lvl    AllPub  ...        0   None   None        None       0   \n",
       "3         Lvl    AllPub  ...        0   None   None        None       0   \n",
       "4         Lvl    AllPub  ...        0   None   None        None       0   \n",
       "5         Lvl    AllPub  ...        0   None  MnPrv        Shed     700   \n",
       "6         Lvl    AllPub  ...        0   None   None        None       0   \n",
       "7         Lvl    AllPub  ...        0   None   None        Shed     350   \n",
       "8         Lvl    AllPub  ...        0   None   None        None       0   \n",
       "9         Lvl    AllPub  ...        0   None   None        None       0   \n",
       "\n",
       "  mosold yrsold  saletype  salecondition  saleprice  \n",
       "0      2   2008        WD         Normal     208500  \n",
       "1      5   2007        WD         Normal     181500  \n",
       "2      9   2008        WD         Normal     223500  \n",
       "3      2   2006        WD        Abnorml     140000  \n",
       "4     12   2008        WD         Normal     250000  \n",
       "5     10   2009        WD         Normal     143000  \n",
       "6      8   2007        WD         Normal     307000  \n",
       "7     11   2009        WD         Normal     200000  \n",
       "8      4   2008        WD        Abnorml     129900  \n",
       "9      1   2008        WD         Normal     118000  \n",
       "\n",
       "[10 rows x 81 columns]"
      ]
     },
     "execution_count": 4,
     "metadata": {},
     "output_type": "execute_result"
    }
   ],
   "source": [
    "engine = create_engine('postgresql://{}:{}@{}:{}/{}'.format(\n",
    "    postgres_user, postgres_pw, postgres_host, postgres_port, postgres_db))\n",
    "houseprice_df = pd.read_sql_query('select * from houseprices',con=engine)\n",
    "\n",
    "# no need for an open connection, as we're only doing a single query\n",
    "engine.dispose()\n",
    "\n",
    "\n",
    "houseprice_df.head(10)"
   ]
  },
  {
   "cell_type": "code",
   "execution_count": 14,
   "metadata": {
    "scrolled": true
   },
   "outputs": [
    {
     "data": {
      "text/plain": [
       "id                0.000000\n",
       "mssubclass        0.000000\n",
       "mszoning          0.000000\n",
       "lotfrontage      17.739726\n",
       "lotarea           0.000000\n",
       "street            0.000000\n",
       "alley            93.767123\n",
       "lotshape          0.000000\n",
       "landcontour       0.000000\n",
       "utilities         0.000000\n",
       "lotconfig         0.000000\n",
       "landslope         0.000000\n",
       "neighborhood      0.000000\n",
       "condition1        0.000000\n",
       "condition2        0.000000\n",
       "bldgtype          0.000000\n",
       "housestyle        0.000000\n",
       "overallqual       0.000000\n",
       "overallcond       0.000000\n",
       "yearbuilt         0.000000\n",
       "yearremodadd      0.000000\n",
       "roofstyle         0.000000\n",
       "roofmatl          0.000000\n",
       "exterior1st       0.000000\n",
       "exterior2nd       0.000000\n",
       "masvnrtype        0.547945\n",
       "masvnrarea        0.547945\n",
       "exterqual         0.000000\n",
       "extercond         0.000000\n",
       "foundation        0.000000\n",
       "                   ...    \n",
       "bedroomabvgr      0.000000\n",
       "kitchenabvgr      0.000000\n",
       "kitchenqual       0.000000\n",
       "totrmsabvgrd      0.000000\n",
       "functional        0.000000\n",
       "fireplaces        0.000000\n",
       "fireplacequ      47.260274\n",
       "garagetype        5.547945\n",
       "garageyrblt       5.547945\n",
       "garagefinish      5.547945\n",
       "garagecars        0.000000\n",
       "garagearea        0.000000\n",
       "garagequal        5.547945\n",
       "garagecond        5.547945\n",
       "paveddrive        0.000000\n",
       "wooddecksf        0.000000\n",
       "openporchsf       0.000000\n",
       "enclosedporch     0.000000\n",
       "threessnporch     0.000000\n",
       "screenporch       0.000000\n",
       "poolarea          0.000000\n",
       "poolqc           99.520548\n",
       "fence            80.753425\n",
       "miscfeature      96.301370\n",
       "miscval           0.000000\n",
       "mosold            0.000000\n",
       "yrsold            0.000000\n",
       "saletype          0.000000\n",
       "salecondition     0.000000\n",
       "saleprice         0.000000\n",
       "Length: 81, dtype: float64"
      ]
     },
     "execution_count": 14,
     "metadata": {},
     "output_type": "execute_result"
    }
   ],
   "source": [
    "houseprice_df.isnull().sum()/houseprice_df.shape[0]*100"
   ]
  },
  {
   "cell_type": "code",
   "execution_count": 55,
   "metadata": {},
   "outputs": [
    {
     "name": "stdout",
     "output_type": "stream",
     "text": [
      "6 columns dropped\n"
     ]
    }
   ],
   "source": [
    "# drop columns with more than 10% missing values\n",
    "houseprice_df2 = houseprice_df.loc[:, houseprice_df.isnull().sum()/houseprice_df.shape[0] < 0.1]\n",
    "print('{} columns dropped'.format(houseprice_df.shape[1] - houseprice_df2.shape[1]))"
   ]
  },
  {
   "cell_type": "code",
   "execution_count": 56,
   "metadata": {
    "scrolled": true
   },
   "outputs": [
    {
     "data": {
      "text/plain": [
       "id               0.000000\n",
       "mssubclass       0.000000\n",
       "mszoning         0.000000\n",
       "lotarea          0.000000\n",
       "street           0.000000\n",
       "lotshape         0.000000\n",
       "landcontour      0.000000\n",
       "utilities        0.000000\n",
       "lotconfig        0.000000\n",
       "landslope        0.000000\n",
       "neighborhood     0.000000\n",
       "condition1       0.000000\n",
       "condition2       0.000000\n",
       "bldgtype         0.000000\n",
       "housestyle       0.000000\n",
       "overallqual      0.000000\n",
       "overallcond      0.000000\n",
       "yearbuilt        0.000000\n",
       "yearremodadd     0.000000\n",
       "roofstyle        0.000000\n",
       "roofmatl         0.000000\n",
       "exterior1st      0.000000\n",
       "exterior2nd      0.000000\n",
       "masvnrtype       0.547945\n",
       "masvnrarea       0.547945\n",
       "exterqual        0.000000\n",
       "extercond        0.000000\n",
       "foundation       0.000000\n",
       "bsmtqual         2.534247\n",
       "bsmtcond         2.534247\n",
       "                   ...   \n",
       "bsmtfullbath     0.000000\n",
       "bsmthalfbath     0.000000\n",
       "fullbath         0.000000\n",
       "halfbath         0.000000\n",
       "bedroomabvgr     0.000000\n",
       "kitchenabvgr     0.000000\n",
       "kitchenqual      0.000000\n",
       "totrmsabvgrd     0.000000\n",
       "functional       0.000000\n",
       "fireplaces       0.000000\n",
       "garagetype       5.547945\n",
       "garageyrblt      5.547945\n",
       "garagefinish     5.547945\n",
       "garagecars       0.000000\n",
       "garagearea       0.000000\n",
       "garagequal       5.547945\n",
       "garagecond       5.547945\n",
       "paveddrive       0.000000\n",
       "wooddecksf       0.000000\n",
       "openporchsf      0.000000\n",
       "enclosedporch    0.000000\n",
       "threessnporch    0.000000\n",
       "screenporch      0.000000\n",
       "poolarea         0.000000\n",
       "miscval          0.000000\n",
       "mosold           0.000000\n",
       "yrsold           0.000000\n",
       "saletype         0.000000\n",
       "salecondition    0.000000\n",
       "saleprice        0.000000\n",
       "Length: 75, dtype: float64"
      ]
     },
     "execution_count": 56,
     "metadata": {},
     "output_type": "execute_result"
    }
   ],
   "source": [
    "houseprice_df2.isnull().sum()/houseprice_df2.shape[0]*100"
   ]
  },
  {
   "cell_type": "code",
   "execution_count": 57,
   "metadata": {
    "scrolled": true
   },
   "outputs": [
    {
     "data": {
      "text/plain": [
       "<matplotlib.axes._subplots.AxesSubplot at 0x1143354e0>"
      ]
     },
     "execution_count": 57,
     "metadata": {},
     "output_type": "execute_result"
    },
    {
     "data": {
      "image/png": "[encoded data removed]",
      "text/plain": [
       "<Figure size 432x288 with 1 Axes>"
      ]
     },
     "metadata": {
      "needs_background": "light"
     },
     "output_type": "display_data"
    }
   ],
   "source": [
    "sns.distplot(houseprice_df2.isnull().sum(axis=1))"
   ]
  },
  {
   "cell_type": "code",
   "execution_count": 58,
   "metadata": {},
   "outputs": [
    {
     "name": "stdout",
     "output_type": "stream",
     "text": [
      "111 out of 1460 rows dropped\n"
     ]
    }
   ],
   "source": [
    "# drop rows with more than 2 missing values\n",
    "\n",
    "houseprice_df3 = houseprice_df2.loc[houseprice_df2.isnull().sum(axis=1) < 3 ,:]\n",
    "print('{} out of {} rows dropped'.format(houseprice_df2.shape[0] - houseprice_df3.shape[0], houseprice_df2.shape[0]))"
   ]
  },
  {
   "cell_type": "code",
   "execution_count": 59,
   "metadata": {
    "scrolled": true
   },
   "outputs": [
    {
     "data": {
      "text/plain": [
       "2"
      ]
     },
     "execution_count": 59,
     "metadata": {},
     "output_type": "execute_result"
    }
   ],
   "source": [
    "(houseprice_df3.isnull().sum()/houseprice_df3.shape[0]*100 > 0.1).sum()"
   ]
  },
  {
   "cell_type": "code",
   "execution_count": 30,
   "metadata": {
    "scrolled": true
   },
   "outputs": [
    {
     "data": {
      "image/png": "[encoded data removed]",
      "text/plain": [
       "<Figure size 432x288 with 1 Axes>"
      ]
     },
     "metadata": {
      "needs_background": "light"
     },
     "output_type": "display_data"
    }
   ],
   "source": [
    "sns.distplot(houseprice_df3.saleprice)\n",
    "plt.title(\"The distribution of house prices\")\n",
    "plt.xlabel(\"prices\")\n",
    "plt.ylabel(\"number of occurrence\")\n",
    "plt.show()"
   ]
  },
  {
   "cell_type": "markdown",
   "metadata": {
    "colab_type": "text",
    "id": "M0HGYFXHvNKb"
   },
   "source": [
    "At first glance, overall quality and total number of rooms  may play an important role in the house price. Let's look at whether we see some differences in sale price among houses with different building quality and num of rooms:"
   ]
  },
  {
   "cell_type": "markdown",
   "metadata": {},
   "source": [
    "# show correlation matrix for the 5 most correlated features and choose a couple that don't have collinearity"
   ]
  },
  {
   "cell_type": "code",
   "execution_count": 96,
   "metadata": {
    "colab": {},
    "colab_type": "code",
    "id": "TMc0cabIvNKd",
    "outputId": "c42bb9c9-26c7-4e4e-8277-890c0cfde838",
    "scrolled": false
   },
   "outputs": [
    {
     "data": {
      "image/png": "[encoded data removed]",
      "text/plain": [
       "<Figure size 1152x432 with 2 Axes>"
      ]
     },
     "metadata": {
      "needs_background": "light"
     },
     "output_type": "display_data"
    }
   ],
   "source": [
    "plt.figure(figsize=(16,6))\n",
    "\n",
    "\n",
    "plt.subplot(1,2,1)\n",
    "sns.barplot(x='overallqual', y='saleprice', data=houseprice_df3)\n",
    "plt.title('Average sale price wrt. overall building quality')\n",
    "plt.ylabel('Average sale price')\n",
    "plt.xlabel('Overall quality')\n",
    "\n",
    "plt.subplot(1,2,2)\n",
    "sns.barplot(x='totrmsabvgrd', y='saleprice', data=houseprice_df3)\n",
    "plt.title('Average sale price wrt. total number of rooms above ground')\n",
    "plt.ylabel('Average sale price')\n",
    "plt.xlabel('Total rooms above ground')\n",
    "\n",
    "plt.tight_layout()\n",
    "plt.show()\n"
   ]
  },
  {
   "cell_type": "markdown",
   "metadata": {
    "colab_type": "text",
    "id": "ZmAqXGvtvNKg"
   },
   "source": [
    "As can be seen in the graph, the average sale price seem to be different between each group. That is to say, on average, houses with more above ground rooms and better overall quality tend to sell for more."
   ]
  },
  {
   "cell_type": "markdown",
   "metadata": {
    "colab_type": "text",
    "id": "QP3vQ1gpvNKn"
   },
   "source": [
    "## An initial model for house sale prices\n",
    "\n",
    "Simple linear regression model and estimate it using OLS. Will use both scikit-learn and statsmodels for the sake of practice."
   ]
  },
  {
   "cell_type": "code",
   "execution_count": 93,
   "metadata": {
    "colab": {},
    "colab_type": "code",
    "id": "XVCruVHnvNKo",
    "outputId": "4a39ea0e-41f6-442b-d637-788d61abab9d",
    "scrolled": true
   },
   "outputs": [
    {
     "name": "stdout",
     "output_type": "stream",
     "text": [
      "\n",
      "Coefficients: \n",
      " [[1.31685603e-05]\n",
      " [1.09925418e-05]]\n",
      "\n",
      "Intercept: \n",
      " [3.76275068 4.4946094 ]\n"
     ]
    }
   ],
   "source": [
    "#SciKit Learn Model\n",
    "\n",
    "target = houseprice_df3[['saleprice']]\n",
    "data = houseprice_df3[['overallqual', 'totrmsabvgrd']]\n",
    "\n",
    "# Initialize linear regression model\n",
    "lrm = linear_model.LinearRegression()\n",
    "\n",
    "# fit method estimates the coefficients using OLS\n",
    "lrm.fit(target, data)\n",
    "\n",
    "# Inspect the results.\n",
    "print('\\nCoefficients: \\n', lrm.coef_)\n",
    "print('\\nIntercept: \\n', lrm.intercept_)"
   ]
  },
  {
   "cell_type": "markdown",
   "metadata": {
    "colab_type": "text",
    "id": "8ZNzXP23vNKs"
   },
   "source": [
    "`LinearRegression()`'s `fit()` method runs the OLS algorithm by default. Since we get the parameters using OLS, we can write our estimated model:\n",
    "\n",
    "$$ charges = 3.76 + 4.49 + 1.31685603e-05  *overallqual + 1.09925418e-05  *totrmsabvgrd \\qquad$$"
   ]
  },
  {
   "cell_type": "code",
   "execution_count": 101,
   "metadata": {
    "colab": {},
    "colab_type": "code",
    "id": "BvVgTfkSvNKv",
    "outputId": "0b8f1654-a3db-4ce0-b428-4f1e995bf3b0",
    "scrolled": false
   },
   "outputs": [
    {
     "data": {
      "text/html": [
       "<table class=\"simpletable\">\n",
       "<caption>OLS Regression Results</caption>\n",
       "<tr>\n",
       "  <th>Dep. Variable:</th>        <td>saleprice</td>    <th>  R-squared:         </th> <td>   0.667</td> \n",
       "</tr>\n",
       "<tr>\n",
       "  <th>Model:</th>                   <td>OLS</td>       <th>  Adj. R-squared:    </th> <td>   0.667</td> \n",
       "</tr>\n",
       "<tr>\n",
       "  <th>Method:</th>             <td>Least Squares</td>  <th>  F-statistic:       </th> <td>   1351.</td> \n",
       "</tr>\n",
       "<tr>\n",
       "  <th>Date:</th>             <td>Wed, 14 Aug 2019</td> <th>  Prob (F-statistic):</th> <td>1.73e-322</td>\n",
       "</tr>\n",
       "<tr>\n",
       "  <th>Time:</th>                 <td>13:43:19</td>     <th>  Log-Likelihood:    </th> <td> -16384.</td> \n",
       "</tr>\n",
       "<tr>\n",
       "  <th>No. Observations:</th>      <td>  1349</td>      <th>  AIC:               </th> <td>3.277e+04</td>\n",
       "</tr>\n",
       "<tr>\n",
       "  <th>Df Residuals:</th>          <td>  1346</td>      <th>  BIC:               </th> <td>3.279e+04</td>\n",
       "</tr>\n",
       "<tr>\n",
       "  <th>Df Model:</th>              <td>     2</td>      <th>                     </th>     <td> </td>    \n",
       "</tr>\n",
       "<tr>\n",
       "  <th>Covariance Type:</th>      <td>nonrobust</td>    <th>                     </th>     <td> </td>    \n",
       "</tr>\n",
       "</table>\n",
       "<table class=\"simpletable\">\n",
       "<tr>\n",
       "        <td></td>          <th>coef</th>     <th>std err</th>      <th>t</th>      <th>P>|t|</th>  <th>[0.025</th>    <th>0.975]</th>  \n",
       "</tr>\n",
       "<tr>\n",
       "  <th>const</th>        <td>-1.456e+05</td> <td> 6618.735</td> <td>  -21.994</td> <td> 0.000</td> <td>-1.59e+05</td> <td>-1.33e+05</td>\n",
       "</tr>\n",
       "<tr>\n",
       "  <th>overallqual</th>  <td> 4.014e+04</td> <td> 1042.487</td> <td>   38.503</td> <td> 0.000</td> <td> 3.81e+04</td> <td> 4.22e+04</td>\n",
       "</tr>\n",
       "<tr>\n",
       "  <th>totrmsabvgrd</th> <td> 1.263e+04</td> <td>  873.354</td> <td>   14.464</td> <td> 0.000</td> <td> 1.09e+04</td> <td> 1.43e+04</td>\n",
       "</tr>\n",
       "</table>\n",
       "<table class=\"simpletable\">\n",
       "<tr>\n",
       "  <th>Omnibus:</th>       <td>491.908</td> <th>  Durbin-Watson:     </th> <td>   1.965</td>\n",
       "</tr>\n",
       "<tr>\n",
       "  <th>Prob(Omnibus):</th> <td> 0.000</td>  <th>  Jarque-Bera (JB):  </th> <td>5353.447</td>\n",
       "</tr>\n",
       "<tr>\n",
       "  <th>Skew:</th>          <td> 1.373</td>  <th>  Prob(JB):          </th> <td>    0.00</td>\n",
       "</tr>\n",
       "<tr>\n",
       "  <th>Kurtosis:</th>      <td>12.365</td>  <th>  Cond. No.          </th> <td>    49.7</td>\n",
       "</tr>\n",
       "</table><br/><br/>Warnings:<br/>[1] Standard Errors assume that the covariance matrix of the errors is correctly specified."
      ],
      "text/plain": [
       "<class 'statsmodels.iolib.summary.Summary'>\n",
       "\"\"\"\n",
       "                            OLS Regression Results                            \n",
       "==============================================================================\n",
       "Dep. Variable:              saleprice   R-squared:                       0.667\n",
       "Model:                            OLS   Adj. R-squared:                  0.667\n",
       "Method:                 Least Squares   F-statistic:                     1351.\n",
       "Date:                Wed, 14 Aug 2019   Prob (F-statistic):          1.73e-322\n",
       "Time:                        13:43:19   Log-Likelihood:                -16384.\n",
       "No. Observations:                1349   AIC:                         3.277e+04\n",
       "Df Residuals:                    1346   BIC:                         3.279e+04\n",
       "Df Model:                           2                                         \n",
       "Covariance Type:            nonrobust                                         \n",
       "================================================================================\n",
       "                   coef    std err          t      P>|t|      [0.025      0.975]\n",
       "--------------------------------------------------------------------------------\n",
       "const        -1.456e+05   6618.735    -21.994      0.000   -1.59e+05   -1.33e+05\n",
       "overallqual   4.014e+04   1042.487     38.503      0.000    3.81e+04    4.22e+04\n",
       "totrmsabvgrd  1.263e+04    873.354     14.464      0.000    1.09e+04    1.43e+04\n",
       "==============================================================================\n",
       "Omnibus:                      491.908   Durbin-Watson:                   1.965\n",
       "Prob(Omnibus):                  0.000   Jarque-Bera (JB):             5353.447\n",
       "Skew:                           1.373   Prob(JB):                         0.00\n",
       "Kurtosis:                      12.365   Cond. No.                         49.7\n",
       "==============================================================================\n",
       "\n",
       "Warnings:\n",
       "[1] Standard Errors assume that the covariance matrix of the errors is correctly specified.\n",
       "\"\"\""
      ]
     },
     "execution_count": 101,
     "metadata": {},
     "output_type": "execute_result"
    }
   ],
   "source": [
    "# StatsModels model\n",
    "\n",
    "data = sm.add_constant(data)\n",
    "\n",
    "results = sm.OLS(target, data).fit()\n",
    "\n",
    "results.summary()"
   ]
  },
  {
   "cell_type": "markdown",
   "metadata": {},
   "source": [
    "The two models are inconsistent. SciKit Learn return two inte"
   ]
  }
 ],
 "metadata": {
  "colab": {
   "name": "2.simple_linear_regression_models.ipynb",
   "provenance": [],
   "version": "0.3.2"
  },
  "kernelspec": {
   "display_name": "Python 3",
   "language": "python",
   "name": "python3"
  },
  "language_info": {
   "codemirror_mode": {
    "name": "ipython",
    "version": 3
   },
   "file_extension": ".py",
   "mimetype": "text/x-python",
   "name": "python",
   "nbconvert_exporter": "python",
   "pygments_lexer": "ipython3",
   "version": "3.6.7"
  }
 },
 "nbformat": 4,
 "nbformat_minor": 1
}
